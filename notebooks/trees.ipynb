{
 "cells": [
  {
   "cell_type": "code",
   "execution_count": 1,
   "metadata": {
    "collapsed": false,
    "jupyter": {
     "outputs_hidden": false
    }
   },
   "outputs": [],
   "source": [
    "%display latex"
   ]
  },
  {
   "cell_type": "code",
   "execution_count": 9,
   "metadata": {
    "collapsed": false,
    "jupyter": {
     "outputs_hidden": false
    }
   },
   "outputs": [],
   "source": [
    "from itertools import product\n",
    "from itertools import permutations\n",
    "from itertools import combinations\n",
    "from collections import defaultdict\n",
    "import time"
   ]
  },
  {
   "cell_type": "code",
   "execution_count": 10,
   "metadata": {
    "collapsed": false,
    "jupyter": {
     "outputs_hidden": false
    }
   },
   "outputs": [],
   "source": [
    "#SET UP\n",
    "n =3\n",
    "q = 2\n",
    "#FF = GF(9,'c')\n",
    "FF = GF(q)\n",
    "so = FF.cardinality()^n-1\n",
    "thm = (FF.cardinality()^n-1)^(n-1)\n",
    "mult = (q-1)^(n-1)*(add([q^i for i in range(n)])^(n-2))\n",
    "G = GL(n, FF)\n",
    "M = MatrixSpace(FF,n,n)\n",
    "V = VectorSpace(FF,n)\n",
    "fact = (q^n-1)^(n-1)\n",
    "nq=gaussian_binomial(n,1,q=q)"
   ]
  },
  {
   "cell_type": "code",
   "execution_count": 11,
   "metadata": {
    "collapsed": false,
    "jupyter": {
     "outputs_hidden": false
    }
   },
   "outputs": [],
   "source": [
    "def get_hyperplanes(): #generate all hyperplanes of gl(n,q)\n",
    "    H = []\n",
    "    for i in range(n):\n",
    "        h = matrix(FF,n-1,n)\n",
    "        for j in range(n):\n",
    "            if j<i:\n",
    "                h[j,j] = 1\n",
    "            if j>i:\n",
    "                h[j-1,j] = 1\n",
    "        if i >0:\n",
    "            comblist = [p for p in product(GF(q), repeat=i)]\n",
    "            num = len(comblist)\n",
    "            for k in range(num):\n",
    "                b = h\n",
    "                v = comblist[k]\n",
    "                for l in range(i):\n",
    "                    b[l,i] = v[l]\n",
    "                H.append(copy(b))\n",
    "        else: H.append(h)\n",
    "    return H\n",
    "\n",
    "def get_singer(): #find all singer cycles in a list\n",
    "    S = []\n",
    "    for g in G:\n",
    "        if g.multiplicative_order() == so:\n",
    "            S.append(g)\n",
    "    return S\n",
    "\n",
    "def get_reg_ells():\n",
    "    S = []\n",
    "    #D = defaultdict(int)\n",
    "    #D2 = defaultdict(tuple)\n",
    "    for g in G:\n",
    "        A = M(g)\n",
    "        cp = A.charpoly()\n",
    "        if cp.is_irreducible():\n",
    "            #D[cp] += 1\n",
    "            #D2[cp] += (g,)\n",
    "            S.append(g)\n",
    "    return S\n",
    "\n",
    "def sing_with_det(alp):\n",
    "    c1=[]\n",
    "    for c in L:\n",
    "        if c.matrix().determinant() == alp:\n",
    "            c1.append(c)\n",
    "    return c1\n",
    "\n",
    "def insert_row(M,k,row):\n",
    "    return matrix(FF,M.rows()[:k]+[row]+M.rows()[k:])\n",
    "\n",
    "def get_reg_ells():\n",
    "    S = []\n",
    "    D = defaultdict(int)\n",
    "    D2 = defaultdict(tuple)\n",
    "    for g in G:\n",
    "        A = M(g)\n",
    "        cp = A.charpoly()\n",
    "        if cp.is_irreducible():\n",
    "            D[cp] += 1\n",
    "            D2[cp] += (g,)\n",
    "            S.append(g)\n",
    "    return S, D, D2\n",
    "\n",
    "#generate 1-dim vectors\n",
    "def get_v1():\n",
    "    H=get_hyperplanes()\n",
    "    vec=[]\n",
    "    for h in H:\n",
    "        m=transpose(matrix(FF,h))\n",
    "        v=kernel(m)\n",
    "        vec.append(v)\n",
    "    return vec"
   ]
  },
  {
   "cell_type": "code",
   "execution_count": 12,
   "metadata": {
    "collapsed": false,
    "jupyter": {
     "outputs_hidden": false
    }
   },
   "outputs": [],
   "source": [
    "H=get_hyperplanes()"
   ]
  },
  {
   "cell_type": "code",
   "execution_count": null,
   "metadata": {},
   "outputs": [],
   "source": []
  },
  {
   "cell_type": "code",
   "execution_count": 15,
   "metadata": {},
   "outputs": [
    {
     "data": {
      "text/html": [
       "<html><script type=\"math/tex; mode=display\">\\newcommand{\\Bold}[1]{\\mathbf{#1}}\\left[\\left(\\begin{array}{rrr}\n",
       "0 & 1 & 0 \\\\\n",
       "0 & 0 & 1\n",
       "\\end{array}\\right), \\left(\\begin{array}{rrr}\n",
       "1 & 0 & 0 \\\\\n",
       "0 & 0 & 1\n",
       "\\end{array}\\right), \\left(\\begin{array}{rrr}\n",
       "1 & 0 & 0 \\\\\n",
       "0 & 1 & 0\n",
       "\\end{array}\\right)\\right]</script></html>"
      ],
      "text/plain": [
       "[\n",
       "[0 1 0]  [1 0 0]  [1 0 0]\n",
       "[0 0 1], [0 0 1], [0 1 0]\n",
       "]"
      ]
     },
     "execution_count": 15,
     "metadata": {},
     "output_type": "execute_result"
    }
   ],
   "source": [
    "Hlist"
   ]
  },
  {
   "cell_type": "code",
   "execution_count": 14,
   "metadata": {
    "collapsed": false,
    "jupyter": {
     "outputs_hidden": false
    }
   },
   "outputs": [],
   "source": [
    "Hlist = []\n",
    "for i in range(n):\n",
    "    alp = list(range(n))\n",
    "    alp.remove(i)\n",
    "    init = matrix(FF, n-1, n, 0)\n",
    "    #zero = matrix(FF, 1, n, 0)\n",
    "    for j in range(n-1):\n",
    "        init[j, alp[j]] = 1\n",
    "    Hlist.append(init)\n",
    "\n",
    "#I HAVE NOT GENEARLIZED THIS CODE YET!!!\n",
    "#MAKE SURE TO RESET n AND THE DEFINITIONS\n",
    "#First, try to build all possible invertible matrices with a fixed diagonal support. det (1,2,1,1)\n",
    "if n == 4: \n",
    "    \n",
    "    #this builds all the v_i sequence with necessary (but not sufficient) conditions for them to be a factorization of a singer cycle\n",
    "    def invertible_vi(dlist):\n",
    "        Vm =[]\n",
    "        comblist = [p for p in product(GF(q), repeat=n-1)]   \n",
    "        '''n=4 case turn on here'''\n",
    "        [d1,d2,d3,d4]=dlist\n",
    "        m = matrix(FF,n,n,0)\n",
    "        for c in comblist:\n",
    "            #m[0,:] = [dlist[0],c[0],c[1], c[2]]\n",
    "            m[0,0],m[1,0],m[2,0],m[3,0] = d1-1, c[0], c[1], c[2]\n",
    "            for d in comblist:\n",
    "                #m[1,:] = [d[0],dlist[1]-1, d[1],d[2]]\n",
    "                m[0,1],m[1,1],m[2,1],m[3,1] = d[0],d2-1,d[1],d[2]\n",
    "                for e in comblist:\n",
    "                    #m[2,:] = [e[0],e[1],dlist[2]-1, e[2]]\n",
    "                    m[0,2],m[1,2],m[2,2],m[3,2] = e[0],e[1],d3-1,e[2]\n",
    "                    for h in comblist:\n",
    "                        #m[3,:] = [h[0],h[1],h[2],dlist[3]-1]\n",
    "                        m[0,3],m[1,3],m[2,3],m[3,3] = h[0],h[1],h[2],d4-1\n",
    "                        if m in G:\n",
    "                            Vm.append(copy(m))\n",
    "        allv = []\n",
    "        for m in Vm:\n",
    "            Rlist = []\n",
    "            for i in range(n):\n",
    "                v=vector(m[:,i])\n",
    "                v[i]=v[i]+1\n",
    "                v =vector(FF,v)\n",
    "                hyp = insert_row(Hlist[i],i,v)\n",
    "                ref = matrix(FF, hyp)\n",
    "                Rlist.append(ref)\n",
    "            allv.append(Rlist)\n",
    "        return allv\n",
    "\n",
    "\n",
    "\n",
    "    def get_regell():\n",
    "        fact = []\n",
    "        reg= []\n",
    "        notfact=[]\n",
    "        notreg=[]\n",
    "        for r in allv:\n",
    "            c = r[0]*r[1]*r[2]*r[3]\n",
    "            f= matrix(c).charpoly()\n",
    "            #if f == g:\n",
    "            if f.is_irreducible():\n",
    "            #if c.multiplicative_order() == so:\n",
    "                fact.append(r)\n",
    "                reg.append(c)\n",
    "            else:\n",
    "                notfact.append(r)\n",
    "                notreg.append(c)\n",
    "        return fact,reg,notfact,notreg\n",
    "\n",
    "    def get_sing(reg):\n",
    "        sing=[]\n",
    "        just_reg=[]\n",
    "        for g in reg:\n",
    "            if g.multiplicative_order() == so:\n",
    "                sing.append(g)\n",
    "            else:\n",
    "                just_reg.append(g)\n",
    "        return sing,just_reg\n",
    "\n",
    "\n",
    "    #singer/regellp with a fixed charpoly poly g\n",
    "    def get_singer_conj(g):\n",
    "        #g=sing[10].charpoly()\n",
    "        fact_g=[]\n",
    "        sing_g=[]\n",
    "        for rr in fact:\n",
    "            c=rr[0]*rr[1]*rr[2]*rr[3]\n",
    "            f=matrix(c).charpoly()\n",
    "            if f == g:\n",
    "                fact_g.append(rr)\n",
    "                sing_g.append(c)\n",
    "        return fact_g,sing_g\n",
    "\n",
    "if n==3:\n",
    "    def invertible_vi(dlist):\n",
    "        Vm =[]\n",
    "        comblist = [p for p in product(GF(q), repeat=n-1)]   \n",
    "        '''n = 3 case turn on here'''\n",
    "        [d1,d2,d3] = dlist\n",
    "        for c in comblist:\n",
    "            m = matrix(FF,n,n,0)\n",
    "            m[0,0],m[1,0], m[2,0] = d1-1,c[0],c[1]\n",
    "            for d in comblist:\n",
    "                m[0,1],m[1,1],m[2,1]= d[0],d2-1, d[1]\n",
    "                for e in comblist:\n",
    "                    m[0,2],m[1,2],m[2,2] = e[0],e[1],d3-1\n",
    "                    if m in G:\n",
    "                         Vm.append(copy(m))\n",
    "        allv = []\n",
    "        for m in Vm:\n",
    "            Rlist = []\n",
    "            for i in range(n):\n",
    "                v=vector(m[:,i])\n",
    "                v[i]=v[i]+1\n",
    "                v =vector(FF,v)\n",
    "                hyp = insert_row(Hlist[i],i,v)\n",
    "                ref = matrix(FF, hyp)\n",
    "                Rlist.append(ref)\n",
    "            allv.append(Rlist)\n",
    "        return allv\n",
    "\n",
    "\n",
    "\n",
    "    def get_regell():\n",
    "        fact = []\n",
    "        reg= []\n",
    "        notfact=[]\n",
    "        notreg=[]\n",
    "        for r in allv:\n",
    "            c = r[0]*r[1]*r[2]\n",
    "            f= matrix(c).charpoly()\n",
    "            #if f == g:\n",
    "            if f.is_irreducible():\n",
    "            #if c.multiplicative_order() == so:\n",
    "                fact.append(r)\n",
    "                reg.append(c)\n",
    "            else:\n",
    "                notfact.append(r)\n",
    "                notreg.append(c)\n",
    "        return fact,reg,notfact,notreg\n",
    "\n",
    "    def get_sing(reg):\n",
    "        sing=[]\n",
    "        just_reg=[]\n",
    "        for g in reg:\n",
    "            if g.multiplicative_order() == so:\n",
    "                sing.append(g)\n",
    "            else:\n",
    "                just_reg.append(g)\n",
    "        return sing,just_reg\n",
    "\n",
    "\n",
    "    #singer/regellp with a fixed charpoly poly g\n",
    "    def get_singer_conj(g):\n",
    "        #g=sing[10].charpoly()\n",
    "        fact_g=[]\n",
    "        sing_g=[]\n",
    "        for rr in fact:\n",
    "            c=rr[0]*rr[1]*rr[2]\n",
    "            f=matrix(c).charpoly()\n",
    "            if f == g:\n",
    "                fact_g.append(rr)\n",
    "                sing_g.append(c)\n",
    "        return fact_g,sing_g"
   ]
  },
  {
   "cell_type": "code",
   "execution_count": null,
   "metadata": {
    "collapsed": false,
    "jupyter": {
     "outputs_hidden": false
    }
   },
   "outputs": [],
   "source": []
  },
  {
   "cell_type": "code",
   "execution_count": null,
   "metadata": {},
   "outputs": [],
   "source": []
  },
  {
   "cell_type": "code",
   "execution_count": 75,
   "metadata": {
    "collapsed": false,
    "jupyter": {
     "outputs_hidden": false
    }
   },
   "outputs": [],
   "source": [
    "#SetUp: first need to generate the factorization of a singer with charpoly g, and determinant dlist"
   ]
  },
  {
   "cell_type": "code",
   "execution_count": 16,
   "metadata": {
    "collapsed": false,
    "jupyter": {
     "outputs_hidden": false
    }
   },
   "outputs": [],
   "source": [
    "#change the determiant list\n",
    "\n",
    "allv=invertible_vi([1,1,1])\n",
    "fact,reg,notfact,notreg=get_regell()\n",
    "sing,just_reg=get_sing(reg)"
   ]
  },
  {
   "cell_type": "code",
   "execution_count": 17,
   "metadata": {},
   "outputs": [
    {
     "data": {
      "text/html": [
       "<html><script type=\"math/tex; mode=display\">\\newcommand{\\Bold}[1]{\\mathbf{#1}}14</script></html>"
      ],
      "text/plain": [
       "14"
      ]
     },
     "execution_count": 17,
     "metadata": {},
     "output_type": "execute_result"
    }
   ],
   "source": [
    "#I believe that this is a list of all singer/reg with determinant c = d1*d2*d3\n",
    "len(sing)"
   ]
  },
  {
   "cell_type": "code",
   "execution_count": 18,
   "metadata": {},
   "outputs": [
    {
     "data": {
      "text/html": [
       "<html><script type=\"math/tex; mode=display\">\\newcommand{\\Bold}[1]{\\mathbf{#1}}\\left(\\begin{array}{rrr}\n",
       "1 & 1 & 1 \\\\\n",
       "0 & 1 & 1 \\\\\n",
       "1 & 0 & 1\n",
       "\\end{array}\\right)</script></html>"
      ],
      "text/plain": [
       "[1 1 1]\n",
       "[0 1 1]\n",
       "[1 0 1]"
      ]
     },
     "execution_count": 18,
     "metadata": {},
     "output_type": "execute_result"
    }
   ],
   "source": [
    "c = sing[6]\n",
    "c"
   ]
  },
  {
   "cell_type": "code",
   "execution_count": 19,
   "metadata": {},
   "outputs": [
    {
     "data": {
      "text/html": [
       "<html><script type=\"math/tex; mode=display\">\\newcommand{\\Bold}[1]{\\mathbf{#1}}\\left[x^{3} + x^{2} + 1, x^{3} + x + 1\\right]</script></html>"
      ],
      "text/plain": [
       "[x^3 + x^2 + 1, x^3 + x + 1]"
      ]
     },
     "execution_count": 19,
     "metadata": {},
     "output_type": "execute_result"
    }
   ],
   "source": [
    "#list of conjugation class to choose one\n",
    "conju=[]\n",
    "for c in sing:\n",
    "    f=c.charpoly()\n",
    "    if f not in conju:\n",
    "        conju.append(f)\n",
    "conju"
   ]
  },
  {
   "cell_type": "code",
   "execution_count": 29,
   "metadata": {
    "collapsed": false,
    "jupyter": {
     "outputs_hidden": false
    }
   },
   "outputs": [],
   "source": [
    "#choose a conjugation class, then get the list of singer of the conjugation class with all the factorizations\n",
    "g=conju[0]\n",
    "fact_g,sing_g=get_singer_conj(g)"
   ]
  },
  {
   "cell_type": "code",
   "execution_count": 112,
   "metadata": {},
   "outputs": [],
   "source": [
    "#This is a list of all singer cycles with char poly g\n"
   ]
  },
  {
   "cell_type": "code",
   "execution_count": null,
   "metadata": {},
   "outputs": [],
   "source": []
  },
  {
   "cell_type": "code",
   "execution_count": 25,
   "metadata": {
    "collapsed": false,
    "jupyter": {
     "outputs_hidden": false
    }
   },
   "outputs": [
    {
     "data": {
      "text/plain": [
       "[1 0 1]\n",
       "[1 1 1]\n",
       "[1 1 0]"
      ]
     },
     "execution_count": 25,
     "metadata": {},
     "output_type": "execute_result"
    }
   ],
   "source": [
    "sing_g[0].inverse()"
   ]
  },
  {
   "cell_type": "code",
   "execution_count": 26,
   "metadata": {},
   "outputs": [
    {
     "data": {
      "text/plain": [
       "[1 1 1]\n",
       "[1 1 0]\n",
       "[0 1 1]"
      ]
     },
     "execution_count": 26,
     "metadata": {},
     "output_type": "execute_result"
    }
   ],
   "source": [
    "sing_g[0]"
   ]
  },
  {
   "cell_type": "code",
   "execution_count": 152,
   "metadata": {},
   "outputs": [],
   "source": [
    "#fact = factorization, c = singer\n",
    "#returns the cyclic orbit\n",
    "# def cyclic_orbit(fact, c):\n",
    "#     cyclic=[]\n",
    "#     while 1:\n",
    "#         f = fact[-1]\n",
    "#         fact.remove(f)\n",
    "#         fact.insert(0,c*f*c^(-1))\n",
    "#         if fact not in cyclic:\n",
    "#             cyclic.append(copy(fact))\n",
    "#         else:\n",
    "#             break\n",
    "#     return cyclic"
   ]
  },
  {
   "cell_type": "code",
   "execution_count": 175,
   "metadata": {},
   "outputs": [],
   "source": [
    "cyc =cyclic_orbit(fact_g[3],sing[3])"
   ]
  },
  {
   "cell_type": "code",
   "execution_count": 254,
   "metadata": {},
   "outputs": [
    {
     "data": {
      "text/html": [
       "<html><script type=\"math/tex; mode=display\">\\newcommand{\\Bold}[1]{\\mathbf{#1}}\\left[\\mathrm{RowSpan}_{\\Bold{F}_{2}}\\left(\\begin{array}{rrrr}\n",
       "0 & 0 & 0 & 1\n",
       "\\end{array}\\right), \\mathrm{RowSpan}_{\\Bold{F}_{2}}\\left(\\begin{array}{rrrr}\n",
       "0 & 0 & 1 & 0\n",
       "\\end{array}\\right), \\mathrm{RowSpan}_{\\Bold{F}_{2}}\\left(\\begin{array}{rrrr}\n",
       "0 & 0 & 1 & 1\n",
       "\\end{array}\\right), \\mathrm{RowSpan}_{\\Bold{F}_{2}}\\left(\\begin{array}{rrrr}\n",
       "0 & 1 & 0 & 0\n",
       "\\end{array}\\right), \\mathrm{RowSpan}_{\\Bold{F}_{2}}\\left(\\begin{array}{rrrr}\n",
       "0 & 1 & 0 & 1\n",
       "\\end{array}\\right), \\mathrm{RowSpan}_{\\Bold{F}_{2}}\\left(\\begin{array}{rrrr}\n",
       "0 & 1 & 1 & 0\n",
       "\\end{array}\\right), \\mathrm{RowSpan}_{\\Bold{F}_{2}}\\left(\\begin{array}{rrrr}\n",
       "0 & 1 & 1 & 1\n",
       "\\end{array}\\right), \\mathrm{RowSpan}_{\\Bold{F}_{2}}\\left(\\begin{array}{rrrr}\n",
       "1 & 0 & 0 & 0\n",
       "\\end{array}\\right), \\mathrm{RowSpan}_{\\Bold{F}_{2}}\\left(\\begin{array}{rrrr}\n",
       "1 & 0 & 0 & 1\n",
       "\\end{array}\\right), \\mathrm{RowSpan}_{\\Bold{F}_{2}}\\left(\\begin{array}{rrrr}\n",
       "1 & 0 & 1 & 0\n",
       "\\end{array}\\right), \\mathrm{RowSpan}_{\\Bold{F}_{2}}\\left(\\begin{array}{rrrr}\n",
       "1 & 0 & 1 & 1\n",
       "\\end{array}\\right), \\mathrm{RowSpan}_{\\Bold{F}_{2}}\\left(\\begin{array}{rrrr}\n",
       "1 & 1 & 0 & 0\n",
       "\\end{array}\\right), \\mathrm{RowSpan}_{\\Bold{F}_{2}}\\left(\\begin{array}{rrrr}\n",
       "1 & 1 & 0 & 1\n",
       "\\end{array}\\right), \\mathrm{RowSpan}_{\\Bold{F}_{2}}\\left(\\begin{array}{rrrr}\n",
       "1 & 1 & 1 & 0\n",
       "\\end{array}\\right), \\mathrm{RowSpan}_{\\Bold{F}_{2}}\\left(\\begin{array}{rrrr}\n",
       "1 & 1 & 1 & 1\n",
       "\\end{array}\\right)\\right]</script></html>"
      ],
      "text/plain": [
       "[Vector space of degree 4 and dimension 1 over Finite Field of size 2\n",
       " Basis matrix:\n",
       " [0 0 0 1],\n",
       " Vector space of degree 4 and dimension 1 over Finite Field of size 2\n",
       " Basis matrix:\n",
       " [0 0 1 0],\n",
       " Vector space of degree 4 and dimension 1 over Finite Field of size 2\n",
       " Basis matrix:\n",
       " [0 0 1 1],\n",
       " Vector space of degree 4 and dimension 1 over Finite Field of size 2\n",
       " Basis matrix:\n",
       " [0 1 0 0],\n",
       " Vector space of degree 4 and dimension 1 over Finite Field of size 2\n",
       " Basis matrix:\n",
       " [0 1 0 1],\n",
       " Vector space of degree 4 and dimension 1 over Finite Field of size 2\n",
       " Basis matrix:\n",
       " [0 1 1 0],\n",
       " Vector space of degree 4 and dimension 1 over Finite Field of size 2\n",
       " Basis matrix:\n",
       " [0 1 1 1],\n",
       " Vector space of degree 4 and dimension 1 over Finite Field of size 2\n",
       " Basis matrix:\n",
       " [1 0 0 0],\n",
       " Vector space of degree 4 and dimension 1 over Finite Field of size 2\n",
       " Basis matrix:\n",
       " [1 0 0 1],\n",
       " Vector space of degree 4 and dimension 1 over Finite Field of size 2\n",
       " Basis matrix:\n",
       " [1 0 1 0],\n",
       " Vector space of degree 4 and dimension 1 over Finite Field of size 2\n",
       " Basis matrix:\n",
       " [1 0 1 1],\n",
       " Vector space of degree 4 and dimension 1 over Finite Field of size 2\n",
       " Basis matrix:\n",
       " [1 1 0 0],\n",
       " Vector space of degree 4 and dimension 1 over Finite Field of size 2\n",
       " Basis matrix:\n",
       " [1 1 0 1],\n",
       " Vector space of degree 4 and dimension 1 over Finite Field of size 2\n",
       " Basis matrix:\n",
       " [1 1 1 0],\n",
       " Vector space of degree 4 and dimension 1 over Finite Field of size 2\n",
       " Basis matrix:\n",
       " [1 1 1 1]]"
      ]
     },
     "execution_count": 254,
     "metadata": {},
     "output_type": "execute_result"
    }
   ],
   "source": [
    "newvec"
   ]
  },
  {
   "cell_type": "code",
   "execution_count": 24,
   "metadata": {
    "collapsed": false,
    "jupyter": {
     "outputs_hidden": false
    }
   },
   "outputs": [],
   "source": [
    "vec=get_v1()\n",
    "newvec = [0] * nq\n",
    "for v in vec:\n",
    "    #b =  (2^3)*int(v[1][0]) + (2^2) * int(v[1][1]) + (2^1) * int(v[1][2]) +  (2^0) * int(v[1][3])\n",
    "    b =  (2^2) * int(v[1][0]) + (2^1) * int(v[1][1]) +  (2^0) * int(v[1][2])\n",
    "    newvec[b-1]=v\n",
    "\n",
    "# label = []\n",
    "# for v in newvec:\n",
    "#     v1=v.basis()\n",
    "#     label.append(v1)\n",
    "# vertex={}\n",
    "# for v in range(nq):\n",
    "#     vertex[v]=str(label[v][0])\n",
    "\n",
    "def get_edge(r):\n",
    "    edge=[]\n",
    "    for v in newvec:\n",
    "            w = v*r\n",
    "            if v!=w:\n",
    "                edge.append([newvec.index(v),newvec.index(w)])\n",
    "    return edge\n",
    "\n",
    "#input a factorzation [r1,r2,r3]\n",
    "def get_edges(rrr):\n",
    "    edges=[]\n",
    "    for i in range(n):\n",
    "        edge=get_edge(rrr[i])\n",
    "        edges.append(edge)\n",
    "    return edges\n",
    "\n",
    "#n_q x n_q matrix, put 1 for each edge correspondnce to build the adjacency matrix for each r_i\n",
    "def adj_matrix(edge):\n",
    "    M=matrix(nq)\n",
    "    for e in edge:\n",
    "        M[e[0],e[1]]=1\n",
    "    return M\n",
    "\n",
    "def get_adj_matrix(rrr):\n",
    "    edges=get_edges(rrr)\n",
    "    Mlist=[]\n",
    "    for i in range(n):\n",
    "        M2=matrix(nq)\n",
    "        for e in edges[i]:\n",
    "            M2[e[0],e[1]]=1\n",
    "        Mlist.append(M2)\n",
    "    return Mlist"
   ]
  },
  {
   "cell_type": "code",
   "execution_count": 25,
   "metadata": {
    "collapsed": false,
    "jupyter": {
     "outputs_hidden": false
    }
   },
   "outputs": [],
   "source": [
    "label = []\n",
    "for v in newvec:\n",
    "    v1=v.basis()\n",
    "    label.append(v1)\n",
    "vertex={}\n",
    "for v in range(nq):\n",
    "    vertex[v]=str(label[v][0])"
   ]
  },
  {
   "cell_type": "code",
   "execution_count": 84,
   "metadata": {},
   "outputs": [
    {
     "data": {
      "text/plain": [
       "[Vector space of degree 3 and dimension 1 over Finite Field of size 2\n",
       " Basis matrix:\n",
       " [0 0 1], Vector space of degree 3 and dimension 1 over Finite Field of size 2\n",
       " Basis matrix:\n",
       " [0 1 0], Vector space of degree 3 and dimension 1 over Finite Field of size 2\n",
       " Basis matrix:\n",
       " [0 1 1], Vector space of degree 3 and dimension 1 over Finite Field of size 2\n",
       " Basis matrix:\n",
       " [1 0 0], Vector space of degree 3 and dimension 1 over Finite Field of size 2\n",
       " Basis matrix:\n",
       " [1 0 1], Vector space of degree 3 and dimension 1 over Finite Field of size 2\n",
       " Basis matrix:\n",
       " [1 1 0], Vector space of degree 3 and dimension 1 over Finite Field of size 2\n",
       " Basis matrix:\n",
       " [1 1 1]]"
      ]
     },
     "execution_count": 84,
     "metadata": {},
     "output_type": "execute_result"
    }
   ],
   "source": [
    "newvec"
   ]
  },
  {
   "cell_type": "code",
   "execution_count": 115,
   "metadata": {
    "collapsed": false,
    "jupyter": {
     "outputs_hidden": false
    }
   },
   "outputs": [],
   "source": [
    "def is_reflection(g):\n",
    "    n = G.degree()\n",
    "    M = g.matrix() - (G[0]^0).matrix()\n",
    "    KM = M.kernel()\n",
    "    return KM.dimension() == n-1\n",
    "\n",
    "def is_transvection(g):\n",
    "    return is_reflection(g) and M(g).det() == 1\n",
    "\n",
    "\n",
    "def get_transvections(): #find all transvection in a list\n",
    "    R = []\n",
    "    for g in G:\n",
    "        if is_transvection(g):\n",
    "            R.append(g)\n",
    "    return R\n",
    "\n",
    "def get_refls(): #find all reflections in a list\n",
    "    R = []\n",
    "    for g in G:\n",
    "        if is_reflection(g):\n",
    "            R.append(g)\n",
    "    return R"
   ]
  },
  {
   "cell_type": "code",
   "execution_count": 86,
   "metadata": {},
   "outputs": [
    {
     "data": {
      "text/plain": [
       "(0, 14, 14)"
      ]
     },
     "execution_count": 86,
     "metadata": {},
     "output_type": "execute_result"
    }
   ],
   "source": [
    "len(just_reg),len(reg),len(sing)"
   ]
  },
  {
   "cell_type": "code",
   "execution_count": 87,
   "metadata": {},
   "outputs": [
    {
     "data": {
      "text/plain": [
       "{0: '(0, 0, 1)',\n",
       " 1: '(0, 1, 0)',\n",
       " 2: '(0, 1, 1)',\n",
       " 3: '(1, 0, 0)',\n",
       " 4: '(1, 0, 1)',\n",
       " 5: '(1, 1, 0)',\n",
       " 6: '(1, 1, 1)'}"
      ]
     },
     "execution_count": 87,
     "metadata": {},
     "output_type": "execute_result"
    }
   ],
   "source": [
    "vertex"
   ]
  },
  {
   "cell_type": "code",
   "execution_count": 26,
   "metadata": {
    "collapsed": false,
    "jupyter": {
     "outputs_hidden": false
    }
   },
   "outputs": [],
   "source": [
    "if n == 4:\n",
    "    for rrr in fact_g:    \n",
    "        [M1,M2,M3,M4]=get_adj_matrix(rrr)\n",
    "        Dlist=DiGraph(M1),DiGraph(M2),DiGraph(M3),DiGraph(M4)\n",
    "        alledge=[]\n",
    "        for i in range(n):\n",
    "            for u,v,l in Dlist[i].edges():\n",
    "                Dlist[i].set_edge_label(u,v,str(i))\n",
    "            alledge = alledge+Dlist[i].edges()\n",
    "        D=DiGraph()\n",
    "        D.add_edges(alledge)\n",
    "        D.relabel(vertex)\n",
    "        G=D.to_undirected()\n",
    "    G.graphplot(color_by_label=True,vertex_size=0,layout='spring').show()\n",
    "        \n",
    "if n == 3:\n",
    "    for rrr in fact_g:    \n",
    "        [M1,M2,M3]=get_adj_matrix(rrr)\n",
    "        Dlist=DiGraph(M1),DiGraph(M2),DiGraph(M3)\n",
    "        alledge=[]\n",
    "        for i in range(n):\n",
    "            for u,v,l in Dlist[i].edges():\n",
    "                Dlist[i].set_edge_label(u,v,str(i))\n",
    "            alledge = alledge+Dlist[i].edges()\n",
    "        D=DiGraph()\n",
    "        D.add_edges(alledge)\n",
    "        D.relabel(vertex)\n",
    "        G=D.to_undirected()\n",
    "        #G.graphplot(color_by_label=True,vertex_size=0,layout='spring').show()"
   ]
  },
  {
   "cell_type": "code",
   "execution_count": 31,
   "metadata": {},
   "outputs": [
    {
     "ename": "NameError",
     "evalue": "name 'diag' is not defined",
     "output_type": "error",
     "traceback": [
      "\u001b[0;31m---------------------------------------------------------------------------\u001b[0m",
      "\u001b[0;31mNameError\u001b[0m                                 Traceback (most recent call last)",
      "\u001b[0;32m<ipython-input-31-edc14ea5e0f7>\u001b[0m in \u001b[0;36m<module>\u001b[0;34m()\u001b[0m\n\u001b[1;32m      3\u001b[0m     \u001b[0;32mfor\u001b[0m \u001b[0mrrr\u001b[0m \u001b[0;32min\u001b[0m \u001b[0mfact_g\u001b[0m\u001b[0;34m:\u001b[0m\u001b[0;34m\u001b[0m\u001b[0;34m\u001b[0m\u001b[0m\n\u001b[1;32m      4\u001b[0m         \u001b[0mconj\u001b[0m\u001b[0;34m=\u001b[0m\u001b[0;34m[\u001b[0m\u001b[0;34m]\u001b[0m\u001b[0;34m\u001b[0m\u001b[0;34m\u001b[0m\u001b[0m\n\u001b[0;32m----> 5\u001b[0;31m         \u001b[0;32mfor\u001b[0m \u001b[0mm\u001b[0m \u001b[0;32min\u001b[0m \u001b[0mdiag\u001b[0m\u001b[0;34m:\u001b[0m\u001b[0;34m\u001b[0m\u001b[0;34m\u001b[0m\u001b[0m\n\u001b[0m\u001b[1;32m      6\u001b[0m             \u001b[0mnew\u001b[0m\u001b[0;34m=\u001b[0m\u001b[0;34m[\u001b[0m\u001b[0;34m]\u001b[0m\u001b[0;34m\u001b[0m\u001b[0;34m\u001b[0m\u001b[0m\n\u001b[1;32m      7\u001b[0m             \u001b[0;32mfor\u001b[0m \u001b[0mr\u001b[0m \u001b[0;32min\u001b[0m \u001b[0mrrr\u001b[0m\u001b[0;34m:\u001b[0m\u001b[0;34m\u001b[0m\u001b[0;34m\u001b[0m\u001b[0m\n",
      "\u001b[0;31mNameError\u001b[0m: name 'diag' is not defined"
     ]
    }
   ],
   "source": [
    "newlist=[]\n",
    "while len(fact_g)>0:\n",
    "    for rrr in fact_g:\n",
    "        conj=[]\n",
    "        for m in diag:\n",
    "            new=[]\n",
    "            for r in rrr:\n",
    "                r1=m^(-1)*r*m\n",
    "                new.append(r1)\n",
    "            fact_g.remove(new)\n",
    "            conj.append(new)\n",
    "        newlist.append(conj)"
   ]
  },
  {
   "cell_type": "code",
   "execution_count": 117,
   "metadata": {
    "collapsed": false,
    "jupyter": {
     "outputs_hidden": false
    }
   },
   "outputs": [],
   "source": [
    "def labeled_tree2fact(ep):\n",
    "    return [(e[0]+1,e[1]+1) for e in ep]\n",
    "\n",
    "GG=SymmetricGroup(nq)"
   ]
  },
  {
   "cell_type": "code",
   "execution_count": 118,
   "metadata": {},
   "outputs": [
    {
     "data": {
      "text/plain": [
       "15"
      ]
     },
     "execution_count": 118,
     "metadata": {},
     "output_type": "execute_result"
    }
   ],
   "source": [
    "nq"
   ]
  },
  {
   "cell_type": "code",
   "execution_count": 119,
   "metadata": {},
   "outputs": [],
   "source": [
    "#print out the factorizations in its symm group embeddings\n",
    "#input a list of factorizations\n",
    "def symm_emb(fact):\n",
    "    for rrr in fact:  \n",
    "        symm=[]\n",
    "        Mlist =get_adj_matrix(rrr)\n",
    "        for m in Mlist:\n",
    "            D= DiGraph(m)\n",
    "            G=D.to_undirected()\n",
    "        #print(G.edges())\n",
    "            edge = labeled_tree2fact(G.edges())\n",
    "            refl = GG(edge)\n",
    "            symm.append(refl)\n",
    "        print(symm, prod(symm))"
   ]
  },
  {
   "cell_type": "code",
   "execution_count": 120,
   "metadata": {},
   "outputs": [
    {
     "name": "stdout",
     "output_type": "stream",
     "text": [
      "[(8,9)(10,11)(12,13)(14,15), (4,6)(5,7)(12,14)(13,15), (2,7)(3,6)(10,15)(11,14), (1,13)(3,15)(5,9)(7,11)] (1,13,7,9,8,5,2,11,3,6,4,15,12,10,14)\n",
      "[(8,9)(10,11)(12,13)(14,15), (4,6)(5,7)(12,14)(13,15), (2,10)(3,11)(6,14)(7,15), (1,15)(3,13)(5,11)(7,9)] (1,15,12,9,8,7,11,2,10,13,6,4,14,3,5)\n",
      "[(8,9)(10,11)(12,13)(14,15), (4,6)(5,7)(12,14)(13,15), (2,11)(3,10)(6,15)(7,14), (1,5)(3,7)(9,13)(11,15)] (1,5,14,9,8,13,3,10,2,15,12,6,4,11,7)\n",
      "[(8,9)(10,11)(12,13)(14,15), (4,6)(5,7)(12,14)(13,15), (2,14)(3,15)(6,10)(7,11), (1,7)(3,5)(9,15)(11,13)] (1,7,3,9,8,15,12,5,13,2,14,11,6,4,10)\n",
      "[(8,9)(10,11)(12,13)(14,15), (4,6)(5,7)(12,14)(13,15), (2,15)(3,14)(6,11)(7,10), (1,11)(3,9)(5,15)(7,13)] (1,11,13,9,8,3,14,7,15,12,2,5,10,6,4)\n",
      "[(8,9)(10,11)(12,13)(14,15), (4,7)(5,6)(12,15)(13,14), (2,6)(3,7)(10,14)(11,15), (1,15)(3,13)(5,11)(7,9)] (1,15,3,9,8,7,4,13,5,2,6,11,14,12,10)\n",
      "[(8,9)(10,11)(12,13)(14,15), (4,7)(5,6)(12,15)(13,14), (2,7)(3,6)(10,15)(11,14), (1,11)(3,9)(5,15)(7,13)] (1,11,5,9,8,3,6,15,7,4,2,13,10,14,12)\n",
      "[(8,9)(10,11)(12,13)(14,15), (4,7)(5,6)(12,15)(13,14), (2,10)(3,11)(6,14)(7,15), (1,7)(3,5)(9,15)(11,13)] (1,7,4,9,8,15,11,2,10,5,14,12,6,3,13)\n",
      "[(8,9)(10,11)(12,13)(14,15), (4,7)(5,6)(12,15)(13,14), (2,11)(3,10)(6,15)(7,14), (1,13)(3,15)(5,9)(7,11)] (1,13,6,9,8,5,3,10,2,7,4,14,12,11,15)\n",
      "[(8,9)(10,11)(12,13)(14,15), (4,7)(5,6)(12,15)(13,14), (2,15)(3,14)(6,11)(7,10), (1,5)(3,7)(9,13)(11,15)] (1,5,15,9,8,13,2,11,3,14,12,7,4,10,6)\n",
      "[(8,9)(10,11)(12,13)(14,15), (4,12)(5,13)(6,14)(7,15), (2,6)(3,7)(10,14)(11,15), (1,11)(3,9)(5,15)(7,13)] (1,11,14,9,8,3,13,4,12,15,2,6,10,5,7)\n",
      "[(8,9)(10,11)(12,13)(14,15), (4,12)(5,13)(6,14)(7,15), (2,7)(3,6)(10,15)(11,14), (1,3)(5,7)(9,11)(13,15)] (1,3,6,9,8,11,13,4,12,7,10,14,2,5,15)\n",
      "[(8,9)(10,11)(12,13)(14,15), (4,12)(5,13)(6,14)(7,15), (2,14)(3,15)(6,10)(7,11), (1,15)(3,13)(5,11)(7,9)] (1,15,10,9,8,7,13,4,12,11,6,2,14,5,3)\n",
      "[(8,9)(10,11)(12,13)(14,15), (4,12)(5,13)(6,14)(7,15), (2,15)(3,14)(6,11)(7,10), (1,7)(3,5)(9,15)(11,13)] (1,7,2,9,8,15,13,4,12,3,14,10,6,5,11)\n",
      "[(8,9)(10,11)(12,13)(14,15), (4,13)(5,12)(6,15)(7,14), (2,6)(3,7)(10,14)(11,15), (1,7)(3,5)(9,15)(11,13)] (1,7,10,9,8,15,5,12,4,11,14,2,6,13,3)\n",
      "[(8,9)(10,11)(12,13)(14,15), (4,13)(5,12)(6,15)(7,14), (2,7)(3,6)(10,15)(11,14), (1,15)(3,13)(5,11)(7,9)] (1,15,2,9,8,7,5,12,4,3,6,10,14,13,11)\n",
      "[(8,9)(10,11)(12,13)(14,15), (4,13)(5,12)(6,15)(7,14), (2,14)(3,15)(6,10)(7,11), (1,11)(3,9)(5,15)(7,13)] (1,11,6,9,8,3,5,12,4,7,2,14,10,13,15)\n",
      "[(8,9)(10,11)(12,13)(14,15), (4,13)(5,12)(6,15)(7,14), (2,15)(3,14)(6,11)(7,10), (1,3)(5,7)(9,11)(13,15)] (1,3,14,9,8,11,5,12,4,15,10,6,2,13,7)\n",
      "[(8,9)(10,11)(12,13)(14,15), (4,14)(5,15)(6,12)(7,13), (2,6)(3,7)(10,14)(11,15), (1,3)(5,7)(9,11)(13,15)] (1,3,5,9,8,11,14,7,15,4,10,13,2,6,12)\n",
      "[(8,9)(10,11)(12,13)(14,15), (4,14)(5,15)(6,12)(7,13), (2,7)(3,6)(10,15)(11,14), (1,7)(3,5)(9,15)(11,13)] (1,7,11,9,8,15,4,13,5,10,14,3,6,12,2)\n",
      "[(8,9)(10,11)(12,13)(14,15), (4,14)(5,15)(6,12)(7,13), (2,10)(3,11)(6,14)(7,15), (1,13)(3,15)(5,9)(7,11)] (1,13,14,9,8,5,11,2,10,15,4,6,12,3,7)\n",
      "[(8,9)(10,11)(12,13)(14,15), (4,14)(5,15)(6,12)(7,13), (2,11)(3,10)(6,15)(7,14), (1,15)(3,13)(5,11)(7,9)] (1,15,4,9,8,7,3,10,2,5,6,12,14,11,13)\n",
      "[(8,9)(10,11)(12,13)(14,15), (4,14)(5,15)(6,12)(7,13), (2,14)(3,15)(6,10)(7,11), (1,5)(3,7)(9,13)(11,15)] (1,5,7,9,8,13,10,3,11,6,12,15,4,2,14)\n",
      "[(8,9)(10,11)(12,13)(14,15), (4,15)(5,14)(6,13)(7,12), (2,6)(3,7)(10,14)(11,15), (1,13)(3,15)(5,9)(7,11)] (1,13,15,9,8,5,10,3,11,14,4,7,12,2,6)\n",
      "[(8,9)(10,11)(12,13)(14,15), (4,15)(5,14)(6,13)(7,12), (2,10)(3,11)(6,14)(7,15), (1,5)(3,7)(9,13)(11,15)] (1,5,6,9,8,13,11,2,10,7,12,14,4,3,15)\n",
      "[(8,9)(10,11)(12,13)(14,15), (4,15)(5,14)(6,13)(7,12), (2,11)(3,10)(6,15)(7,14), (1,7)(3,5)(9,15)(11,13)] (1,7,12,9,8,15,3,10,2,13,14,4,6,11,5)\n",
      "[(8,9)(10,11)(12,13)(14,15), (4,15)(5,14)(6,13)(7,12), (2,14)(3,15)(6,10)(7,11), (1,3)(5,7)(9,11)(13,15)] (1,3,13,9,8,11,6,15,7,12,10,5,2,14,4)\n",
      "[(8,9)(10,11)(12,13)(14,15), (4,15)(5,14)(6,13)(7,12), (2,15)(3,14)(6,11)(7,10), (1,15)(3,13)(5,11)(7,9)] (1,15,11,9,8,7,12,5,13,10,6,3,14,4,2)\n",
      "[(8,10)(9,11)(12,14)(13,15), (4,5)(6,7)(12,13)(14,15), (2,6)(3,7)(10,14)(11,15), (1,15)(3,13)(5,11)(7,9)] (1,15,12,5,4,11,7,2,6,13,10,8,14,3,9)\n",
      "[(8,10)(9,11)(12,14)(13,15), (4,5)(6,7)(12,13)(14,15), (2,7)(3,6)(10,15)(11,14), (1,9)(3,11)(5,13)(7,15)] (1,9,14,5,4,13,3,6,2,15,12,10,8,7,11)\n",
      "[(8,10)(9,11)(12,14)(13,15), (4,5)(6,7)(12,13)(14,15), (2,11)(3,10)(6,15)(7,14), (1,13)(3,15)(5,9)(7,11)] (1,13,11,5,4,9,2,7,3,10,8,15,12,6,14)\n",
      "[(8,10)(9,11)(12,14)(13,15), (4,5)(6,7)(12,13)(14,15), (2,14)(3,15)(6,10)(7,11), (1,11)(3,9)(5,15)(7,13)] (1,11,3,5,4,15,12,9,13,2,14,7,10,8,6)\n",
      "[(8,10)(9,11)(12,14)(13,15), (4,5)(6,7)(12,13)(14,15), (2,15)(3,14)(6,11)(7,10), (1,7)(3,5)(9,15)(11,13)] (1,7,13,5,4,3,14,11,15,12,2,9,6,10,8)\n",
      "[(8,10)(9,11)(12,14)(13,15), (4,7)(5,6)(12,15)(13,14), (2,6)(3,7)(10,14)(11,15), (1,11)(3,9)(5,15)(7,13)] (1,11,3,13,12,7,4,9,5,2,6,15,10,8,14)\n",
      "[(8,10)(9,11)(12,14)(13,15), (4,7)(5,6)(12,15)(13,14), (2,7)(3,6)(10,15)(11,14), (1,15)(3,13)(5,11)(7,9)] (1,15,5,13,12,3,6,11,7,4,2,9,14,10,8)\n",
      "[(8,10)(9,11)(12,14)(13,15), (4,7)(5,6)(12,15)(13,14), (2,11)(3,10)(6,15)(7,14), (1,5)(3,7)(9,13)(11,15)] (1,5,11,13,12,9,2,15,3,10,8,7,4,14,6)\n",
      "[(8,10)(9,11)(12,14)(13,15), (4,7)(5,6)(12,15)(13,14), (2,14)(3,15)(6,10)(7,11), (1,7)(3,5)(9,15)(11,13)] (1,7,4,13,12,11,15,2,14,5,10,8,6,3,9)\n",
      "[(8,10)(9,11)(12,14)(13,15), (4,7)(5,6)(12,15)(13,14), (2,15)(3,14)(6,11)(7,10), (1,9)(3,11)(5,13)(7,15)] (1,9,6,13,12,5,3,14,2,7,4,10,8,15,11)\n",
      "[(8,10)(9,11)(12,14)(13,15), (4,12)(5,13)(6,14)(7,15), (2,3)(6,7)(10,11)(14,15), (1,13)(3,15)(5,9)(7,11)] (1,13,6,3,2,15,9,10,8,7,14,4,12,11,5)\n",
      "[(8,10)(9,11)(12,14)(13,15), (4,12)(5,13)(6,14)(7,15), (2,7)(3,6)(10,15)(11,14), (1,7)(3,5)(9,15)(11,13)] (1,7,10,8,9,14,4,12,5,11,15,3,6,13,2)\n",
      "[(8,10)(9,11)(12,14)(13,15), (4,12)(5,13)(6,14)(7,15), (2,11)(3,10)(6,15)(7,14), (1,15)(3,13)(5,11)(7,9)] (1,15,11,7,6,9,2,5,3,10,8,13,14,4,12)\n",
      "[(8,10)(9,11)(12,14)(13,15), (4,12)(5,13)(6,14)(7,15), (2,15)(3,14)(6,11)(7,10), (1,5)(3,7)(9,13)(11,15)] (1,5,9,6,7,2,11,13,10,8,3,14,4,12,15)\n",
      "[(8,10)(9,11)(12,14)(13,15), (4,13)(5,12)(6,15)(7,14), (2,3)(6,7)(10,11)(14,15), (1,15)(3,13)(5,11)(7,9)] (1,15,4,3,2,13,9,10,8,5,12,6,14,11,7)\n",
      "[(8,10)(9,11)(12,14)(13,15), (4,13)(5,12)(6,15)(7,14), (2,6)(3,7)(10,14)(11,15), (1,13)(3,15)(5,9)(7,11)] (1,13,2,6,7,10,8,14,9,3,11,5,12,15,4)\n",
      "[(8,10)(9,11)(12,14)(13,15), (4,13)(5,12)(6,15)(7,14), (2,7)(3,6)(10,15)(11,14), (1,5)(3,7)(9,13)(11,15)] (1,5,12,2,3,6,10,8,11,13,7,15,4,9,14)\n",
      "[(8,10)(9,11)(12,14)(13,15), (4,13)(5,12)(6,15)(7,14), (2,14)(3,15)(6,10)(7,11), (1,9)(3,11)(5,13)(7,15)] (1,9,15,4,5,12,3,7,2,14,13,10,8,6,11)\n",
      "[(8,10)(9,11)(12,14)(13,15), (4,13)(5,12)(6,15)(7,14), (2,15)(3,14)(6,11)(7,10), (1,11)(3,9)(5,15)(7,13)] (1,11,3,14,15,4,7,9,6,2,5,12,10,8,13)\n",
      "[(8,10)(9,11)(12,14)(13,15), (4,14)(5,15)(6,12)(7,13), (2,3)(6,7)(10,11)(14,15), (1,5)(3,7)(9,13)(11,15)] (1,5,14,3,2,7,9,10,8,15,6,12,4,11,13)\n",
      "[(8,10)(9,11)(12,14)(13,15), (4,14)(5,15)(6,12)(7,13), (2,7)(3,6)(10,15)(11,14), (1,13)(3,15)(5,9)(7,11)] (1,13,9,14,15,2,11,5,10,8,3,6,12,4,7)\n",
      "[(8,10)(9,11)(12,14)(13,15), (4,14)(5,15)(6,12)(7,13), (2,11)(3,10)(6,15)(7,14), (1,7)(3,5)(9,15)(11,13)] (1,7,11,15,14,9,2,13,3,10,8,5,6,12,4)\n",
      "[(8,10)(9,11)(12,14)(13,15), (4,14)(5,15)(6,12)(7,13), (2,15)(3,14)(6,11)(7,10), (1,15)(3,13)(5,11)(7,9)] (1,15,10,8,9,6,12,4,13,11,7,3,14,5,2)\n",
      "[(8,10)(9,11)(12,14)(13,15), (4,15)(5,14)(6,13)(7,12), (2,3)(6,7)(10,11)(14,15), (1,7)(3,5)(9,15)(11,13)] (1,7,12,3,2,5,9,10,8,13,4,14,6,11,15)\n",
      "[(8,10)(9,11)(12,14)(13,15), (4,15)(5,14)(6,13)(7,12), (2,6)(3,7)(10,14)(11,15), (1,9)(3,11)(5,13)(7,15)] (1,9,7,12,13,4,3,15,2,6,5,10,8,14,11)\n",
      "[(8,10)(9,11)(12,14)(13,15), (4,15)(5,14)(6,13)(7,12), (2,7)(3,6)(10,15)(11,14), (1,11)(3,9)(5,15)(7,13)] (1,11,3,6,7,12,15,9,14,2,13,4,10,8,5)\n",
      "[(8,10)(9,11)(12,14)(13,15), (4,15)(5,14)(6,13)(7,12), (2,14)(3,15)(6,10)(7,11), (1,5)(3,7)(9,13)(11,15)] (1,5,2,14,15,10,8,6,9,3,11,13,4,7,12)\n",
      "[(8,10)(9,11)(12,14)(13,15), (4,15)(5,14)(6,13)(7,12), (2,15)(3,14)(6,11)(7,10), (1,13)(3,15)(5,9)(7,11)] (1,13,4,2,3,14,10,8,11,5,15,7,12,9,6)\n",
      "[(8,11)(9,10)(12,15)(13,14), (4,5)(6,7)(12,13)(14,15), (2,6)(3,7)(10,14)(11,15), (1,11)(3,9)(5,15)(7,13)] (1,11,8,5,4,15,7,2,6,9,14,12,10,3,13)\n",
      "[(8,11)(9,10)(12,15)(13,14), (4,5)(6,7)(12,13)(14,15), (2,7)(3,6)(10,15)(11,14), (1,13)(3,15)(5,9)(7,11)] (1,13,10,5,4,9,3,6,2,11,8,14,12,7,15)\n",
      "[(8,11)(9,10)(12,15)(13,14), (4,5)(6,7)(12,13)(14,15), (2,10)(3,11)(6,14)(7,15), (1,15)(3,13)(5,11)(7,9)] (1,15,3,5,4,11,8,13,9,2,10,7,14,12,6)\n",
      "[(8,11)(9,10)(12,15)(13,14), (4,5)(6,7)(12,13)(14,15), (2,11)(3,10)(6,15)(7,14), (1,7)(3,5)(9,15)(11,13)] (1,7,9,5,4,3,10,15,11,8,2,13,6,14,12)\n",
      "[(8,11)(9,10)(12,15)(13,14), (4,5)(6,7)(12,13)(14,15), (2,15)(3,14)(6,11)(7,10), (1,9)(3,11)(5,13)(7,15)] (1,9,15,5,4,13,2,7,3,14,12,11,8,6,10)\n",
      "[(8,11)(9,10)(12,15)(13,14), (4,6)(5,7)(12,14)(13,15), (2,7)(3,6)(10,15)(11,14), (1,9)(3,11)(5,13)(7,15)] (1,9,7,13,12,5,2,15,3,6,4,11,8,14,10)\n",
      "[(8,11)(9,10)(12,15)(13,14), (4,6)(5,7)(12,14)(13,15), (2,10)(3,11)(6,14)(7,15), (1,7)(3,5)(9,15)(11,13)] (1,7,3,13,12,11,8,5,9,2,10,15,6,4,14)\n",
      "[(8,11)(9,10)(12,15)(13,14), (4,6)(5,7)(12,14)(13,15), (2,11)(3,10)(6,15)(7,14), (1,15)(3,13)(5,11)(7,9)] (1,15,9,13,12,3,10,7,11,8,2,5,14,6,4)\n",
      "[(8,11)(9,10)(12,15)(13,14), (4,6)(5,7)(12,14)(13,15), (2,14)(3,15)(6,10)(7,11), (1,11)(3,9)(5,15)(7,13)] (1,11,8,13,12,7,15,2,14,9,6,4,10,3,5)\n",
      "[(8,11)(9,10)(12,15)(13,14), (4,6)(5,7)(12,14)(13,15), (2,15)(3,14)(6,11)(7,10), (1,5)(3,7)(9,13)(11,15)] (1,5,10,13,12,9,3,14,2,11,8,6,4,15,7)\n",
      "[(8,11)(9,10)(12,15)(13,14), (4,12)(5,13)(6,14)(7,15), (2,3)(6,7)(10,11)(14,15), (1,7)(3,5)(9,15)(11,13)] (1,7,14,3,2,5,11,8,10,15,4,12,6,9,13)\n",
      "[(8,11)(9,10)(12,15)(13,14), (4,12)(5,13)(6,14)(7,15), (2,6)(3,7)(10,14)(11,15), (1,15)(3,13)(5,11)(7,9)] (1,15,4,12,13,2,6,10,7,5,3,9,14,11,8)\n",
      "[(8,11)(9,10)(12,15)(13,14), (4,12)(5,13)(6,14)(7,15), (2,7)(3,6)(10,15)(11,14), (1,11)(3,9)(5,15)(7,13)] (1,11,8,14,15,4,12,2,13,9,5,7,10,3,6)\n",
      "[(8,11)(9,10)(12,15)(13,14), (4,12)(5,13)(6,14)(7,15), (2,11)(3,10)(6,15)(7,14), (1,5)(3,7)(9,13)(11,15)] (1,5,9,7,6,3,10,13,11,8,2,15,4,12,14)\n",
      "[(8,11)(9,10)(12,15)(13,14), (4,12)(5,13)(6,14)(7,15), (2,14)(3,15)(6,10)(7,11), (1,3)(5,7)(9,11)(13,15)] (1,3,13,10,11,8,5,15,4,12,9,6,2,14,7)\n",
      "[(8,11)(9,10)(12,15)(13,14), (4,12)(5,13)(6,14)(7,15), (2,15)(3,14)(6,11)(7,10), (1,13)(3,15)(5,9)(7,11)] (1,13,7,2,3,14,9,11,8,6,15,4,12,10,5)\n",
      "[(8,11)(9,10)(12,15)(13,14), (4,13)(5,12)(6,15)(7,14), (2,3)(6,7)(10,11)(14,15), (1,5)(3,7)(9,13)(11,15)] (1,5,12,3,2,7,11,8,10,13,6,14,4,9,15)\n",
      "[(8,11)(9,10)(12,15)(13,14), (4,13)(5,12)(6,15)(7,14), (2,6)(3,7)(10,14)(11,15), (1,9)(3,11)(5,13)(7,15)] (1,9,14,4,5,12,2,6,3,15,13,11,8,7,10)\n",
      "[(8,11)(9,10)(12,15)(13,14), (4,13)(5,12)(6,15)(7,14), (2,7)(3,6)(10,15)(11,14), (1,3)(5,7)(9,11)(13,15)] (1,3,6,10,11,8,14,4,15,7,9,13,2,5,12)\n",
      "[(8,11)(9,10)(12,15)(13,14), (4,13)(5,12)(6,15)(7,14), (2,10)(3,11)(6,14)(7,15), (1,13)(3,15)(5,9)(7,11)] (1,13,3,7,6,11,8,15,9,2,10,5,12,14,4)\n",
      "[(8,11)(9,10)(12,15)(13,14), (4,13)(5,12)(6,15)(7,14), (2,14)(3,15)(6,10)(7,11), (1,15)(3,13)(5,11)(7,9)] (1,15,11,8,9,6,13,5,12,10,7,2,14,4,3)\n",
      "[(8,11)(9,10)(12,15)(13,14), (4,13)(5,12)(6,15)(7,14), (2,15)(3,14)(6,11)(7,10), (1,7)(3,5)(9,15)(11,13)] (1,7,5,12,13,10,15,3,14,4,11,8,6,2,9)\n",
      "[(8,11)(9,10)(12,15)(13,14), (4,14)(5,15)(6,12)(7,13), (2,3)(6,7)(10,11)(14,15), (1,13)(3,15)(5,9)(7,11)] (1,13,4,3,2,15,11,8,10,5,14,6,12,9,7)\n",
      "[(8,11)(9,10)(12,15)(13,14), (4,14)(5,15)(6,12)(7,13), (2,6)(3,7)(10,14)(11,15), (1,7)(3,5)(9,15)(11,13)] (1,7,11,8,9,14,5,13,4,10,15,2,6,12,3)\n",
      "[(8,11)(9,10)(12,15)(13,14), (4,14)(5,15)(6,12)(7,13), (2,7)(3,6)(10,15)(11,14), (1,15)(3,13)(5,11)(7,9)] (1,15,13,4,5,10,7,3,6,12,11,8,14,2,9)\n",
      "[(8,11)(9,10)(12,15)(13,14), (4,14)(5,15)(6,12)(7,13), (2,10)(3,11)(6,14)(7,15), (1,5)(3,7)(9,13)(11,15)] (1,5,3,15,14,11,8,7,9,2,10,13,4,6,12)\n",
      "[(8,11)(9,10)(12,15)(13,14), (4,14)(5,15)(6,12)(7,13), (2,14)(3,15)(6,10)(7,11), (1,9)(3,11)(5,13)(7,15)] (1,9,6,12,13,4,2,14,3,7,5,11,8,15,10)\n",
      "[(8,11)(9,10)(12,15)(13,14), (4,14)(5,15)(6,12)(7,13), (2,15)(3,14)(6,11)(7,10), (1,3)(5,7)(9,11)(13,15)] (1,3,14,10,11,8,6,12,7,15,9,5,2,13,4)\n",
      "[(8,11)(9,10)(12,15)(13,14), (4,15)(5,14)(6,13)(7,12), (2,3)(6,7)(10,11)(14,15), (1,15)(3,13)(5,11)(7,9)] (1,15,6,3,2,13,11,8,10,7,12,4,14,9,5)\n",
      "[(8,11)(9,10)(12,15)(13,14), (4,15)(5,14)(6,13)(7,12), (2,6)(3,7)(10,14)(11,15), (1,3)(5,7)(9,11)(13,15)] (1,3,5,10,11,8,13,7,12,4,9,14,2,6,15)\n",
      "[(8,11)(9,10)(12,15)(13,14), (4,15)(5,14)(6,13)(7,12), (2,7)(3,6)(10,15)(11,14), (1,5)(3,7)(9,13)(11,15)] (1,5,15,2,3,6,9,11,8,14,7,12,4,10,13)\n",
      "[(8,11)(9,10)(12,15)(13,14), (4,15)(5,14)(6,13)(7,12), (2,11)(3,10)(6,15)(7,14), (1,13)(3,15)(5,9)(7,11)] (1,13,9,15,14,3,10,5,11,8,2,7,12,4,6)\n",
      "[(8,11)(9,10)(12,15)(13,14), (4,15)(5,14)(6,13)(7,12), (2,14)(3,15)(6,10)(7,11), (1,7)(3,5)(9,15)(11,13)] (1,7,12,4,5,2,14,10,15,13,3,9,6,11,8)\n",
      "[(8,11)(9,10)(12,15)(13,14), (4,15)(5,14)(6,13)(7,12), (2,15)(3,14)(6,11)(7,10), (1,11)(3,9)(5,15)(7,13)] (1,11,8,6,7,12,4,2,5,9,13,15,10,3,14)\n",
      "[(8,12)(9,13)(10,14)(11,15), (4,5)(6,7)(12,13)(14,15), (2,10)(3,11)(6,14)(7,15), (1,11)(3,9)(5,15)(7,13)] (1,11,6,5,4,15,9,12,8,7,14,2,10,13,3)\n",
      "[(8,12)(9,13)(10,14)(11,15), (4,5)(6,7)(12,13)(14,15), (2,11)(3,10)(6,15)(7,14), (1,15)(3,13)(5,11)(7,9)] (1,15,2,5,4,11,9,12,8,3,10,6,14,13,7)\n",
      "[(8,12)(9,13)(10,14)(11,15), (4,5)(6,7)(12,13)(14,15), (2,14)(3,15)(6,10)(7,11), (1,7)(3,5)(9,15)(11,13)] (1,7,10,5,4,3,9,12,8,11,2,14,6,13,15)\n",
      "[(8,12)(9,13)(10,14)(11,15), (4,5)(6,7)(12,13)(14,15), (2,15)(3,14)(6,11)(7,10), (1,3)(5,7)(9,11)(13,15)] (1,3,14,5,4,7,9,12,8,15,6,10,2,13,11)\n",
      "[(8,12)(9,13)(10,14)(11,15), (4,6)(5,7)(12,14)(13,15), (2,3)(6,7)(10,11)(14,15), (1,9)(3,11)(5,13)(7,15)] (1,9,14,3,2,11,5,6,4,15,10,12,8,7,13)\n",
      "[(8,12)(9,13)(10,14)(11,15), (4,6)(5,7)(12,14)(13,15), (2,7)(3,6)(10,15)(11,14), (1,11)(3,9)(5,15)(7,13)] (1,11,7,15,14,5,2,13,3,6,4,9,10,12,8)\n",
      "[(8,12)(9,13)(10,14)(11,15), (4,6)(5,7)(12,14)(13,15), (2,11)(3,10)(6,15)(7,14), (1,13)(3,15)(5,9)(7,11)] (1,13,5,14,15,2,7,9,6,4,3,10,12,8,11)\n",
      "[(8,12)(9,13)(10,14)(11,15), (4,6)(5,7)(12,14)(13,15), (2,15)(3,14)(6,11)(7,10), (1,15)(3,13)(5,11)(7,9)] (1,15,6,4,5,10,12,8,13,7,11,3,14,9,2)\n",
      "[(8,12)(9,13)(10,14)(11,15), (4,7)(5,6)(12,15)(13,14), (2,3)(6,7)(10,11)(14,15), (1,15)(3,13)(5,11)(7,9)] (1,15,10,3,2,13,7,4,6,11,12,8,14,5,9)\n",
      "[(8,12)(9,13)(10,14)(11,15), (4,7)(5,6)(12,15)(13,14), (2,7)(3,6)(10,15)(11,14), (1,13)(3,15)(5,9)(7,11)] (1,13,5,15,14,3,6,9,7,4,2,11,12,8,10)\n",
      "[(8,12)(9,13)(10,14)(11,15), (4,7)(5,6)(12,15)(13,14), (2,10)(3,11)(6,14)(7,15), (1,3)(5,7)(9,11)(13,15)] (1,3,9,6,7,4,13,11,12,8,5,14,2,10,15)\n",
      "[(8,12)(9,13)(10,14)(11,15), (4,7)(5,6)(12,15)(13,14), (2,11)(3,10)(6,15)(7,14), (1,9)(3,11)(5,13)(7,15)] (1,9,15,2,3,10,5,7,4,14,11,12,8,6,13)\n",
      "[(8,12)(9,13)(10,14)(11,15), (4,7)(5,6)(12,15)(13,14), (2,14)(3,15)(6,10)(7,11), (1,11)(3,9)(5,15)(7,13)] (1,11,12,8,9,2,14,6,15,13,3,5,10,7,4)\n",
      "[(8,12)(9,13)(10,14)(11,15), (4,7)(5,6)(12,15)(13,14), (2,15)(3,14)(6,11)(7,10), (1,7)(3,5)(9,15)(11,13)] (1,7,4,10,11,12,8,2,9,5,13,15,6,3,14)\n",
      "[(8,12)(9,13)(10,14)(11,15), (4,13)(5,12)(6,15)(7,14), (2,3)(6,7)(10,11)(14,15), (1,11)(3,9)(5,15)(7,13)] (1,11,13,3,2,9,4,7,5,12,8,15,10,6,14)\n",
      "[(8,12)(9,13)(10,14)(11,15), (4,13)(5,12)(6,15)(7,14), (2,7)(3,6)(10,15)(11,14), (1,7)(3,5)(9,15)(11,13)] (1,7,13,15,14,9,4,11,5,12,8,3,6,10,2)\n",
      "[(8,12)(9,13)(10,14)(11,15), (4,13)(5,12)(6,15)(7,14), (2,10)(3,11)(6,14)(7,15), (1,15)(3,13)(5,11)(7,9)] (1,15,13,7,6,9,4,3,5,12,8,11,14,2,10)\n",
      "[(8,12)(9,13)(10,14)(11,15), (4,13)(5,12)(6,15)(7,14), (2,14)(3,15)(6,10)(7,11), (1,3)(5,7)(9,11)(13,15)] (1,3,13,11,10,9,4,15,5,12,8,7,2,14,6)\n",
      "[(8,12)(9,13)(10,14)(11,15), (4,14)(5,15)(6,12)(7,13), (2,3)(6,7)(10,11)(14,15), (1,7)(3,5)(9,15)(11,13)] (1,7,11,3,2,5,14,13,15,10,4,9,6,12,8)\n",
      "[(8,12)(9,13)(10,14)(11,15), (4,14)(5,15)(6,12)(7,13), (2,7)(3,6)(10,15)(11,14), (1,9)(3,11)(5,13)(7,15)] (1,9,2,15,14,7,5,10,4,3,6,12,8,11,13)\n",
      "[(8,12)(9,13)(10,14)(11,15), (4,14)(5,15)(6,12)(7,13), (2,11)(3,10)(6,15)(7,14), (1,3)(5,7)(9,11)(13,15)] (1,3,10,4,5,6,12,8,13,11,7,15,2,9,14)\n",
      "[(8,12)(9,13)(10,14)(11,15), (4,14)(5,15)(6,12)(7,13), (2,15)(3,14)(6,11)(7,10), (1,13)(3,15)(5,9)(7,11)] (1,13,5,2,3,14,11,9,10,4,15,6,12,8,7)\n",
      "[(8,12)(9,13)(10,14)(11,15), (4,15)(5,14)(6,13)(7,12), (2,3)(6,7)(10,11)(14,15), (1,13)(3,15)(5,9)(7,11)] (1,13,5,3,2,15,10,9,11,4,14,7,12,8,6)\n",
      "[(8,12)(9,13)(10,14)(11,15), (4,15)(5,14)(6,13)(7,12), (2,7)(3,6)(10,15)(11,14), (1,3)(5,7)(9,11)(13,15)] (1,3,6,15,14,13,11,4,10,7,12,8,2,5,9)\n",
      "[(8,12)(9,13)(10,14)(11,15), (4,15)(5,14)(6,13)(7,12), (2,10)(3,11)(6,14)(7,15), (1,7)(3,5)(9,15)(11,13)] (1,7,12,8,9,14,2,10,3,13,15,5,6,11,4)\n",
      "[(8,12)(9,13)(10,14)(11,15), (4,15)(5,14)(6,13)(7,12), (2,11)(3,10)(6,15)(7,14), (1,11)(3,9)(5,15)(7,13)] (1,11,4,6,7,12,8,14,9,5,13,3,10,15,2)\n",
      "[(8,12)(9,13)(10,14)(11,15), (4,15)(5,14)(6,13)(7,12), (2,14)(3,15)(6,10)(7,11), (1,15)(3,13)(5,11)(7,9)] (1,15,9,10,11,4,13,7,12,8,5,2,14,6,3)\n",
      "[(8,12)(9,13)(10,14)(11,15), (4,15)(5,14)(6,13)(7,12), (2,15)(3,14)(6,11)(7,10), (1,9)(3,11)(5,13)(7,15)] (1,9,3,14,15,6,5,11,4,2,7,12,8,10,13)\n",
      "[(8,13)(9,12)(10,15)(11,14), (4,5)(6,7)(12,13)(14,15), (2,10)(3,11)(6,14)(7,15), (1,7)(3,5)(9,15)(11,13)] (1,7,14,5,4,3,13,8,12,15,2,10,6,9,11)\n",
      "[(8,13)(9,12)(10,15)(11,14), (4,5)(6,7)(12,13)(14,15), (2,11)(3,10)(6,15)(7,14), (1,3)(5,7)(9,11)(13,15)] (1,3,10,5,4,7,13,8,12,11,6,14,2,9,15)\n",
      "[(8,13)(9,12)(10,15)(11,14), (4,5)(6,7)(12,13)(14,15), (2,14)(3,15)(6,10)(7,11), (1,15)(3,13)(5,11)(7,9)] (1,15,6,5,4,11,13,8,12,7,10,2,14,9,3)\n",
      "[(8,13)(9,12)(10,15)(11,14), (4,5)(6,7)(12,13)(14,15), (2,15)(3,14)(6,11)(7,10), (1,11)(3,9)(5,15)(7,13)] (1,11,2,5,4,15,13,8,12,3,14,6,10,9,7)\n",
      "[(8,13)(9,12)(10,15)(11,14), (4,6)(5,7)(12,14)(13,15), (2,3)(6,7)(10,11)(14,15), (1,11)(3,9)(5,15)(7,13)] (1,11,12,3,2,9,5,6,4,13,8,14,10,7,15)\n",
      "[(8,13)(9,12)(10,15)(11,14), (4,6)(5,7)(12,14)(13,15), (2,10)(3,11)(6,14)(7,15), (1,5)(3,7)(9,13)(11,15)] (1,5,11,12,13,8,3,15,2,10,9,6,4,14,7)\n",
      "[(8,13)(9,12)(10,15)(11,14), (4,6)(5,7)(12,14)(13,15), (2,11)(3,10)(6,15)(7,14), (1,7)(3,5)(9,15)(11,13)] (1,7,3,10,11,12,15,5,14,2,13,8,6,4,9)\n",
      "[(8,13)(9,12)(10,15)(11,14), (4,6)(5,7)(12,14)(13,15), (2,14)(3,15)(6,10)(7,11), (1,9)(3,11)(5,13)(7,15)] (1,9,2,14,15,6,4,10,5,3,7,13,8,11,12)\n",
      "[(8,13)(9,12)(10,15)(11,14), (4,6)(5,7)(12,14)(13,15), (2,15)(3,14)(6,11)(7,10), (1,13)(3,15)(5,9)(7,11)] (1,13,8,2,3,14,6,4,7,9,15,11,12,5,10)\n",
      "[(8,13)(9,12)(10,15)(11,14), (4,7)(5,6)(12,15)(13,14), (2,3)(6,7)(10,11)(14,15), (1,13)(3,15)(5,9)(7,11)] (1,13,8,3,2,15,7,4,6,9,14,10,12,5,11)\n",
      "[(8,13)(9,12)(10,15)(11,14), (4,7)(5,6)(12,15)(13,14), (2,6)(3,7)(10,14)(11,15), (1,9)(3,11)(5,13)(7,15)] (1,9,3,15,14,7,4,11,5,2,6,13,8,10,12)\n",
      "[(8,13)(9,12)(10,15)(11,14), (4,7)(5,6)(12,15)(13,14), (2,10)(3,11)(6,14)(7,15), (1,11)(3,9)(5,15)(7,13)] (1,11,7,4,5,14,9,13,8,6,15,2,10,12,3)\n",
      "[(8,13)(9,12)(10,15)(11,14), (4,7)(5,6)(12,15)(13,14), (2,11)(3,10)(6,15)(7,14), (1,15)(3,13)(5,11)(7,9)] (1,15,13,8,9,6,11,3,10,12,7,4,14,2,5)\n",
      "[(8,13)(9,12)(10,15)(11,14), (4,7)(5,6)(12,15)(13,14), (2,14)(3,15)(6,10)(7,11), (1,5)(3,7)(9,13)(11,15)] (1,5,10,12,13,8,2,14,3,11,9,7,4,15,6)\n",
      "[(8,13)(9,12)(10,15)(11,14), (4,7)(5,6)(12,15)(13,14), (2,15)(3,14)(6,11)(7,10), (1,3)(5,7)(9,11)(13,15)] (1,3,14,6,7,4,10,12,11,15,5,9,2,13,8)\n",
      "[(8,13)(9,12)(10,15)(11,14), (4,12)(5,13)(6,14)(7,15), (2,3)(6,7)(10,11)(14,15), (1,15)(3,13)(5,11)(7,9)] (1,15,5,3,2,13,8,11,9,4,12,7,14,10,6)\n",
      "[(8,13)(9,12)(10,15)(11,14), (4,12)(5,13)(6,14)(7,15), (2,6)(3,7)(10,14)(11,15), (1,3)(5,7)(9,11)(13,15)] (1,3,5,15,14,13,8,7,9,4,12,11,2,6,10)\n",
      "[(8,13)(9,12)(10,15)(11,14), (4,12)(5,13)(6,14)(7,15), (2,11)(3,10)(6,15)(7,14), (1,11)(3,9)(5,15)(7,13)] (1,11,5,7,6,13,8,15,9,4,12,3,10,14,2)\n",
      "[(8,13)(9,12)(10,15)(11,14), (4,12)(5,13)(6,14)(7,15), (2,14)(3,15)(6,10)(7,11), (1,7)(3,5)(9,15)(11,13)] (1,7,5,11,10,13,8,3,9,4,12,15,6,2,14)\n",
      "[(8,13)(9,12)(10,15)(11,14), (4,13)(5,12)(6,15)(7,14), (2,3)(6,7)(10,11)(14,15), (1,7)(3,5)(9,15)(11,13)] (1,7,9,3,2,5,12,15,13,8,4,11,6,14,10)\n",
      "[(8,13)(9,12)(10,15)(11,14), (4,13)(5,12)(6,15)(7,14), (2,6)(3,7)(10,14)(11,15), (1,11)(3,9)(5,15)(7,13)] (1,11,9,15,14,5,12,3,13,8,4,7,10,2,6)\n",
      "[(8,13)(9,12)(10,15)(11,14), (4,13)(5,12)(6,15)(7,14), (2,10)(3,11)(6,14)(7,15), (1,3)(5,7)(9,11)(13,15)] (1,3,9,7,6,5,12,11,13,8,4,15,2,10,14)\n",
      "[(8,13)(9,12)(10,15)(11,14), (4,13)(5,12)(6,15)(7,14), (2,15)(3,14)(6,11)(7,10), (1,15)(3,13)(5,11)(7,9)] (1,15,9,11,10,5,12,7,13,8,4,3,14,6,2)\n",
      "[(8,13)(9,12)(10,15)(11,14), (4,14)(5,15)(6,12)(7,13), (2,3)(6,7)(10,11)(14,15), (1,9)(3,11)(5,13)(7,15)] (1,9,15,3,2,11,4,7,5,14,10,13,8,6,12)\n",
      "[(8,13)(9,12)(10,15)(11,14), (4,14)(5,15)(6,12)(7,13), (2,6)(3,7)(10,14)(11,15), (1,13)(3,15)(5,9)(7,11)] (1,13,8,15,14,3,11,4,10,9,2,6,12,5,7)\n",
      "[(8,13)(9,12)(10,15)(11,14), (4,14)(5,15)(6,12)(7,13), (2,10)(3,11)(6,14)(7,15), (1,15)(3,13)(5,11)(7,9)] (1,15,2,10,11,4,6,12,7,3,5,9,14,13,8)\n",
      "[(8,13)(9,12)(10,15)(11,14), (4,14)(5,15)(6,12)(7,13), (2,11)(3,10)(6,15)(7,14), (1,5)(3,7)(9,13)(11,15)] (1,5,6,12,13,8,14,2,15,7,9,11,4,3,10)\n",
      "[(8,13)(9,12)(10,15)(11,14), (4,14)(5,15)(6,12)(7,13), (2,14)(3,15)(6,10)(7,11), (1,3)(5,7)(9,11)(13,15)] (1,3,13,8,9,10,7,15,6,12,11,4,2,14,5)\n",
      "[(8,13)(9,12)(10,15)(11,14), (4,14)(5,15)(6,12)(7,13), (2,15)(3,14)(6,11)(7,10), (1,7)(3,5)(9,15)(11,13)] (1,7,11,4,5,2,9,13,8,10,3,14,6,12,15)\n",
      "[(8,13)(9,12)(10,15)(11,14), (4,15)(5,14)(6,13)(7,12), (2,6)(3,7)(10,14)(11,15), (1,7)(3,5)(9,15)(11,13)] (1,7,12,15,14,9,5,10,4,13,8,2,6,11,3)\n",
      "[(8,13)(9,12)(10,15)(11,14), (4,15)(5,14)(6,13)(7,12), (2,10)(3,11)(6,14)(7,15), (1,13)(3,15)(5,9)(7,11)] (1,13,8,14,15,2,10,4,11,9,3,7,12,5,6)\n",
      "[(8,13)(9,12)(10,15)(11,14), (4,15)(5,14)(6,13)(7,12), (2,11)(3,10)(6,15)(7,14), (1,9)(3,11)(5,13)(7,15)] (1,9,14,2,3,10,4,6,5,15,11,13,8,7,12)\n",
      "[(8,13)(9,12)(10,15)(11,14), (4,15)(5,14)(6,13)(7,12), (2,14)(3,15)(6,10)(7,11), (1,11)(3,9)(5,15)(7,13)] (1,11,15,6,7,12,3,5,2,14,13,8,10,4,9)\n",
      "[(8,13)(9,12)(10,15)(11,14), (4,15)(5,14)(6,13)(7,12), (2,15)(3,14)(6,11)(7,10), (1,5)(3,7)(9,13)(11,15)] (1,5,7,12,13,8,15,3,14,6,9,10,4,2,11)\n",
      "[(8,14)(9,15)(10,12)(11,13), (4,5)(6,7)(12,13)(14,15), (2,6)(3,7)(10,14)(11,15), (1,9)(3,11)(5,13)(7,15)] (1,9,10,5,4,13,7,2,6,11,12,14,8,3,15)\n",
      "[(8,14)(9,15)(10,12)(11,13), (4,5)(6,7)(12,13)(14,15), (2,7)(3,6)(10,15)(11,14), (1,11)(3,9)(5,15)(7,13)] (1,11,12,5,4,15,3,6,2,13,14,8,10,7,9)\n",
      "[(8,14)(9,15)(10,12)(11,13), (4,5)(6,7)(12,13)(14,15), (2,10)(3,11)(6,14)(7,15), (1,13)(3,15)(5,9)(7,11)] (1,13,15,5,4,9,6,3,7,14,8,11,12,2,10)\n",
      "[(8,14)(9,15)(10,12)(11,13), (4,5)(6,7)(12,13)(14,15), (2,14)(3,15)(6,10)(7,11), (1,3)(5,7)(9,11)(13,15)] (1,3,13,5,4,7,10,15,11,12,6,9,2,14,8)\n",
      "[(8,14)(9,15)(10,12)(11,13), (4,5)(6,7)(12,13)(14,15), (2,15)(3,14)(6,11)(7,10), (1,15)(3,13)(5,11)(7,9)] (1,15,7,5,4,11,12,9,13,6,10,3,14,8,2)\n",
      "[(8,14)(9,15)(10,12)(11,13), (4,6)(5,7)(12,14)(13,15), (2,3)(6,7)(10,11)(14,15), (1,13)(3,15)(5,9)(7,11)] (1,13,10,3,2,15,5,6,4,11,14,8,12,7,9)\n",
      "[(8,14)(9,15)(10,12)(11,13), (4,6)(5,7)(12,14)(13,15), (2,7)(3,6)(10,15)(11,14), (1,15)(3,13)(5,11)(7,9)] (1,15,7,11,10,5,2,9,3,6,4,13,14,8,12)\n",
      "[(8,14)(9,15)(10,12)(11,13), (4,6)(5,7)(12,14)(13,15), (2,11)(3,10)(6,15)(7,14), (1,11)(3,9)(5,15)(7,13)] (1,11,6,4,5,14,8,12,9,7,15,3,10,13,2)\n",
      "[(8,14)(9,15)(10,12)(11,13), (4,6)(5,7)(12,14)(13,15), (2,15)(3,14)(6,11)(7,10), (1,9)(3,11)(5,13)(7,15)] (1,9,5,10,11,2,7,13,6,4,3,14,8,12,15)\n",
      "[(8,14)(9,15)(10,12)(11,13), (4,7)(5,6)(12,15)(13,14), (2,3)(6,7)(10,11)(14,15), (1,9)(3,11)(5,13)(7,15)] (1,9,12,3,2,11,7,4,6,13,10,14,8,5,15)\n",
      "[(8,14)(9,15)(10,12)(11,13), (4,7)(5,6)(12,15)(13,14), (2,6)(3,7)(10,14)(11,15), (1,13)(3,15)(5,9)(7,11)] (1,13,3,11,10,7,4,15,5,2,6,9,12,14,8)\n",
      "[(8,14)(9,15)(10,12)(11,13), (4,7)(5,6)(12,15)(13,14), (2,10)(3,11)(6,14)(7,15), (1,5)(3,7)(9,13)(11,15)] (1,5,14,8,9,12,2,10,3,15,13,7,4,11,6)\n",
      "[(8,14)(9,15)(10,12)(11,13), (4,7)(5,6)(12,15)(13,14), (2,11)(3,10)(6,15)(7,14), (1,3)(5,7)(9,11)(13,15)] (1,3,10,6,7,4,14,8,15,11,5,13,2,9,12)\n",
      "[(8,14)(9,15)(10,12)(11,13), (4,7)(5,6)(12,15)(13,14), (2,14)(3,15)(6,10)(7,11), (1,15)(3,13)(5,11)(7,9)] (1,15,7,4,5,10,13,9,12,6,11,2,14,8,3)\n",
      "[(8,14)(9,15)(10,12)(11,13), (4,7)(5,6)(12,15)(13,14), (2,15)(3,14)(6,11)(7,10), (1,11)(3,9)(5,15)(7,13)] (1,11,9,12,13,6,15,3,14,8,7,4,10,2,5)\n",
      "[(8,14)(9,15)(10,12)(11,13), (4,12)(5,13)(6,14)(7,15), (2,3)(6,7)(10,11)(14,15), (1,11)(3,9)(5,15)(7,13)] (1,11,15,3,2,9,6,5,7,14,8,13,10,4,12)\n",
      "[(8,14)(9,15)(10,12)(11,13), (4,12)(5,13)(6,14)(7,15), (2,7)(3,6)(10,15)(11,14), (1,5)(3,7)(9,13)(11,15)] (1,5,9,2,3,6,15,13,14,8,7,10,4,12,11)\n",
      "[(8,14)(9,15)(10,12)(11,13), (4,12)(5,13)(6,14)(7,15), (2,11)(3,10)(6,15)(7,14), (1,13)(3,15)(5,9)(7,11)] (1,13,2,7,6,11,9,14,8,3,10,4,12,15,5)\n",
      "[(8,14)(9,15)(10,12)(11,13), (4,12)(5,13)(6,14)(7,15), (2,15)(3,14)(6,11)(7,10), (1,3)(5,7)(9,11)(13,15)] (1,3,14,8,9,10,4,12,5,15,11,7,2,13,6)\n",
      "[(8,14)(9,15)(10,12)(11,13), (4,13)(5,12)(6,15)(7,14), (2,6)(3,7)(10,14)(11,15), (1,15)(3,13)(5,11)(7,9)] (1,15,7,10,11,4,3,9,2,6,5,12,14,8,13)\n",
      "[(8,14)(9,15)(10,12)(11,13), (4,13)(5,12)(6,15)(7,14), (2,7)(3,6)(10,15)(11,14), (1,9)(3,11)(5,13)(7,15)] (1,9,11,4,5,12,7,3,6,10,13,14,8,2,15)\n",
      "[(8,14)(9,15)(10,12)(11,13), (4,13)(5,12)(6,15)(7,14), (2,10)(3,11)(6,14)(7,15), (1,11)(3,9)(5,15)(7,13)] (1,11,4,7,6,13,9,14,8,5,12,2,10,15,3)\n",
      "[(8,14)(9,15)(10,12)(11,13), (4,13)(5,12)(6,15)(7,14), (2,14)(3,15)(6,10)(7,11), (1,5)(3,7)(9,13)(11,15)] (1,5,12,6,7,2,14,8,15,13,3,11,4,9,10)\n",
      "[(8,14)(9,15)(10,12)(11,13), (4,13)(5,12)(6,15)(7,14), (2,15)(3,14)(6,11)(7,10), (1,13)(3,15)(5,9)(7,11)] (1,13,6,2,3,14,8,10,9,7,15,5,12,11,4)\n",
      "[(8,14)(9,15)(10,12)(11,13), (4,14)(5,15)(6,12)(7,13), (2,3)(6,7)(10,11)(14,15), (1,15)(3,13)(5,11)(7,9)] (1,15,7,3,2,13,10,9,11,6,12,5,14,8,4)\n",
      "[(8,14)(9,15)(10,12)(11,13), (4,14)(5,15)(6,12)(7,13), (2,7)(3,6)(10,15)(11,14), (1,3)(5,7)(9,11)(13,15)] (1,3,6,12,13,14,8,4,9,7,15,11,2,5,10)\n",
      "[(8,14)(9,15)(10,12)(11,13), (4,14)(5,15)(6,12)(7,13), (2,11)(3,10)(6,15)(7,14), (1,9)(3,11)(5,13)(7,15)] (1,9,13,2,3,10,7,5,6,12,11,14,8,4,15)\n",
      "[(8,14)(9,15)(10,12)(11,13), (4,14)(5,15)(6,12)(7,13), (2,15)(3,14)(6,11)(7,10), (1,5)(3,7)(9,13)(11,15)] (1,5,2,11,10,15,13,6,12,3,14,8,4,7,9)\n",
      "[(8,14)(9,15)(10,12)(11,13), (4,15)(5,14)(6,13)(7,12), (2,3)(6,7)(10,11)(14,15), (1,5)(3,7)(9,13)(11,15)] (1,5,11,3,2,7,12,15,13,10,6,9,4,14,8)\n",
      "[(8,14)(9,15)(10,12)(11,13), (4,15)(5,14)(6,13)(7,12), (2,6)(3,7)(10,14)(11,15), (1,11)(3,9)(5,15)(7,13)] (1,11,2,6,7,12,14,8,15,3,13,5,10,9,4)\n",
      "[(8,14)(9,15)(10,12)(11,13), (4,15)(5,14)(6,13)(7,12), (2,7)(3,6)(10,15)(11,14), (1,13)(3,15)(5,9)(7,11)] (1,13,14,8,9,4,10,2,11,15,5,7,12,3,6)\n",
      "[(8,14)(9,15)(10,12)(11,13), (4,15)(5,14)(6,13)(7,12), (2,10)(3,11)(6,14)(7,15), (1,3)(5,7)(9,11)(13,15)] (1,3,9,4,5,6,15,11,14,8,7,12,2,10,13)\n",
      "[(8,14)(9,15)(10,12)(11,13), (4,15)(5,14)(6,13)(7,12), (2,11)(3,10)(6,15)(7,14), (1,15)(3,13)(5,11)(7,9)] (1,15,7,12,13,2,5,9,4,6,3,10,14,8,11)\n",
      "[(8,14)(9,15)(10,12)(11,13), (4,15)(5,14)(6,13)(7,12), (2,14)(3,15)(6,10)(7,11), (1,9)(3,11)(5,13)(7,15)] (1,9,4,11,10,3,7,12,6,5,2,14,8,13,15)\n",
      "[(8,15)(9,14)(10,13)(11,12), (4,5)(6,7)(12,13)(14,15), (2,6)(3,7)(10,14)(11,15), (1,13)(3,15)(5,9)(7,11)] (1,13,14,5,4,9,7,2,6,15,8,10,12,3,11)\n",
      "[(8,15)(9,14)(10,13)(11,12), (4,5)(6,7)(12,13)(14,15), (2,7)(3,6)(10,15)(11,14), (1,15)(3,13)(5,11)(7,9)] (1,15,8,5,4,11,3,6,2,9,10,12,14,7,13)\n",
      "[(8,15)(9,14)(10,13)(11,12), (4,5)(6,7)(12,13)(14,15), (2,10)(3,11)(6,14)(7,15), (1,3)(5,7)(9,11)(13,15)] (1,3,9,5,4,7,14,11,15,8,6,13,2,10,12)\n",
      "[(8,15)(9,14)(10,13)(11,12), (4,5)(6,7)(12,13)(14,15), (2,11)(3,10)(6,15)(7,14), (1,11)(3,9)(5,15)(7,13)] (1,11,7,5,4,15,8,13,9,6,14,3,10,12,2)\n",
      "[(8,15)(9,14)(10,13)(11,12), (4,5)(6,7)(12,13)(14,15), (2,14)(3,15)(6,10)(7,11), (1,9)(3,11)(5,13)(7,15)] (1,9,11,5,4,13,6,3,7,10,12,15,8,2,14)\n",
      "[(8,15)(9,14)(10,13)(11,12), (4,6)(5,7)(12,14)(13,15), (2,3)(6,7)(10,11)(14,15), (1,15)(3,13)(5,11)(7,9)] (1,15,8,3,2,13,5,6,4,9,12,10,14,7,11)\n",
      "[(8,15)(9,14)(10,13)(11,12), (4,6)(5,7)(12,14)(13,15), (2,10)(3,11)(6,14)(7,15), (1,13)(3,15)(5,9)(7,11)] (1,13,2,10,11,6,4,14,5,3,7,9,12,15,8)\n",
      "[(8,15)(9,14)(10,13)(11,12), (4,6)(5,7)(12,14)(13,15), (2,11)(3,10)(6,15)(7,14), (1,9)(3,11)(5,13)(7,15)] (1,9,12,2,3,10,6,4,7,13,11,15,8,5,14)\n",
      "[(8,15)(9,14)(10,13)(11,12), (4,6)(5,7)(12,14)(13,15), (2,14)(3,15)(6,10)(7,11), (1,5)(3,7)(9,13)(11,15)] (1,5,15,8,9,12,3,11,2,14,13,6,4,10,7)\n",
      "[(8,15)(9,14)(10,13)(11,12), (4,6)(5,7)(12,14)(13,15), (2,15)(3,14)(6,11)(7,10), (1,7)(3,5)(9,15)(11,13)] (1,7,3,14,15,8,11,5,10,2,9,12,6,4,13)\n",
      "[(8,15)(9,14)(10,13)(11,12), (4,7)(5,6)(12,15)(13,14), (2,3)(6,7)(10,11)(14,15), (1,11)(3,9)(5,15)(7,13)] (1,11,14,3,2,9,7,4,6,15,8,12,10,5,13)\n",
      "[(8,15)(9,14)(10,13)(11,12), (4,7)(5,6)(12,15)(13,14), (2,7)(3,6)(10,15)(11,14), (1,9)(3,11)(5,13)(7,15)] (1,9,5,11,10,3,6,13,7,4,2,15,8,12,14)\n",
      "[(8,15)(9,14)(10,13)(11,12), (4,7)(5,6)(12,15)(13,14), (2,10)(3,11)(6,14)(7,15), (1,15)(3,13)(5,11)(7,9)] (1,15,8,12,13,2,10,6,11,9,3,5,14,7,4)\n",
      "[(8,15)(9,14)(10,13)(11,12), (4,7)(5,6)(12,15)(13,14), (2,11)(3,10)(6,15)(7,14), (1,7)(3,5)(9,15)(11,13)] (1,7,4,14,15,8,12,2,13,5,9,11,6,3,10)\n",
      "[(8,15)(9,14)(10,13)(11,12), (4,7)(5,6)(12,15)(13,14), (2,14)(3,15)(6,10)(7,11), (1,3)(5,7)(9,11)(13,15)] (1,3,13,6,7,4,9,15,8,12,5,10,2,14,11)\n",
      "[(8,15)(9,14)(10,13)(11,12), (4,7)(5,6)(12,15)(13,14), (2,15)(3,14)(6,11)(7,10), (1,13)(3,15)(5,9)(7,11)] (1,13,11,2,3,14,5,7,4,10,15,8,12,6,9)\n",
      "[(8,15)(9,14)(10,13)(11,12), (4,12)(5,13)(6,14)(7,15), (2,3)(6,7)(10,11)(14,15), (1,5)(3,7)(9,13)(11,15)] (1,5,9,3,2,7,14,13,15,8,6,11,4,12,10)\n",
      "[(8,15)(9,14)(10,13)(11,12), (4,12)(5,13)(6,14)(7,15), (2,6)(3,7)(10,14)(11,15), (1,7)(3,5)(9,15)(11,13)] (1,7,13,14,15,8,5,11,4,12,9,2,6,10,3)\n",
      "[(8,15)(9,14)(10,13)(11,12), (4,12)(5,13)(6,14)(7,15), (2,7)(3,6)(10,15)(11,14), (1,13)(3,15)(5,9)(7,11)] (1,13,3,6,7,10,9,15,8,2,11,4,12,14,5)\n",
      "[(8,15)(9,14)(10,13)(11,12), (4,12)(5,13)(6,14)(7,15), (2,11)(3,10)(6,15)(7,14), (1,3)(5,7)(9,11)(13,15)] (1,3,10,7,6,5,15,8,14,11,4,12,2,9,13)\n",
      "[(8,15)(9,14)(10,13)(11,12), (4,12)(5,13)(6,14)(7,15), (2,14)(3,15)(6,10)(7,11), (1,11)(3,9)(5,15)(7,13)] (1,11,4,12,13,6,2,14,3,5,7,9,10,15,8)\n",
      "[(8,15)(9,14)(10,13)(11,12), (4,12)(5,13)(6,14)(7,15), (2,15)(3,14)(6,11)(7,10), (1,15)(3,13)(5,11)(7,9)] (1,15,8,10,11,4,12,6,13,9,5,3,14,7,2)\n",
      "[(8,15)(9,14)(10,13)(11,12), (4,13)(5,12)(6,15)(7,14), (2,3)(6,7)(10,11)(14,15), (1,13)(3,15)(5,9)(7,11)] (1,13,7,3,2,15,8,11,9,6,14,5,12,10,4)\n",
      "[(8,15)(9,14)(10,13)(11,12), (4,13)(5,12)(6,15)(7,14), (2,6)(3,7)(10,14)(11,15), (1,3)(5,7)(9,11)(13,15)] (1,3,5,12,13,14,11,7,10,4,15,8,2,6,9)\n",
      "[(8,15)(9,14)(10,13)(11,12), (4,13)(5,12)(6,15)(7,14), (2,7)(3,6)(10,15)(11,14), (1,11)(3,9)(5,15)(7,13)] (1,11,15,8,9,2,13,5,12,14,3,6,10,4,7)\n",
      "[(8,15)(9,14)(10,13)(11,12), (4,13)(5,12)(6,15)(7,14), (2,10)(3,11)(6,14)(7,15), (1,5)(3,7)(9,13)(11,15)] (1,5,12,7,6,3,15,8,14,13,2,10,4,9,11)\n",
      "[(8,15)(9,14)(10,13)(11,12), (4,13)(5,12)(6,15)(7,14), (2,14)(3,15)(6,10)(7,11), (1,7)(3,5)(9,15)(11,13)] (1,7,2,14,15,8,10,4,11,3,9,13,6,5,12)\n",
      "[(8,15)(9,14)(10,13)(11,12), (4,13)(5,12)(6,15)(7,14), (2,15)(3,14)(6,11)(7,10), (1,9)(3,11)(5,13)(7,15)] (1,9,10,4,5,12,6,2,7,11,13,15,8,3,14)\n",
      "[(8,15)(9,14)(10,13)(11,12), (4,14)(5,15)(6,12)(7,13), (2,6)(3,7)(10,14)(11,15), (1,9)(3,11)(5,13)(7,15)] (1,9,4,10,11,2,6,12,7,5,3,15,8,13,14)\n",
      "[(8,15)(9,14)(10,13)(11,12), (4,14)(5,15)(6,12)(7,13), (2,7)(3,6)(10,15)(11,14), (1,5)(3,7)(9,13)(11,15)] (1,5,10,2,3,6,12,14,13,11,7,9,4,15,8)\n",
      "[(8,15)(9,14)(10,13)(11,12), (4,14)(5,15)(6,12)(7,13), (2,10)(3,11)(6,14)(7,15), (1,7)(3,5)(9,15)(11,13)] (1,7,11,14,15,8,3,13,2,10,9,4,6,12,5)\n",
      "[(8,15)(9,14)(10,13)(11,12), (4,14)(5,15)(6,12)(7,13), (2,11)(3,10)(6,15)(7,14), (1,13)(3,15)(5,9)(7,11)] (1,13,15,8,9,4,11,3,10,14,5,6,12,2,7)\n",
      "[(8,15)(9,14)(10,13)(11,12), (4,14)(5,15)(6,12)(7,13), (2,14)(3,15)(6,10)(7,11), (1,15)(3,13)(5,11)(7,9)] (1,15,8,11,10,5,13,6,12,9,4,2,14,7,3)\n",
      "[(8,15)(9,14)(10,13)(11,12), (4,15)(5,14)(6,13)(7,12), (2,3)(6,7)(10,11)(14,15), (1,9)(3,11)(5,13)(7,15)] (1,9,13,3,2,11,6,5,7,12,10,15,8,4,14)\n",
      "[(8,15)(9,14)(10,13)(11,12), (4,15)(5,14)(6,13)(7,12), (2,6)(3,7)(10,14)(11,15), (1,15)(3,13)(5,11)(7,9)] (1,15,8,4,5,10,2,6,3,9,11,13,14,7,12)\n",
      "[(8,15)(9,14)(10,13)(11,12), (4,15)(5,14)(6,13)(7,12), (2,7)(3,6)(10,15)(11,14), (1,7)(3,5)(9,15)(11,13)] (1,7,12,14,15,8,4,10,5,13,9,3,6,11,2)\n",
      "[(8,15)(9,14)(10,13)(11,12), (4,15)(5,14)(6,13)(7,12), (2,10)(3,11)(6,14)(7,15), (1,11)(3,9)(5,15)(7,13)] (1,11,5,6,7,12,9,15,8,4,13,2,10,14,3)\n",
      "[(8,15)(9,14)(10,13)(11,12), (4,15)(5,14)(6,13)(7,12), (2,11)(3,10)(6,15)(7,14), (1,5)(3,7)(9,13)(11,15)] (1,5,3,10,11,14,13,7,12,2,15,8,4,6,9)\n",
      "[(8,15)(9,14)(10,13)(11,12), (4,15)(5,14)(6,13)(7,12), (2,15)(3,14)(6,11)(7,10), (1,3)(5,7)(9,11)(13,15)] (1,3,14,11,10,9,7,12,6,15,8,4,2,13,5)\n"
     ]
    }
   ],
   "source": [
    "symm_emb(fact_g)"
   ]
  },
  {
   "cell_type": "code",
   "execution_count": 42,
   "metadata": {},
   "outputs": [
    {
     "data": {
      "text/plain": [
       "[\n",
       "[1 1 0]  [1 0 0]  [1 0 0]\n",
       "[0 1 0]  [1 1 1]  [0 1 0]\n",
       "[0 0 1], [0 0 1], [1 0 1]\n",
       "]"
      ]
     },
     "execution_count": 42,
     "metadata": {},
     "output_type": "execute_result"
    }
   ],
   "source": [
    "fact_g[3]"
   ]
  },
  {
   "cell_type": "code",
   "execution_count": 93,
   "metadata": {},
   "outputs": [],
   "source": [
    "# fact = factorization, c = singer\n",
    "# returns the cyclic orbit\n",
    "def hurwitz_orbit(single_fact, c):\n",
    "    fact=single_fact\n",
    "    hurwitz=[]\n",
    "    while 1:\n",
    "        f = fact[1]\n",
    "        fact.remove(f)\n",
    "        fact.insert(0,c*f*c^(-1))\n",
    "        if fact not in hurwitz:\n",
    "            hurwitz.append(copy(fact))\n",
    "        else:\n",
    "            break\n",
    "    return hurwitz"
   ]
  },
  {
   "cell_type": "code",
   "execution_count": 95,
   "metadata": {},
   "outputs": [],
   "source": [
    "f_test=fact_g[3]\n",
    "c_test=sing_g[3]"
   ]
  },
  {
   "cell_type": "code",
   "execution_count": 96,
   "metadata": {},
   "outputs": [],
   "source": [
    "hurwitz =hurwitz_orbit(f_test,c_test)"
   ]
  },
  {
   "cell_type": "code",
   "execution_count": 58,
   "metadata": {},
   "outputs": [
    {
     "data": {
      "text/plain": [
       "14"
      ]
     },
     "execution_count": 58,
     "metadata": {},
     "output_type": "execute_result"
    }
   ],
   "source": [
    "len(hurwitz)"
   ]
  },
  {
   "cell_type": "code",
   "execution_count": 98,
   "metadata": {},
   "outputs": [
    {
     "data": {
      "text/plain": [
       "[[\n",
       "[1 0 1]  [1 1 0]  [1 0 0]\n",
       "[0 1 1]  [0 1 0]  [0 1 0]\n",
       "[0 0 1], [0 0 1], [1 0 1]\n",
       "],\n",
       " [\n",
       "[0 0 1]  [1 0 1]  [1 0 0]\n",
       "[0 1 0]  [0 1 1]  [0 1 0]\n",
       "[1 0 0], [0 0 1], [1 0 1]\n",
       "],\n",
       " [\n",
       "[1 0 0]  [0 0 1]  [1 0 0]\n",
       "[1 0 1]  [0 1 0]  [0 1 0]\n",
       "[1 1 0], [1 0 0], [1 0 1]\n",
       "],\n",
       " [\n",
       "[1 0 0]  [1 0 0]  [1 0 0]\n",
       "[0 1 1]  [1 0 1]  [0 1 0]\n",
       "[0 0 1], [1 1 0], [1 0 1]\n",
       "],\n",
       " [\n",
       "[1 0 0]  [1 0 0]  [1 0 0]\n",
       "[0 1 0]  [0 1 1]  [0 1 0]\n",
       "[1 0 1], [0 0 1], [1 0 1]\n",
       "],\n",
       " [\n",
       "[0 1 1]  [1 0 0]  [1 0 0]\n",
       "[1 0 1]  [0 1 0]  [0 1 0]\n",
       "[0 0 1], [1 0 1], [1 0 1]\n",
       "],\n",
       " [\n",
       "[0 1 0]  [0 1 1]  [1 0 0]\n",
       "[1 0 0]  [1 0 1]  [0 1 0]\n",
       "[1 1 1], [0 0 1], [1 0 1]\n",
       "],\n",
       " [\n",
       "[1 0 0]  [0 1 0]  [1 0 0]\n",
       "[1 1 0]  [1 0 0]  [0 1 0]\n",
       "[1 0 1], [1 1 1], [1 0 1]\n",
       "],\n",
       " [\n",
       "[1 1 1]  [1 0 0]  [1 0 0]\n",
       "[0 1 0]  [1 1 0]  [0 1 0]\n",
       "[0 0 1], [1 0 1], [1 0 1]\n",
       "],\n",
       " [\n",
       "[1 0 0]  [1 1 1]  [1 0 0]\n",
       "[0 1 0]  [0 1 0]  [0 1 0]\n",
       "[1 1 1], [0 0 1], [1 0 1]\n",
       "],\n",
       " [\n",
       "[1 1 0]  [1 0 0]  [1 0 0]\n",
       "[0 1 0]  [0 1 0]  [0 1 0]\n",
       "[0 1 1], [1 1 1], [1 0 1]\n",
       "],\n",
       " [\n",
       "[1 1 1]  [1 1 0]  [1 0 0]\n",
       "[0 0 1]  [0 1 0]  [0 1 0]\n",
       "[0 1 0], [0 1 1], [1 0 1]\n",
       "],\n",
       " [\n",
       "[1 0 0]  [1 1 1]  [1 0 0]\n",
       "[1 1 1]  [0 0 1]  [0 1 0]\n",
       "[0 0 1], [0 1 0], [1 0 1]\n",
       "],\n",
       " [\n",
       "[1 1 0]  [1 0 0]  [1 0 0]\n",
       "[0 1 0]  [1 1 1]  [0 1 0]\n",
       "[0 0 1], [0 0 1], [1 0 1]\n",
       "]]"
      ]
     },
     "execution_count": 98,
     "metadata": {},
     "output_type": "execute_result"
    }
   ],
   "source": [
    "hurwitz"
   ]
  },
  {
   "cell_type": "code",
   "execution_count": 99,
   "metadata": {},
   "outputs": [
    {
     "name": "stdout",
     "output_type": "stream",
     "text": [
      "[(2,3)(4,5), (4,6)(5,7), (1,5)(3,7)] (1,5,6,4,3,2,7)\n",
      "[(1,4)(3,6), (2,3)(4,5), (1,5)(3,7)] (2,7,3,6)(4,5)\n",
      "[(1,6)(2,5), (1,4)(3,6), (1,5)(3,7)] (1,7,3,6,4,5,2)\n",
      "[(2,3)(6,7), (1,6)(2,5), (1,5)(3,7)] (1,6,3)(2,7,5)\n",
      "[(1,5)(3,7), (2,3)(6,7), (1,5)(3,7)] (2,7)(3,6)\n",
      "[(2,5)(3,4), (1,5)(3,7), (1,5)(3,7)] (2,5)(3,4)\n",
      "[(1,7)(2,4), (2,5)(3,4), (1,5)(3,7)] (1,3,4)(2,7,5)\n",
      "[(1,5)(2,6), (1,7)(2,4), (1,5)(3,7)] (2,6,4)(3,7,5)\n",
      "[(4,7)(5,6), (1,5)(2,6), (1,5)(3,7)] (2,6,5)(3,7,4)\n",
      "[(1,7)(3,5), (4,7)(5,6), (1,5)(3,7)] (1,4,3,6)(5,7)\n",
      "[(1,3)(4,6), (1,7)(3,5), (1,5)(3,7)] (4,6)(5,7)\n",
      "[(1,2)(4,7), (1,3)(4,6), (1,5)(3,7)] (1,2,7,6,4,3,5)\n",
      "[(2,7)(3,6), (1,2)(4,7), (1,5)(3,7)] (1,2,4,3,6,7,5)\n",
      "[(4,6)(5,7), (2,7)(3,6), (1,5)(3,7)] (1,5,2,3,6,4,7)\n"
     ]
    }
   ],
   "source": [
    "symm_emb(hurwitz)"
   ]
  },
  {
   "cell_type": "code",
   "execution_count": 94,
   "metadata": {},
   "outputs": [
    {
     "data": {
      "text/plain": [
       "[\n",
       "[1 1 0]  [1 0 0]  [1 0 0]\n",
       "[0 1 0]  [1 1 1]  [0 1 0]\n",
       "[0 0 1], [0 0 1], [1 0 1]\n",
       "]"
      ]
     },
     "execution_count": 94,
     "metadata": {},
     "output_type": "execute_result"
    }
   ],
   "source": [
    "fact_g[3]"
   ]
  },
  {
   "cell_type": "code",
   "execution_count": 266,
   "metadata": {},
   "outputs": [
    {
     "data": {
      "image/png": "[encoded data removed]",
      "text/plain": [
       "Graphics object consisting of 32 graphics primitives"
      ]
     },
     "metadata": {},
     "output_type": "display_data"
    }
   ],
   "source": [
    "rrr = fact_g[-1]   \n",
    "[M1,M2,M3,M4]=get_adj_matrix(rrr)\n",
    "Dlist=DiGraph(M1),DiGraph(M2),DiGraph(M3),DiGraph(M4)\n",
    "alledge=[]\n",
    "for i in range(n):\n",
    "    for u,v,l in Dlist[i].edges():\n",
    "        Dlist[i].set_edge_label(u,v,str(i))\n",
    "    alledge = alledge+Dlist[i].edges()\n",
    "D=DiGraph()\n",
    "D.add_edges(alledge)\n",
    "D.relabel(vertex)\n",
    "G=D.to_undirected()\n",
    "G.graphplot(color_by_label=True,vertex_size=0,layout='spring').show()"
   ]
  },
  {
   "cell_type": "code",
   "execution_count": 267,
   "metadata": {},
   "outputs": [
    {
     "data": {
      "text/html": [
       "<html><script type=\"math/tex; mode=display\">\\newcommand{\\Bold}[1]{\\mathbf{#1}}\\left[\\left(\\begin{array}{rrrr}\n",
       "1 & 1 & 1 & 1 \\\\\n",
       "0 & 1 & 0 & 0 \\\\\n",
       "0 & 0 & 1 & 0 \\\\\n",
       "0 & 0 & 0 & 1\n",
       "\\end{array}\\right), \\left(\\begin{array}{rrrr}\n",
       "1 & 0 & 0 & 0 \\\\\n",
       "1 & 1 & 1 & 1 \\\\\n",
       "0 & 0 & 1 & 0 \\\\\n",
       "0 & 0 & 0 & 1\n",
       "\\end{array}\\right), \\left(\\begin{array}{rrrr}\n",
       "1 & 0 & 0 & 0 \\\\\n",
       "0 & 1 & 0 & 0 \\\\\n",
       "1 & 1 & 1 & 1 \\\\\n",
       "0 & 0 & 0 & 1\n",
       "\\end{array}\\right), \\left(\\begin{array}{rrrr}\n",
       "1 & 0 & 0 & 0 \\\\\n",
       "0 & 1 & 0 & 0 \\\\\n",
       "0 & 0 & 1 & 0 \\\\\n",
       "0 & 0 & 1 & 1\n",
       "\\end{array}\\right)\\right]</script></html>"
      ],
      "text/plain": [
       "[\n",
       "[1 1 1 1]  [1 0 0 0]  [1 0 0 0]  [1 0 0 0]\n",
       "[0 1 0 0]  [1 1 1 1]  [0 1 0 0]  [0 1 0 0]\n",
       "[0 0 1 0]  [0 0 1 0]  [1 1 1 1]  [0 0 1 0]\n",
       "[0 0 0 1], [0 0 0 1], [0 0 0 1], [0 0 1 1]\n",
       "]"
      ]
     },
     "execution_count": 267,
     "metadata": {},
     "output_type": "execute_result"
    }
   ],
   "source": [
    "fact_g[-1]"
   ]
  },
  {
   "cell_type": "code",
   "execution_count": 115,
   "metadata": {},
   "outputs": [
    {
     "name": "stdout",
     "output_type": "stream",
     "text": [
      "[(1,4)(2,7), (4,6)(5,7), (2,7)(3,6)] (1,3,6,4)(2,5)\n",
      "[(1,6)(3,4), (1,4)(2,7), (4,6)(5,7)] (1,4,3)(2,5,7)\n",
      "[(1,7)(3,5), (1,6)(3,4), (1,4)(2,7)] (1,2,7,6,4,3,5)\n",
      "[(1,6)(2,5), (1,7)(3,5), (1,6)(3,4)] (2,4,3,5)(6,7)\n",
      "[(2,3)(4,5), (1,6)(2,5), (1,7)(3,5)] (1,6,7)(2,5,4)\n",
      "[(1,2)(4,7), (2,3)(4,5), (1,6)(2,5)] (1,3,5,4,7,2,6)\n",
      "[(2,3)(6,7), (1,2)(4,7), (2,3)(4,5)] (1,3)(4,7,6,5)\n",
      "[(4,6)(5,7), (2,3)(6,7), (1,2)(4,7)] (1,2,3)(5,6,7)\n",
      "[(1,5)(2,6), (4,6)(5,7), (2,3)(6,7)] (1,6,3,2,4,7,5)\n",
      "[(1,3)(4,6), (1,5)(2,6), (4,6)(5,7)] (1,3,7,5)(2,4)\n",
      "[(1,7)(3,5), (1,3)(4,6), (1,5)(2,6)] (1,7,3)(2,6,4)\n",
      "[(2,7)(3,6), (1,7)(3,5), (1,3)(4,6)] (1,7,2,3,4,6,5)\n",
      "[(2,4)(3,5), (2,7)(3,6), (1,7)(3,5)] (1,7,2,4)(5,6)\n",
      "[(1,2)(4,7), (2,4)(3,5), (2,7)(3,6)] (1,4,2)(3,5,6)\n",
      "[(1,6)(3,4), (1,2)(4,7), (2,4)(3,5)] (1,6,4,5,3,7,2)\n",
      "[(4,7)(5,6), (1,6)(3,4), (1,2)(4,7)] (1,6,5,2)(3,7)\n",
      "[(1,5)(2,6), (4,7)(5,6), (1,6)(3,4)] (2,5,6)(3,4,7)\n",
      "[(2,3)(4,5), (1,5)(2,6), (4,7)(5,6)] (1,6,2,3,5,7,4)\n",
      "[(1,5)(3,7), (2,3)(4,5), (1,5)(2,6)] (1,4)(2,3,7,6)\n",
      "[(2,7)(3,6), (1,5)(3,7), (2,3)(4,5)] (1,4,5)(3,6,7)\n",
      "[(4,6)(5,7), (2,7)(3,6), (1,5)(3,7)] (1,5,2,3,6,4,7)\n"
     ]
    }
   ],
   "source": [
    "symm_emb(cyc)"
   ]
  },
  {
   "cell_type": "code",
   "execution_count": 165,
   "metadata": {},
   "outputs": [
    {
     "data": {
      "text/html": [
       "<html><script type=\"math/tex; mode=display\">\\newcommand{\\Bold}[1]{\\mathbf{#1}}21</script></html>"
      ],
      "text/plain": [
       "21"
      ]
     },
     "execution_count": 165,
     "metadata": {},
     "output_type": "execute_result"
    }
   ],
   "source": [
    "len(cyc1)"
   ]
  },
  {
   "cell_type": "code",
   "execution_count": 159,
   "metadata": {},
   "outputs": [
    {
     "name": "stdout",
     "output_type": "stream",
     "text": [
      "[(1,2)(4,7), (4,6)(5,7), (2,7)(3,6)] (1,7,3,6,4,5,2)\n",
      "[(1,5)(3,7), (1,2)(4,7), (4,6)(5,7)] (1,7,3,6,4,5,2)\n",
      "[(1,4)(3,6), (1,5)(3,7), (1,2)(4,7)] (1,7,3,6,4,5,2)\n",
      "[(1,6)(2,5), (1,4)(3,6), (1,5)(3,7)] (1,7,3,6,4,5,2)\n",
      "[(1,7)(2,4), (1,6)(2,5), (1,4)(3,6)] (1,7,3,6,4,5,2)\n",
      "[(2,6)(3,7), (1,7)(2,4), (1,6)(2,5)] (1,7,3,6,4,5,2)\n",
      "[(2,3)(4,5), (2,6)(3,7), (1,7)(2,4)] (1,7,3,6,4,5,2)\n",
      "[(1,2)(5,6), (2,3)(4,5), (2,6)(3,7)] (1,7,3,6,4,5,2)\n",
      "[(1,7)(3,5), (1,2)(5,6), (2,3)(4,5)] (1,7,3,6,4,5,2)\n",
      "[(4,6)(5,7), (1,7)(3,5), (1,2)(5,6)] (1,7,3,6,4,5,2)\n",
      "[(2,5)(3,4), (4,6)(5,7), (1,7)(3,5)] (1,7,3,6,4,5,2)\n",
      "[(1,2)(4,7), (2,5)(3,4), (4,6)(5,7)] (1,7,3,6,4,5,2)\n",
      "[(1,4)(3,6), (1,2)(4,7), (2,5)(3,4)] (1,7,3,6,4,5,2)\n",
      "[(4,5)(6,7), (1,4)(3,6), (1,2)(4,7)] (1,7,3,6,4,5,2)\n",
      "[(1,6)(2,5), (4,5)(6,7), (1,4)(3,6)] (1,7,3,6,4,5,2)\n",
      "[(2,6)(3,7), (1,6)(2,5), (4,5)(6,7)] (1,7,3,6,4,5,2)\n",
      "[(1,3)(4,6), (2,6)(3,7), (1,6)(2,5)] (1,7,3,6,4,5,2)\n",
      "[(2,3)(4,5), (1,3)(4,6), (2,6)(3,7)] (1,7,3,6,4,5,2)\n",
      "[(1,7)(3,5), (2,3)(4,5), (1,3)(4,6)] (1,7,3,6,4,5,2)\n",
      "[(2,7)(3,6), (1,7)(3,5), (2,3)(4,5)] (1,7,3,6,4,5,2)\n",
      "[(4,6)(5,7), (2,7)(3,6), (1,7)(3,5)] (1,7,3,6,4,5,2)\n"
     ]
    }
   ],
   "source": [
    "symm_emb(cyc1)"
   ]
  },
  {
   "cell_type": "code",
   "execution_count": null,
   "metadata": {},
   "outputs": [],
   "source": [
    "#conjugation class:\n",
    "conju=[]\n",
    "for c in sing:\n",
    "    f=c.charpoly()\n",
    "    if f not in conju:\n",
    "        conju.append(f)\n",
    "conju"
   ]
  },
  {
   "cell_type": "code",
   "execution_count": 158,
   "metadata": {},
   "outputs": [],
   "source": [
    "cyc1=cyclic_orbit(fact_g[1],sing_g[1])"
   ]
  },
  {
   "cell_type": "code",
   "execution_count": 115,
   "metadata": {
    "collapsed": false,
    "jupyter": {
     "outputs_hidden": false
    }
   },
   "outputs": [],
   "source": [
    "# GG= SymmetricGroup(15)\n",
    "# rr1=[GG([(8,15),(9,14),(10,13),(11,12)]), GG([(8,14),(9,15),(10,12),(11,13)]), GG([(8,13),(9,12),(10,15),(11,14)]), GG([(8,12),(9,13),(10,14),(11,15)]), GG([(8,11),(9,10),(12,15),(13,14)]), GG([(8,10),(9,11),(12,14),(13,15)]), GG([(8,9),(10,11),(12,13),(14,15)])]\n",
    "# rr2=[GG([(4,14),(5,15),(6,12),(7,13)]), GG([(4,13),(5,12),(6,15),(7,14)]), GG([(4,12),(5,13),(6,14),(7,15)]), GG([(4,7),(5,6),(12,15),(13,14)]), GG([(4,6),(5,7),(12,14),(13,15)]), GG([(4,5),(6,7),(12,13),(14,15)]), GG([(4,15),(5,14),(6,13),(7,12)])]\n",
    "# rr3=[GG([(2,15),(3,14),(6,11),(7,10)]), GG([(2,11),(3,10),(6,15),(7,14)]), GG([(2,10),(3,11),(6,14),(7,15)]), GG([(2,7),(3,6),(10,15),(11,14)]), GG([(2,3),(6,7),(10,11),(14,15)]), GG([(2,14),(3,15),(6,10),(7,11)]), GG([(2,6),(3,7),(10,14),(11,15)])]\n",
    "# rr4=[GG([(1,3),(5,7),(9,11),(13,15)]), GG([(1,5),(3,7),(9,13),(11,15)]), GG([(1,11),(3,9),(5,15),(7,13)]), GG([(1,7),(3,5),(9,15),(11,13)]), GG([(1,15),(3,13),(5,11),(7,9)]), GG([(1,9),(3,11),(5,13),(7,15)]), GG([(1,13),(3,15),(5,9),(7,11)])]\n",
    "\n",
    "\n",
    "GG= SymmetricGroup(15)\n",
    "rr1=[GG([(9,14),(10,13),(11,12)]), GG([(9,15),(10,12),(11,13)]), GG([(9,12),(10,15),(11,14)]), GG([(9,13),(10,14),(11,15)]), GG([(9,10),(12,15),(13,14)]), GG([(9,11),(12,14),(13,15)]), GG([(10,11),(12,13),(14,15)])]\n",
    "rr2=[GG([(5,15),(6,12),(7,13)]), GG([(5,12),(6,15),(7,14)]), GG([(5,13),(6,14),(7,15)]), GG([(5,6),(12,15),(13,14)]), GG([(5,7),(12,14),(13,15)]), GG([(6,7),(12,13),(14,15)]), GG([(5,14),(6,13),(7,12)])]\n",
    "rr3=[GG([(3,14),(6,11),(7,10)]), GG([(3,10),(6,15),(7,14)]), GG([(3,11),(6,14),(7,15)]), GG([(3,6),(10,15),(11,14)]), GG([(6,7),(10,11),(14,15)]), GG([(3,15),(6,10),(7,11)]), GG([(3,7),(10,14),(11,15)])]\n",
    "rr4=[GG([(5,7),(9,11),(13,15)]), GG([(3,7),(9,13),(11,15)]), GG([(3,9),(5,15),(7,13)]), GG([(3,5),(9,15),(11,13)]), GG([(3,13),(5,11),(7,9)]), GG([(3,11),(5,13),(7,15)]), GG([(3,15),(5,9),(7,11)])]\n",
    "\n"
   ]
  },
  {
   "cell_type": "code",
   "execution_count": 113,
   "metadata": {},
   "outputs": [],
   "source": [
    "# GG= SymmetricGroup(15)\n",
    "# rr1=[GG([(11,12)]), GG([(11,13)]), GG([(11,14)]), GG([(11,15)]), GG([(13,14)]), GG([(13,15)]), GG([(14,15)])]\n",
    "# rr2=[GG([(7,13)]), GG([(7,14)]), GG([(7,15)]), GG([(13,14)]), GG([(13,15)]), GG([(14,15)]), GG([(7,12)])]\n",
    "# rr3=[GG([(7,10)]), GG([(7,14)]), GG([(7,15)]), GG([(11,14)]), GG([(14,15)]), GG([(7,11)]), GG([(11,15)])]\n",
    "# rr4=[GG([(13,15)]), GG([(11,15)]), GG([(7,13)]), GG([(11,13)]), GG([(7,9)]), GG([(7,15)]), GG([(7,11)])]\n",
    "\n",
    "GG= SymmetricGroup(15)\n",
    "rr1=[GG([(9,14),(10,13),(11,12)]), GG([(9,15),(10,12),(11,13)]), GG([(9,12),(10,15),(11,14)]), GG([(9,13),(10,14),(11,15)]), GG([(9,10),(12,15),(13,14)]), GG([(9,11),(12,14),(13,15)]), GG([(10,11),(12,13),(14,15)])]\n",
    "rr2=[GG([(5,15),(6,12),(7,13)]), GG([(5,12),(6,15),(7,14)]), GG([(5,13),(6,14),(7,15)]), GG([(5,6),(12,15),(13,14)]), GG([(5,7),(12,14),(13,15)]), GG([(6,7),(12,13),(14,15)]), GG([(5,14),(6,13),(7,12)])]\n",
    "rr3=[GG([(3,14),(6,11),(7,10)]), GG([(3,10),(6,15),(7,14)]), GG([(3,11),(6,14),(7,15)]), GG([(3,6),(10,15),(11,14)]), GG([(6,7),(10,11),(14,15)]), GG([(3,15),(6,10),(7,11)]), GG([(3,7),(10,14),(11,15)])]\n",
    "rr4=[GG([(5,7),(9,11),(13,15)]), GG([(3,7),(9,13),(11,15)]), GG([(3,9),(5,15),(7,13)]), GG([(3,5),(9,15),(11,13)]), GG([(3,13),(5,11),(7,9)]), GG([(3,11),(5,13),(7,15)]), GG([(3,15),(5,9),(7,11)])]\n",
    "\n"
   ]
  },
  {
   "cell_type": "code",
   "execution_count": 5,
   "metadata": {
    "collapsed": false,
    "jupyter": {
     "outputs_hidden": false
    }
   },
   "outputs": [],
   "source": [
    "GG=SymmetricGroup(7)\n",
    "# rr1=[GG((1,4)), GG((3,4)), GG((1,3))]\n",
    "# rr2=[GG((2,4)), GG((1,2)), GG((1,4))]\n",
    "# rr3=[GG((2,3)), GG((3,4)), GG((2,4))]\n",
    "rr=[GG((1,2)), GG((1,3)), GG((1,4)), GG((1,5)), GG((1,6)), GG((1,7)), GG((2,3)), GG((2,4)), GG((2,5)), GG((2,6)), GG((2,7)), GG((3,4)), GG((3,5)), GG((3,6)), GG((3,7)), GG((4,5)), GG((4,6)), GG((4,7)), GG((5,6)), GG((5,7)), GG((6,7))]"
   ]
  },
  {
   "cell_type": "code",
   "execution_count": 161,
   "metadata": {},
   "outputs": [
    {
     "data": {
      "text/html": [
       "<html><script type=\"math/tex; mode=display\">\\newcommand{\\Bold}[1]{\\mathbf{#1}}(1,2,3)(5,7)</script></html>"
      ],
      "text/plain": [
       "(1,2,3)(5,7)"
      ]
     },
     "execution_count": 161,
     "metadata": {},
     "output_type": "execute_result"
    }
   ],
   "source": [
    "rr[0]*rr[1]*rr[-2]"
   ]
  },
  {
   "cell_type": "code",
   "execution_count": null,
   "metadata": {},
   "outputs": [],
   "source": [
    "[(8,9)(10,11)(12,13)(14,15), (4,6)(5,7)(12,14)(13,15), (2,7)(3,6)(10,15)(11,14), (1,13)(3,15)(5,9)(7,11)]"
   ]
  },
  {
   "cell_type": "code",
   "execution_count": 107,
   "metadata": {},
   "outputs": [
    {
     "data": {
      "text/html": [
       "<html><script type=\"math/tex; mode=display\">\\newcommand{\\Bold}[1]{\\mathbf{#1}}(3,14,11,10,9,7,12,6,15,13,5)</script></html>"
      ],
      "text/plain": [
       "(3,14,11,10,9,7,12,6,15,13,5)"
      ]
     },
     "execution_count": 107,
     "metadata": {},
     "output_type": "execute_result"
    }
   ],
   "source": [
    "prod([rr1[0],rr2[-1],rr3[0],rr4[0]])"
   ]
  },
  {
   "cell_type": "code",
   "execution_count": 57,
   "metadata": {},
   "outputs": [
    {
     "data": {
      "text/html": [
       "<html><script type=\"math/tex; mode=display\">\\newcommand{\\Bold}[1]{\\mathbf{#1}}14</script></html>"
      ],
      "text/plain": [
       "14"
      ]
     },
     "execution_count": 57,
     "metadata": {},
     "output_type": "execute_result"
    }
   ],
   "source": [
    "cyc=[]\n",
    "for i,j,k in product(range(3), repeat=3):\n",
    "    c = rr[i]*rr[j]*rr3[k]\n",
    "    if c.cycle_type() == [4]:\n",
    "        cyc.append(c)\n",
    "len(cyc)\n",
    "    "
   ]
  },
  {
   "cell_type": "code",
   "execution_count": 4,
   "metadata": {
    "collapsed": false,
    "jupyter": {
     "outputs_hidden": false
    }
   },
   "outputs": [
    {
     "ename": "NameError",
     "evalue": "name 'rr1' is not defined",
     "output_type": "error",
     "traceback": [
      "\u001b[0;31m---------------------------------------------------------------------------\u001b[0m",
      "\u001b[0;31mNameError\u001b[0m                                 Traceback (most recent call last)",
      "\u001b[0;32m<ipython-input-4-806d67ae8fbc>\u001b[0m in \u001b[0;36m<module>\u001b[0;34m()\u001b[0m\n\u001b[1;32m      1\u001b[0m \u001b[0mcyc\u001b[0m\u001b[0;34m=\u001b[0m\u001b[0;34m[\u001b[0m\u001b[0;34m]\u001b[0m\u001b[0;34m\u001b[0m\u001b[0;34m\u001b[0m\u001b[0m\n\u001b[1;32m      2\u001b[0m \u001b[0;32mfor\u001b[0m \u001b[0mi\u001b[0m\u001b[0;34m,\u001b[0m\u001b[0mj\u001b[0m\u001b[0;34m,\u001b[0m\u001b[0mk\u001b[0m\u001b[0;34m,\u001b[0m\u001b[0ml\u001b[0m \u001b[0;32min\u001b[0m \u001b[0mproduct\u001b[0m\u001b[0;34m(\u001b[0m\u001b[0mrange\u001b[0m\u001b[0;34m(\u001b[0m\u001b[0mInteger\u001b[0m\u001b[0;34m(\u001b[0m\u001b[0;36m7\u001b[0m\u001b[0;34m)\u001b[0m\u001b[0;34m)\u001b[0m\u001b[0;34m,\u001b[0m \u001b[0mrepeat\u001b[0m\u001b[0;34m=\u001b[0m\u001b[0mInteger\u001b[0m\u001b[0;34m(\u001b[0m\u001b[0;36m4\u001b[0m\u001b[0;34m)\u001b[0m\u001b[0;34m)\u001b[0m\u001b[0;34m:\u001b[0m\u001b[0;34m\u001b[0m\u001b[0;34m\u001b[0m\u001b[0m\n\u001b[0;32m----> 3\u001b[0;31m     \u001b[0mc\u001b[0m \u001b[0;34m=\u001b[0m \u001b[0mrr1\u001b[0m\u001b[0;34m[\u001b[0m\u001b[0mi\u001b[0m\u001b[0;34m]\u001b[0m\u001b[0;34m*\u001b[0m\u001b[0mrr2\u001b[0m\u001b[0;34m[\u001b[0m\u001b[0mj\u001b[0m\u001b[0;34m]\u001b[0m\u001b[0;34m*\u001b[0m\u001b[0mrr3\u001b[0m\u001b[0;34m[\u001b[0m\u001b[0mk\u001b[0m\u001b[0;34m]\u001b[0m\u001b[0;34m*\u001b[0m\u001b[0mrr4\u001b[0m\u001b[0;34m[\u001b[0m\u001b[0ml\u001b[0m\u001b[0;34m]\u001b[0m\u001b[0;34m\u001b[0m\u001b[0;34m\u001b[0m\u001b[0m\n\u001b[0m\u001b[1;32m      4\u001b[0m     \u001b[0;32mif\u001b[0m \u001b[0mc\u001b[0m\u001b[0;34m.\u001b[0m\u001b[0mcycle_type\u001b[0m\u001b[0;34m(\u001b[0m\u001b[0;34m)\u001b[0m \u001b[0;34m==\u001b[0m \u001b[0;34m[\u001b[0m\u001b[0mInteger\u001b[0m\u001b[0;34m(\u001b[0m\u001b[0;36m11\u001b[0m\u001b[0;34m)\u001b[0m\u001b[0;34m,\u001b[0m\u001b[0mInteger\u001b[0m\u001b[0;34m(\u001b[0m\u001b[0;36m1\u001b[0m\u001b[0;34m)\u001b[0m\u001b[0;34m,\u001b[0m\u001b[0mInteger\u001b[0m\u001b[0;34m(\u001b[0m\u001b[0;36m1\u001b[0m\u001b[0;34m)\u001b[0m\u001b[0;34m,\u001b[0m\u001b[0mInteger\u001b[0m\u001b[0;34m(\u001b[0m\u001b[0;36m1\u001b[0m\u001b[0;34m)\u001b[0m\u001b[0;34m,\u001b[0m\u001b[0mInteger\u001b[0m\u001b[0;34m(\u001b[0m\u001b[0;36m1\u001b[0m\u001b[0;34m)\u001b[0m\u001b[0;34m]\u001b[0m\u001b[0;34m:\u001b[0m\u001b[0;34m\u001b[0m\u001b[0;34m\u001b[0m\u001b[0m\n\u001b[1;32m      5\u001b[0m         \u001b[0mcyc\u001b[0m\u001b[0;34m.\u001b[0m\u001b[0mappend\u001b[0m\u001b[0;34m(\u001b[0m\u001b[0;34m[\u001b[0m\u001b[0mrr1\u001b[0m\u001b[0;34m[\u001b[0m\u001b[0mi\u001b[0m\u001b[0;34m]\u001b[0m\u001b[0;34m,\u001b[0m\u001b[0mrr2\u001b[0m\u001b[0;34m[\u001b[0m\u001b[0mj\u001b[0m\u001b[0;34m]\u001b[0m\u001b[0;34m,\u001b[0m\u001b[0mrr3\u001b[0m\u001b[0;34m[\u001b[0m\u001b[0mk\u001b[0m\u001b[0;34m]\u001b[0m\u001b[0;34m,\u001b[0m\u001b[0mrr4\u001b[0m\u001b[0;34m[\u001b[0m\u001b[0ml\u001b[0m\u001b[0;34m]\u001b[0m\u001b[0;34m]\u001b[0m\u001b[0;34m)\u001b[0m\u001b[0;34m\u001b[0m\u001b[0;34m\u001b[0m\u001b[0m\n",
      "\u001b[0;31mNameError\u001b[0m: name 'rr1' is not defined"
     ]
    }
   ],
   "source": [
    "cyc=[]\n",
    "for i,j,k,l in product(range(7), repeat=4):\n",
    "    c = rr1[i]*rr2[j]*rr3[k]*rr4[l]\n",
    "    if c.cycle_type() == [11,1,1,1,1]:\n",
    "        cyc.append([rr1[i],rr2[j],rr3[k],rr4[l]])\n",
    "        print([rr1[i],rr2[j],rr3[k],rr4[l]])\n",
    "len(cyc)\n",
    "    "
   ]
  },
  {
   "cell_type": "code",
   "execution_count": 16,
   "metadata": {},
   "outputs": [
    {
     "data": {
      "text/plain": [
       "[(1,2),\n",
       " (1,3),\n",
       " (1,4),\n",
       " (1,5),\n",
       " (1,6),\n",
       " (1,7),\n",
       " (2,3),\n",
       " (2,4),\n",
       " (2,5),\n",
       " (2,6),\n",
       " (2,7),\n",
       " (3,4),\n",
       " (3,5),\n",
       " (3,6),\n",
       " (3,7),\n",
       " (4,5),\n",
       " (4,6),\n",
       " (4,7),\n",
       " (5,6),\n",
       " (5,7),\n",
       " (6,7)]"
      ]
     },
     "execution_count": 16,
     "metadata": {},
     "output_type": "execute_result"
    }
   ],
   "source": [
    "rr"
   ]
  },
  {
   "cell_type": "code",
   "execution_count": 15,
   "metadata": {},
   "outputs": [
    {
     "data": {
      "text/plain": [
       "0"
      ]
     },
     "execution_count": 15,
     "metadata": {},
     "output_type": "execute_result"
    }
   ],
   "source": [
    "test=[]\n",
    "for i,j,k,l,n,m in combinations(range(6), 6):\n",
    "    c = GG((1,3,5,4,7,2,6))\n",
    "    d = rr[i]*rr[j]*rr[k]*rr[l]*rr[n]*rr[m]\n",
    "    if c == d:\n",
    "    #if c.cycle_type() == [7]:\n",
    "        test.append([rr[i],rr[j],rr[k],rr[l],rr[n],rr[m]])\n",
    "len(test)"
   ]
  },
  {
   "cell_type": "code",
   "execution_count": 187,
   "metadata": {},
   "outputs": [
    {
     "data": {
      "text/html": [
       "<html><script type=\"math/tex; mode=display\">\\newcommand{\\Bold}[1]{\\mathbf{#1}}\\left[\\left[(1,4), (3,4), (2,4)\\right], \\left[(1,4), (3,4), (1,2)\\right], \\left[(1,4), (3,4), (2,3)\\right], \\left[(1,4), (1,3), (2,4)\\right], \\left[(1,4), (1,3), (1,2)\\right], \\left[(1,4), (1,3), (2,3)\\right], \\left[(1,4), (2,4), (2,3)\\right], \\left[(1,4), (1,2), (2,3)\\right], \\left[(3,4), (1,3), (2,4)\\right], \\left[(3,4), (1,3), (1,2)\\right], \\left[(3,4), (1,3), (2,3)\\right], \\left[(3,4), (2,4), (1,2)\\right], \\left[(3,4), (1,2), (2,3)\\right], \\left[(1,3), (2,4), (1,2)\\right], \\left[(1,3), (2,4), (2,3)\\right], \\left[(2,4), (1,2), (2,3)\\right]\\right]</script></html>"
      ],
      "text/plain": [
       "[[(1,4), (3,4), (2,4)],\n",
       " [(1,4), (3,4), (1,2)],\n",
       " [(1,4), (3,4), (2,3)],\n",
       " [(1,4), (1,3), (2,4)],\n",
       " [(1,4), (1,3), (1,2)],\n",
       " [(1,4), (1,3), (2,3)],\n",
       " [(1,4), (2,4), (2,3)],\n",
       " [(1,4), (1,2), (2,3)],\n",
       " [(3,4), (1,3), (2,4)],\n",
       " [(3,4), (1,3), (1,2)],\n",
       " [(3,4), (1,3), (2,3)],\n",
       " [(3,4), (2,4), (1,2)],\n",
       " [(3,4), (1,2), (2,3)],\n",
       " [(1,3), (2,4), (1,2)],\n",
       " [(1,3), (2,4), (2,3)],\n",
       " [(2,4), (1,2), (2,3)]]"
      ]
     },
     "execution_count": 187,
     "metadata": {},
     "output_type": "execute_result"
    }
   ],
   "source": [
    "test"
   ]
  },
  {
   "cell_type": "code",
   "execution_count": 204,
   "metadata": {},
   "outputs": [
    {
     "name": "stdout",
     "output_type": "stream",
     "text": [
      "[(9,14)(10,13)(11,12), (6,7)(12,13)(14,15), (3,10)(6,15)(7,14), (5,7)(9,11)(13,15)]\n",
      "[(9,14)(10,13)(11,12), (6,7)(12,13)(14,15), (3,10)(6,15)(7,14), (3,9)(5,15)(7,13)]\n",
      "[(9,14)(10,13)(11,12), (6,7)(12,13)(14,15), (3,11)(6,14)(7,15), (5,7)(9,11)(13,15)]\n",
      "[(9,14)(10,13)(11,12), (6,7)(12,13)(14,15), (3,11)(6,14)(7,15), (3,15)(5,9)(7,11)]\n",
      "[(9,14)(10,13)(11,12), (6,7)(12,13)(14,15), (3,6)(10,15)(11,14), (3,9)(5,15)(7,13)]\n",
      "[(9,14)(10,13)(11,12), (6,7)(12,13)(14,15), (3,6)(10,15)(11,14), (3,13)(5,11)(7,9)]\n",
      "[(9,14)(10,13)(11,12), (6,7)(12,13)(14,15), (3,15)(6,10)(7,11), (3,13)(5,11)(7,9)]\n",
      "[(9,14)(10,13)(11,12), (6,7)(12,13)(14,15), (3,15)(6,10)(7,11), (3,11)(5,13)(7,15)]\n",
      "[(9,14)(10,13)(11,12), (6,7)(12,13)(14,15), (3,7)(10,14)(11,15), (3,11)(5,13)(7,15)]\n",
      "[(9,14)(10,13)(11,12), (6,7)(12,13)(14,15), (3,7)(10,14)(11,15), (3,15)(5,9)(7,11)]\n"
     ]
    },
    {
     "data": {
      "text/html": [
       "<html><script type=\"math/tex; mode=display\">\\newcommand{\\Bold}[1]{\\mathbf{#1}}10</script></html>"
      ],
      "text/plain": [
       "10"
      ]
     },
     "execution_count": 204,
     "metadata": {},
     "output_type": "execute_result"
    }
   ],
   "source": [
    "it=0\n",
    "for c in cyc:\n",
    "    if c[0] == rr1[0] and c[1] == rr2[5]:\n",
    "        print(c)\n",
    "        it= it+1\n",
    "it"
   ]
  },
  {
   "cell_type": "code",
   "execution_count": 213,
   "metadata": {},
   "outputs": [
    {
     "data": {
      "text/html": [
       "<html><script type=\"math/tex; mode=display\">\\newcommand{\\Bold}[1]{\\mathbf{#1}}2 \\cdot 3 \\cdot 5^{2} \\cdot 13</script></html>"
      ],
      "text/plain": [
       "2 * 3 * 5^2 * 13"
      ]
     },
     "execution_count": 213,
     "metadata": {},
     "output_type": "execute_result"
    }
   ],
   "source": [
    "factor(1950)"
   ]
  },
  {
   "cell_type": "code",
   "execution_count": null,
   "metadata": {
    "collapsed": false,
    "jupyter": {
     "outputs_hidden": false
    }
   },
   "outputs": [],
   "source": [
    "edge=get_edge(sing[0])\n",
    "D=DiGraph(adj_matrix(edge))\n",
    "D.relabel(vertex)\n",
    "D"
   ]
  },
  {
   "cell_type": "code",
   "execution_count": 163,
   "metadata": {
    "collapsed": false,
    "jupyter": {
     "outputs_hidden": false
    }
   },
   "outputs": [],
   "source": [
    "S=Set(rr1+rr2+rr3+rr4)"
   ]
  },
  {
   "cell_type": "code",
   "execution_count": 167,
   "metadata": {},
   "outputs": [
    {
     "data": {
      "text/html": [
       "<html><script type=\"math/tex; mode=display\">\\newcommand{\\Bold}[1]{\\mathbf{#1}}28</script></html>"
      ],
      "text/plain": [
       "28"
      ]
     },
     "execution_count": 167,
     "metadata": {},
     "output_type": "execute_result"
    }
   ],
   "source": [
    "S.cardinality()"
   ]
  },
  {
   "cell_type": "code",
   "execution_count": 180,
   "metadata": {},
   "outputs": [
    {
     "data": {
      "text/html": [
       "<html><script type=\"math/tex; mode=display\">\\newcommand{\\Bold}[1]{\\mathbf{#1}}\\verb|<itertools.combinations|\\phantom{\\verb!x!}\\verb|object|\\phantom{\\verb!x!}\\verb|at|\\phantom{\\verb!x!}\\verb|0x189cff4a8>|</script></html>"
      ],
      "text/plain": [
       "<itertools.combinations object at 0x189cff4a8>"
      ]
     },
     "execution_count": 180,
     "metadata": {},
     "output_type": "execute_result"
    }
   ],
   "source": [
    "combinations('ABCD', 2)"
   ]
  },
  {
   "cell_type": "code",
   "execution_count": 181,
   "metadata": {
    "collapsed": false,
    "jupyter": {
     "outputs_hidden": false
    }
   },
   "outputs": [
    {
     "data": {
      "text/html": [
       "<html><script type=\"math/tex; mode=display\">\\newcommand{\\Bold}[1]{\\mathbf{#1}}3156</script></html>"
      ],
      "text/plain": [
       "3156"
      ]
     },
     "execution_count": 181,
     "metadata": {},
     "output_type": "execute_result"
    }
   ],
   "source": [
    "test=[]\n",
    "for i,j,k,l in combinations(range(28), 4):\n",
    "    c = S[i]*S[j]*S[k]*S[l]\n",
    "    if c.cycle_type() == [11,1,1,1,1]:\n",
    "        test.append(c)\n",
    "len(test)"
   ]
  },
  {
   "cell_type": "code",
   "execution_count": null,
   "metadata": {
    "collapsed": false,
    "jupyter": {
     "outputs_hidden": false
    }
   },
   "outputs": [],
   "source": [
    "for r in sing:\n",
    "    edge=get_edge(r)\n",
    "    M=adj_matrix(edge)\n",
    "    D=DiGraph(M)\n",
    "    D.relabel(vertex)\n",
    "    r\n",
    "    D.show()"
   ]
  },
  {
   "cell_type": "code",
   "execution_count": null,
   "metadata": {
    "collapsed": false,
    "jupyter": {
     "outputs_hidden": false
    }
   },
   "outputs": [],
   "source": [
    "vec"
   ]
  },
  {
   "cell_type": "code",
   "execution_count": null,
   "metadata": {
    "collapsed": false,
    "jupyter": {
     "outputs_hidden": false
    }
   },
   "outputs": [],
   "source": [
    "[M1,M2,M3]=get_adj_matrix(fact_g[0])"
   ]
  },
  {
   "cell_type": "code",
   "execution_count": null,
   "metadata": {
    "collapsed": false,
    "jupyter": {
     "outputs_hidden": false
    }
   },
   "outputs": [],
   "source": []
  },
  {
   "cell_type": "code",
   "execution_count": null,
   "metadata": {
    "collapsed": false,
    "jupyter": {
     "outputs_hidden": false
    }
   },
   "outputs": [],
   "source": []
  },
  {
   "cell_type": "code",
   "execution_count": null,
   "metadata": {
    "collapsed": false,
    "jupyter": {
     "outputs_hidden": false
    }
   },
   "outputs": [],
   "source": [
    "import sage.graphs.graph_plot\n",
    "sage.graphs.graph_plot.DEFAULT_SHOW_OPTIONS['figsize'] = [3,3]"
   ]
  },
  {
   "cell_type": "code",
   "execution_count": null,
   "metadata": {
    "collapsed": false,
    "jupyter": {
     "outputs_hidden": false
    }
   },
   "outputs": [],
   "source": [
    "edgews/sage_server.py\\\", line 1234, in execute\\n    flags=compile_flags), namespace, lcals)\\  Fil \\\\ed20, li 1, in <modlf-5ba>\\n  Fil0 \\\"\\\", lin4-df66-458d-bbe5-3c4c74f4b36d"
   ]
  },
  {
   "cell_type": "code",
   "execution_count": null,
   "metadata": {
    "collapsed": false,
    "jupyter": {
     "outputs_hidden": false
    }
   },
   "outputs": [],
   "source": [
    "vec[8],vec[11],vec[9]"
   ]
  },
  {
   "cell_type": "code",
   "execution_count": null,
   "metadata": {
    "collapsed": false,
    "jupyter": {
     "outputs_hidden": false
    }
   },
   "outputs": [],
   "source": [
    "G.degree(10)"
   ]
  },
  {
   "cell_type": "code",
   "execution_count": null,
   "metadata": {
    "collapsed": false,
    "jupyter": {
     "outputs_hidden": false
    }
   },
   "outputs": [],
   "source": [
    "n,q"
   ]
  },
  {
   "cell_type": "code",
   "execution_count": null,
   "metadata": {
    "collapsed": false,
    "jupyter": {
     "outputs_hidden": false
    }
   },
   "outputs": [],
   "source": [
    "len(fact_g)"
   ]
  },
  {
   "cell_type": "code",
   "execution_count": null,
   "metadata": {
    "collapsed": false,
    "jupyter": {
     "outputs_hidden": false
    }
   },
   "outputs": [],
   "source": []
  },
  {
   "cell_type": "code",
   "execution_count": null,
   "metadata": {
    "collapsed": false,
    "jupyter": {
     "outputs_hidden": false
    }
   },
   "outputs": [],
   "source": []
  },
  {
   "cell_type": "code",
   "execution_count": null,
   "metadata": {
    "collapsed": false,
    "jupyter": {
     "outputs_hidden": false
    }
   },
   "outputs": [],
   "source": [
    "same=[]\n",
    "for m in fact_g:\n",
    "    [M1,M2,M3]=get_adj_matrix(m)\n",
    "    G=DiGraph(M1+M2+M3)\n",
    "    G.degree()"
   ]
  },
  {
   "cell_type": "code",
   "execution_count": null,
   "metadata": {
    "collapsed": false,
    "jupyter": {
     "outputs_hidden": false
    }
   },
   "outputs": [],
   "source": [
    "reg=get_reg_ells()"
   ]
  },
  {
   "cell_type": "code",
   "execution_count": null,
   "metadata": {
    "collapsed": false,
    "jupyter": {
     "outputs_hidden": false
    }
   },
   "outputs": [],
   "source": [
    "reg[0]c59a1d1d-b3bf-4a8f-876b-776e5d9f0623c59a1d1d-b3bf-4a8f-876b-776e5d9f0623"
   ]
  },
  {
   "cell_type": "code",
   "execution_count": null,
   "metadata": {
    "collapsed": false,
    "jupyter": {
     "outputs_hidden": false
    }
   },
   "outputs": [],
   "source": [
    "r1"
   ]
  },
  {
   "cell_type": "code",
   "execution_count": null,
   "metadata": {
    "collapsed": false,
    "jupyter": {
     "outputs_hidden": false
    }
   },
   "outputs": [],
   "source": [
    "reg=matrix(FF,[[0,2,0],[0,0,2],[1,2,0]])\n",
    "reg.charpoly()dc78169f8-a93c-49cb-92d6-54fb136cb3ef"
   ]
  },
  {
   "cell_type": "code",
   "execution_count": null,
   "metadata": {
    "collapsed": false,
    "jupyter": {
     "outputs_hidden": false
    }
   },
   "outputs": [],
   "source": [
    "fact_g[0]"
   ]
  },
  {
   "cell_type": "code",
   "execution_count": null,
   "metadata": {
    "collapsed": false,
    "jupyter": {
     "outputs_hidden": false
    }
   },
   "outputs": [],
   "source": [
    "vec[1]"
   ]
  },
  {
   "cell_type": "code",
   "execution_count": null,
   "metadata": {
    "collapsed": false,
    "jupyter": {
     "outputs_hidden": false
    }
   },
   "outputs": [],
   "source": [
    "get_edge(sing_g[0])"
   ]
  },
  {
   "cell_type": "code",
   "execution_count": null,
   "metadata": {
    "collapsed": false,
    "jupyter": {
     "outputs_hidden": false
    }
   },
   "outputs": [],
   "source": [
    "n,q"
   ]
  },
  {
   "cell_type": "code",
   "execution_count": null,
   "metadata": {
    "collapsed": false,
    "jupyter": {
     "outputs_hidden": false
    }
   },
   "outputs": [],
   "source": [
    "for s in sing:\n",
    "    if s.multiplicative_order()!=26:\n",
    "        print(s)"
   ]
  },
  {
   "cell_type": "code",
   "execution_count": null,
   "metadata": {
    "collapsed": false,
    "jupyter": {
     "outputs_hidden": false
    }
   },
   "outputs": [],
   "source": [
    "M=adj_matrix(get_edge(reg))"
   ]
  },
  {
   "cell_type": "code",
   "execution_count": null,
   "metadata": {
    "collapsed": false,
    "jupyter": {
     "outputs_hidden": false
    }
   },
   "outputs": [],
   "source": [
    "reg.multiplicative_order()"
   ]
  },
  {
   "cell_type": "code",
   "execution_count": null,
   "metadata": {
    "collapsed": false,
    "jupyter": {
     "outputs_hidden": false
    }
   },
   "outputs": [],
   "source": [
    "DiGraph(M)"
   ]
  },
  {
   "cell_type": "code",
   "execution_count": null,
   "metadata": {
    "collapsed": false,
    "jupyter": {
     "outputs_hidden": false
    }
   },
   "outputs": [],
   "source": [
    "len(fact)"
   ]
  },
  {
   "cell_type": "code",
   "execution_count": null,
   "metadata": {
    "collapsed": false,
    "jupyter": {
     "outputs_hidden": false
    }
   },
   "outputs": [],
   "source": [
    "#input the list [r1,r2,r3]\n",
    "[M1,M2,M3] = get_adj_matrix(fact[100])\n",
    "c=fact[100][1]*fact[100][0]*fact[100][1]\n",
    "c.multiplicative_order()\n",
    "G1,G2,G3=DiGraph(M1),DiGraph(M2),DiGraph(M3)\n",
    "M =DiGraph(M1+M2+M3)"
   ]
  },
  {
   "cell_type": "code",
   "execution_count": null,
   "metadata": {
    "collapsed": false,
    "jupyter": {
     "outputs_hidden": false
    }
   },
   "outputs": [],
   "source": [
    "vec[8]"
   ]
  },
  {
   "cell_type": "code",
   "execution_count": null,
   "metadata": {
    "collapsed": false,
    "jupyter": {
     "outputs_hidden": false
    }
   },
   "outputs": [],
   "source": [
    "q"
   ]
  },
  {
   "cell_type": "code",
   "execution_count": null,
   "metadata": {
    "collapsed": false,
    "jupyter": {
     "outputs_hidden": false
    }
   },
   "outputs": [],
   "source": [
    "M"
   ]
  },
  {
   "cell_type": "code",
   "execution_count": null,
   "metadata": {
    "collapsed": false,
    "jupyter": {
     "outputs_hidden": false
    }
   },
   "outputs": [],
   "source": [
    "M.graphplot(edge_colors={(0,1,0):G1.edges(),(0,0,1):G2.edges()}).show()"
   ]
  },
  {
   "cell_type": "code",
   "execution_count": null,
   "metadata": {
    "collapsed": false,
    "jupyter": {
     "outputs_hidden": false
    }
   },
   "outputs": [],
   "source": [
    "DiGraph(M1+M2)"
   ]
  },
  {
   "cell_type": "code",
   "execution_count": null,
   "metadata": {
    "collapsed": false,
    "jupyter": {
     "outputs_hidden": false
    }
   },
   "outputs": [],
   "source": [
    "DiGraph(M1+M2+M3+M4)\n",
    "DiGraph(M1)\n",
    "DiGraph(M2)\n",
    "DiGraph(M3)"
   ]
  },
  {
   "cell_type": "code",
   "execution_count": null,
   "metadata": {
    "collapsed": false,
    "jupyter": {
     "outputs_hidden": false
    }
   },
   "outputs": [],
   "source": [
    "r1.minpoly()"
   ]
  },
  {
   "cell_type": "code",
   "execution_count": null,
   "metadata": {
    "collapsed": false,
    "jupyter": {
     "outputs_hidden": false
    }
   },
   "outputs": [],
   "source": []
  },
  {
   "cell_type": "code",
   "execution_count": null,
   "metadata": {
    "collapsed": false,
    "jupyter": {
     "outputs_hidden": false
    }
   },
   "outputs": [],
   "source": [
    "#DiGraph(M1),DiGraph(M2),DiGraph(M3)\n",
    "d = {'#FF0000':[0,12,11,10,9,8,7,2,3], '#FF9900':[1,5,6], '#FFFF00':[4]}\n",
    "G=DiGraph(M3)\n",
    "G1=G.to_undirected()\n",
    "pl=G1.graphplot(vertex_colors=d)\n",
    "pl.show()"
   ]
  },
  {
   "cell_type": "code",
   "execution_count": null,
   "metadata": {
    "collapsed": false,
    "jupyter": {
     "outputs_hidden": false
    }
   },
   "outputs": [],
   "source": []
  },
  {
   "cell_type": "code",
   "execution_count": null,
   "metadata": {
    "collapsed": false,
    "jupyter": {
     "outputs_hidden": false
    }
   },
   "outputs": [],
   "source": []
  },
  {
   "cell_type": "code",
   "execution_count": null,
   "metadata": {
    "collapsed": false,
    "jupyter": {
     "outputs_hidden": false
    }
   },
   "outputs": [],
   "source": [
    "len(sing)"
   ]
  },
  {
   "cell_type": "code",
   "execution_count": null,
   "metadata": {
    "collapsed": false,
    "jupyter": {
     "outputs_hidden": false
    }
   },
   "outputs": [],
   "source": []
  }
 ],
 "metadata": {
  "kernelspec": {
   "display_name": "Python 3 (ipykernel)",
   "language": "python",
   "name": "python3"
  },
  "language_info": {
   "codemirror_mode": {
    "name": "ipython",
    "version": 3
   },
   "file_extension": ".py",
   "mimetype": "text/x-python",
   "name": "python",
   "nbconvert_exporter": "python",
   "pygments_lexer": "ipython3",
   "version": "3.11.8"
  }
 },
 "nbformat": 4,
 "nbformat_minor": 4
}
