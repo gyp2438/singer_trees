{
 "cells": [
  {
   "cell_type": "code",
   "execution_count": 1,
   "metadata": {
    "collapsed": false,
    "jupyter": {
     "outputs_hidden": false
    }
   },
   "outputs": [],
   "source": [
    "%display None\n"
   ]
  },
  {
   "cell_type": "code",
   "execution_count": null,
   "metadata": {},
   "outputs": [],
   "source": []
  },
  {
   "cell_type": "code",
   "execution_count": null,
   "metadata": {},
   "outputs": [],
   "source": []
  },
  {
   "cell_type": "code",
   "execution_count": 2,
   "metadata": {
    "collapsed": false,
    "jupyter": {
     "outputs_hidden": false
    }
   },
   "outputs": [],
   "source": [
    "from itertools import product\n",
    "from itertools import combinations\n",
    "from collections import defaultdict\n",
    "import time\n",
    "import sage.graphs.graph_plot\n",
    "from sage.plot.graphics import GraphicsArray\n",
    "import numpy as np"
   ]
  },
  {
   "cell_type": "code",
   "execution_count": 43,
   "metadata": {
    "collapsed": false,
    "jupyter": {
     "outputs_hidden": false
    }
   },
   "outputs": [],
   "source": [
    "n = 4\n",
    "q = 2\n",
    "#FF = GF(9,'c')\n",
    "FF = GF(q)\n",
    "so = FF.cardinality()^n-1\n",
    "thm = (FF.cardinality()^n-1)^(n-1)\n",
    "mult = (q-1)^(n-1)*(add([q^i for i in range(n)])^(n-2))\n",
    "G = GL(n, FF)\n",
    "M = MatrixSpace(FF,n,n)\n",
    "V = VectorSpace(FF,n)\n",
    "fact = (q^n-1)^(n-1)\n",
    "nq=gaussian_binomial(n,1,q=q)\n",
    "\n",
    "def get_hyperplanes(): #generate all hyperplanes of gl(n,q)\n",
    "    H = []\n",
    "    for i in range(n):\n",
    "        h = matrix(FF,n-1,n)\n",
    "        for j in range(n):\n",
    "            if j<i:\n",
    "                h[j,j] = 1\n",
    "            if j>i:\n",
    "                h[j-1,j] = 1\n",
    "        if i >0:\n",
    "            comblist = [p for p in product(GF(q), repeat=i)]\n",
    "            num = len(comblist)\n",
    "            for k in range(num):\n",
    "                b = h\n",
    "                v = comblist[k]\n",
    "                for l in range(i):\n",
    "                    b[l,i] = v[l]\n",
    "                H.append(copy(b))\n",
    "        else: H.append(h)\n",
    "    return H\n",
    "\n",
    "def is_reflection(g):\n",
    "    n = G.degree()\n",
    "    M = g.matrix() - (G[0]**0).matrix()\n",
    "    KM = M.kernel()\n",
    "    return KM.dimension() == n-1\n",
    "\n",
    "def is_transvection(g):\n",
    "    return is_reflection(g) and M(g).determinant() == 1\n",
    "\n",
    "\n",
    "def get_transvections():\n",
    "    R = []\n",
    "    for g in G:\n",
    "        if is_transvection(g):\n",
    "            R.append(g)\n",
    "    return R\n",
    "\n",
    "def get_refls():\n",
    "    R = []\n",
    "    for g in G:\n",
    "        if is_reflection(g):\n",
    "            R.append(g)\n",
    "    return R\n",
    "\n",
    "def get_singer(): #find all singer cycles in a list\n",
    "    S = []\n",
    "    for g in G:\n",
    "        if g.multiplicative_order() == so:\n",
    "            S.append(g)\n",
    "    return S\n",
    "\n",
    "def get_reg_ells():\n",
    "    S = []\n",
    "    #D = defaultdict(int)\n",
    "    #D2 = defaultdict(tuple)\n",
    "    for g in G:\n",
    "        A = M(g)\n",
    "        cp = A.charpoly()\n",
    "        if cp.is_irreducible():\n",
    "            #D[cp] += 1\n",
    "            #D2[cp] += (g,)\n",
    "            S.append(g)\n",
    "    return S\n",
    "\n",
    "def sing_with_det(alp):\n",
    "    c1=[]\n",
    "    for c in L:\n",
    "        if c.matrix().determinant() == alp:\n",
    "            c1.append(c)\n",
    "    return c1\n",
    "\n",
    "def insert_row(M,k,row):\n",
    "    return matrix(FF,M.rows()[:k]+[row]+M.rows()[k:])\n",
    "\n",
    "def get_reg_ells():\n",
    "    S = []\n",
    "    D = defaultdict(int)\n",
    "    D2 = defaultdict(tuple)\n",
    "    for g in G:\n",
    "        A = M(g)\n",
    "        cp = A.charpoly()\n",
    "        if cp.is_irreducible():\n",
    "            D[cp] += 1\n",
    "            D2[cp] += (g,)\n",
    "            S.append(g)\n",
    "    return S, D, D2\n",
    "def get_fact(R,c):\n",
    "    F = []\n",
    "    for i in product(range(len(R)),repeat = G.degree()):\n",
    "        if mul([R[i[k]] for k in range(G.degree())]) == c:\n",
    "            F.append([R[i[k]] for k in range(G.degree())])\n",
    "    return F\n",
    "\n",
    "def get_fact_faster(R,c):\n",
    "    F = []\n",
    "    for i in product(range(len(R)),repeat = G.degree()-1):\n",
    "        m = c*mul([R[i[k]] for k in range(G.degree()-1)]).inverse()\n",
    "        if is_reflection(m):\n",
    "            F.append([R[i[k]] for k in range(G.degree()-1)] + [m,])\n",
    "    return F\n",
    "\n",
    "#generate 1-dim vectors\n",
    "def get_v1():\n",
    "    H=get_hyperplanes()\n",
    "    vec=[]\n",
    "    for h in H:\n",
    "        m=transpose(matrix(FF,h))\n",
    "        v=kernel(m)\n",
    "        vec.append(v)\n",
    "    return vec\n",
    "\n",
    "vec=get_v1()\n",
    "#newvec=[vec[3],vec[1],vec[4],vec[0],vec[-2],vec[2],vec[-1]]\n",
    "newvec=vec\n",
    "\n",
    "label = []\n",
    "for v in newvec:\n",
    "    v1=v.basis()\n",
    "    label.append(v1)\n",
    "vertex={}\n",
    "for v in range(nq):\n",
    "    vertex[v]=str(label[v][0])"
   ]
  },
  {
   "cell_type": "code",
   "execution_count": 44,
   "metadata": {},
   "outputs": [],
   "source": [
    "#Set up\n",
    "R = get_refls()\n",
    "#H=get_hyperplanes()\n",
    "S = get_singer()"
   ]
  },
  {
   "cell_type": "code",
   "execution_count": null,
   "metadata": {},
   "outputs": [],
   "source": [
    "R_and_hyp = get_ref"
   ]
  },
  {
   "cell_type": "code",
   "execution_count": 81,
   "metadata": {},
   "outputs": [
    {
     "ename": "NameError",
     "evalue": "name 'H' is not defined",
     "output_type": "error",
     "traceback": [
      "\u001b[0;31m---------------------------------------------------------------------------\u001b[0m",
      "\u001b[0;31mNameError\u001b[0m                                 Traceback (most recent call last)",
      "Cell \u001b[0;32mIn[81], line 1\u001b[0m\n\u001b[0;32m----> 1\u001b[0m \u001b[43mH\u001b[49m[Integer(\u001b[38;5;241m0\u001b[39m)]\n",
      "\u001b[0;31mNameError\u001b[0m: name 'H' is not defined"
     ]
    }
   ],
   "source": [
    "H[0]"
   ]
  },
  {
   "cell_type": "code",
   "execution_count": 80,
   "metadata": {},
   "outputs": [],
   "source": [
    "#Brute force calculation to obtain all factorization for a FIXED singer cycle c\n",
    "#kind of slow, even for q=1\n",
    "c=S[0]\n",
    "#get_fact(R,S[0])"
   ]
  },
  {
   "cell_type": "markdown",
   "metadata": {},
   "source": [
    "Another way to study the case of GL(n,q) is to study the factorization of singer cycles of the same conjugacy class. For a fixed conjugacy class of a Singer cycle, we fix a sequence of valid hyperplanes (the sequence of hyperplanes that are linearly independent and also span the entire space). The easist set up is let such $H_1$, $H_2$, and $H_3$ be $H_i = \\mathrm{span}(\\hat{e}_i)$. Then it is very easy to generate all reflections that fixes $H_i$ because we just need to compute one row. Then the number of brute force calculation we need to go through to generate all factorizations reduces significantly."
   ]
  },
  {
   "cell_type": "code",
   "execution_count": 6,
   "metadata": {},
   "outputs": [],
   "source": [
    "#Building the sequence of standard valid H's\n",
    "def valid_H_standard(n,q):\n",
    "    FF = GF(q)\n",
    "    V = VectorSpace(FF,n)\n",
    "    valid_H = []\n",
    "    for i in range(n):\n",
    "        e_s= [e for e in V.basis()]\n",
    "        del e_s[i]\n",
    "        valid_H.append(matrix(FF, e_s))\n",
    "    return valid_H\n"
   ]
  },
  {
   "cell_type": "code",
   "execution_count": 7,
   "metadata": {},
   "outputs": [],
   "source": [
    "#Build all refelction elements\n",
    "#input the sequence of desired determinants - for q=2 case, it's just 1's.\n",
    "#Outputs a list of reflection sequences with chosen determinants\n",
    "#Note that these are just all possible reflection combos given the desired determinant sequence \n",
    "#- still need to test if it is a factorization\n",
    "def invertible_vi(n,q,dlist):\n",
    "    FF = GF(q)\n",
    "    #First build all possible vectors, in a form of a single matrix\n",
    "    Vm =[]\n",
    "    comblist = list(product(list(product(GF(q), repeat = n-1)), repeat = n))\n",
    "    for comb in comblist:\n",
    "        m = matrix(FF,n)\n",
    "        for i in range(n):\n",
    "            v = list(comb[i])\n",
    "            v.insert(i,dlist[i])\n",
    "            m[i] = v\n",
    "        Vm.append(m)\n",
    "\n",
    "    #Then inserting these rows into the hyperplanes to build the reflection sequences\n",
    "    Hlist = valid_H_standard(n,q)\n",
    "    allv = []\n",
    "    for v_s in Vm:\n",
    "        Rlist = []\n",
    "        for i in range(n):\n",
    "            v=vector(v_s[i,:])\n",
    "            tab = insert_row(Hlist[i],i,v)\n",
    "            ref = matrix(FF, tab)\n",
    "            Rlist.append(ref)\n",
    "        allv.append(Rlist)\n",
    "    return allv\n",
    "\n",
    "#Now testing each of those reflection sequences to see if it is indeed a factorization\n",
    "#Insert n,q, dets, Singer\n",
    "\n",
    "def get_fact_conj(n,q, dlist,c):\n",
    "    fact = []\n",
    "    allv = invertible_vi(n,q,dlist)\n",
    "    for r in allv:\n",
    "        test = prod(r)\n",
    "        f_test= matrix(test).charpoly()\n",
    "        c_conj= matrix(c).charpoly()\n",
    "        if f_test == c_conj:\n",
    "            fact.append(r)\n",
    "    return fact\n"
   ]
  },
  {
   "cell_type": "code",
   "execution_count": 8,
   "metadata": {},
   "outputs": [
    {
     "data": {
      "text/plain": [
       "x^4 + x + 1"
      ]
     },
     "execution_count": 8,
     "metadata": {},
     "output_type": "execute_result"
    }
   ],
   "source": [
    "#Choose a Singer cycle and check its conjugacy class\n",
    "c = S[0]\n",
    "matrix(c).charpoly()"
   ]
  },
  {
   "cell_type": "code",
   "execution_count": 9,
   "metadata": {},
   "outputs": [],
   "source": [
    "#Get all factorizations of the kinds with the standard valid hyperplanes of such conjugacy class\n",
    "#For q=2, our determinants will always just be 1's\n",
    "dlist = [1]*n\n",
    "fact_fixed_conj = get_fact_conj(n,q,dlist,c)"
   ]
  },
  {
   "cell_type": "code",
   "execution_count": 10,
   "metadata": {},
   "outputs": [
    {
     "data": {
      "text/plain": [
       "True"
      ]
     },
     "execution_count": 10,
     "metadata": {},
     "output_type": "execute_result"
    }
   ],
   "source": [
    "#fun fact + sanity check, this should be (q-1)^(n-1)x[n]^(n-2)\n",
    "len(fact_fixed_conj) == nq^(n-2)"
   ]
  },
  {
   "cell_type": "code",
   "execution_count": 11,
   "metadata": {},
   "outputs": [
    {
     "data": {
      "text/plain": [
       "[x^4 + x + 1, x^4 + x^3 + 1]"
      ]
     },
     "execution_count": 11,
     "metadata": {},
     "output_type": "execute_result"
    }
   ],
   "source": [
    "conju=[]\n",
    "for c in S:\n",
    "    f=matrix(c).charpoly()\n",
    "    if f not in conju:\n",
    "        conju.append(f)\n",
    "conju"
   ]
  },
  {
   "cell_type": "markdown",
   "metadata": {},
   "source": [
    "Building the graph out of these factorizations"
   ]
  },
  {
   "cell_type": "code",
   "execution_count": 12,
   "metadata": {
    "collapsed": false,
    "jupyter": {
     "outputs_hidden": false
    }
   },
   "outputs": [],
   "source": [
    "\n",
    "\n",
    "def get_edge(r):\n",
    "    edge=[]\n",
    "    for v in newvec:\n",
    "            w = v*r\n",
    "            if v!=w:\n",
    "                edge.append([newvec.index(v),newvec.index(w)])\n",
    "    return edge\n",
    "\n",
    "#input a factorzation [r1,r2,r3]\n",
    "def get_edges(rrr):\n",
    "    edges=[]\n",
    "    for i in range(n):\n",
    "        edge=get_edge(rrr[i])\n",
    "        edges.append(edge)\n",
    "    return edges\n",
    "\n",
    "#n_q x n_q matrix, put 1 for each edge correspondnce to build the adjacency matrix for each r_i\n",
    "def adj_matrix(edge):\n",
    "    M=matrix(nq)\n",
    "    for e in edge:\n",
    "        M[e[0],e[1]]=1\n",
    "    return M\n",
    "\n",
    "def get_adj_matrix(rrr):\n",
    "    edges=get_edges(rrr)\n",
    "    Mlist=[]\n",
    "    for i in range(n):\n",
    "        M2=matrix(nq)\n",
    "        for e in edges[i]:\n",
    "            M2[e[0],e[1]]=1\n",
    "        Mlist.append(M2)\n",
    "    return Mlist"
   ]
  },
  {
   "cell_type": "code",
   "execution_count": 55,
   "metadata": {},
   "outputs": [
    {
     "data": {
      "text/plain": [
       "'(1, 0, 0, 0)'"
      ]
     },
     "execution_count": 55,
     "metadata": {},
     "output_type": "execute_result"
    }
   ],
   "source": [
    "vertex[0]"
   ]
  },
  {
   "cell_type": "code",
   "execution_count": 65,
   "metadata": {},
   "outputs": [],
   "source": [
    "seed_neighbors = []\n",
    "for j,r_s in enumerate(fact_fixed_conj):\n",
    "    Mlist = get_adj_matrix(r_s)\n",
    "    #[M1,M2,M3]=get_adj_matrix(rrr[0])\n",
    "    Dlist= [DiGraph(adj_m) for adj_m in Mlist]\n",
    "    alledge=[]\n",
    "    for i in range(n):\n",
    "        for u,v,l in Dlist[i].edges():\n",
    "            Dlist[i].set_edge_label(u,v,str(i))\n",
    "        alledge = alledge+Dlist[i].edges()\n",
    "    D=DiGraph()\n",
    "    D.add_edges(alledge)\n",
    "    D.relabel(vertex)\n",
    "    G=D.to_undirected()\n",
    "\n",
    "    # seed = [v for v in G if G.degree(v) == n]\n",
    "    # for v in seed:\n",
    "    seed_neighbors.append([G.neighbors(vertex[0]), G.neighbors(vertex[1])])"
   ]
  },
  {
   "cell_type": "code",
   "execution_count": 79,
   "metadata": {},
   "outputs": [
    {
     "name": "stdout",
     "output_type": "stream",
     "text": [
      "[['(1, 0, 1, 1)'], ['(0, 1, 0, 1)']]\n",
      "[['(1, 0, 1, 1)'], ['(0, 1, 0, 1)']]\n",
      "[['(1, 0, 1, 1)'], ['(0, 1, 0, 1)']]\n",
      "[['(1, 0, 1, 1)'], ['(0, 1, 0, 1)']]\n",
      "[['(1, 0, 1, 1)'], ['(0, 1, 0, 1)']]\n",
      "[['(1, 0, 1, 1)'], ['(0, 1, 1, 0)']]\n",
      "[['(1, 0, 1, 1)'], ['(0, 1, 1, 0)']]\n",
      "[['(1, 0, 1, 1)'], ['(0, 1, 1, 0)']]\n",
      "[['(1, 0, 1, 1)'], ['(0, 1, 1, 0)']]\n",
      "[['(1, 0, 1, 1)'], ['(0, 1, 1, 0)']]\n",
      "[['(1, 0, 1, 1)'], ['(1, 1, 0, 0)']]\n",
      "[['(1, 0, 1, 1)'], ['(1, 1, 0, 0)']]\n",
      "[['(1, 0, 1, 1)'], ['(1, 1, 0, 0)']]\n",
      "[['(1, 0, 1, 1)'], ['(1, 1, 0, 0)']]\n",
      "[['(1, 0, 1, 1)'], ['(1, 1, 0, 0)']]\n",
      "[['(1, 0, 1, 1)'], ['(1, 1, 0, 0)']]\n",
      "[['(1, 0, 1, 1)'], ['(1, 1, 0, 1)']]\n",
      "[['(1, 0, 1, 1)'], ['(1, 1, 0, 1)']]\n",
      "[['(1, 0, 1, 1)'], ['(1, 1, 0, 1)']]\n",
      "[['(1, 0, 1, 1)'], ['(1, 1, 0, 1)']]\n",
      "[['(1, 0, 1, 1)'], ['(1, 1, 0, 1)']]\n",
      "[['(1, 0, 1, 1)'], ['(1, 1, 0, 1)']]\n",
      "[['(1, 0, 1, 1)'], ['(1, 1, 1, 0)']]\n",
      "[['(1, 0, 1, 1)'], ['(1, 1, 1, 0)']]\n",
      "[['(1, 0, 1, 1)'], ['(1, 1, 1, 0)']]\n",
      "[['(1, 0, 1, 1)'], ['(1, 1, 1, 0)']]\n",
      "[['(1, 0, 1, 1)'], ['(1, 1, 1, 0)']]\n",
      "[['(1, 0, 1, 1)'], ['(1, 1, 1, 0)']]\n",
      "[['(1, 0, 1, 1)'], ['(1, 1, 1, 1)']]\n",
      "[['(1, 0, 1, 1)'], ['(1, 1, 1, 1)']]\n",
      "[['(1, 0, 1, 1)'], ['(1, 1, 1, 1)']]\n",
      "[['(1, 0, 1, 1)'], ['(1, 1, 1, 1)']]\n",
      "[['(1, 0, 1, 1)'], ['(1, 1, 1, 1)']]\n",
      "[['(1, 0, 1, 1)'], ['(1, 1, 1, 1)']]\n"
     ]
    },
    {
     "data": {
      "text/plain": [
       "34"
      ]
     },
     "execution_count": 79,
     "metadata": {},
     "output_type": "execute_result"
    }
   ],
   "source": [
    "i=0\n",
    "for neighbors in seed_neighbors:\n",
    "    if neighbors[0] == seed_neighbors[80][0]:\n",
    "        i = i+1\n",
    "        print(neighbors)\n",
    "i"
   ]
  },
  {
   "cell_type": "code",
   "execution_count": 14,
   "metadata": {},
   "outputs": [],
   "source": [
    "want = [1,3,0]"
   ]
  },
  {
   "cell_type": "code",
   "execution_count": 67,
   "metadata": {},
   "outputs": [
    {
     "name": "stdout",
     "output_type": "stream",
     "text": [
      "[['(1, 0, 0, 1)'], ['(0, 1, 1, 0)']]\n",
      "[['(1, 0, 0, 1)'], ['(0, 1, 1, 0)']]\n",
      "[['(1, 0, 0, 1)'], ['(0, 1, 1, 0)']]\n",
      "[['(1, 0, 0, 1)'], ['(0, 1, 1, 0)']]\n",
      "[['(1, 0, 0, 1)'], ['(0, 1, 1, 0)']]\n",
      "[['(1, 0, 0, 1)'], ['(0, 1, 1, 1)']]\n",
      "[['(1, 0, 0, 1)'], ['(0, 1, 1, 1)']]\n",
      "[['(1, 0, 0, 1)'], ['(0, 1, 1, 1)']]\n",
      "[['(1, 0, 0, 1)'], ['(0, 1, 1, 1)']]\n",
      "[['(1, 0, 0, 1)'], ['(0, 1, 1, 1)']]\n",
      "[['(1, 0, 0, 1)'], ['(1, 1, 0, 0)']]\n",
      "[['(1, 0, 0, 1)'], ['(1, 1, 0, 0)']]\n",
      "[['(1, 0, 0, 1)'], ['(1, 1, 0, 0)']]\n",
      "[['(1, 0, 0, 1)'], ['(1, 1, 0, 0)']]\n",
      "[['(1, 0, 0, 1)'], ['(1, 1, 0, 1)']]\n",
      "[['(1, 0, 0, 1)'], ['(1, 1, 0, 1)']]\n",
      "[['(1, 0, 0, 1)'], ['(1, 1, 0, 1)']]\n",
      "[['(1, 0, 0, 1)'], ['(1, 1, 0, 1)']]\n",
      "[['(1, 0, 0, 1)'], ['(1, 1, 1, 0)']]\n",
      "[['(1, 0, 0, 1)'], ['(1, 1, 1, 0)']]\n",
      "[['(1, 0, 0, 1)'], ['(1, 1, 1, 0)']]\n",
      "[['(1, 0, 0, 1)'], ['(1, 1, 1, 0)']]\n",
      "[['(1, 0, 0, 1)'], ['(1, 1, 1, 0)']]\n",
      "[['(1, 0, 0, 1)'], ['(1, 1, 1, 1)']]\n",
      "[['(1, 0, 0, 1)'], ['(1, 1, 1, 1)']]\n",
      "[['(1, 0, 0, 1)'], ['(1, 1, 1, 1)']]\n",
      "[['(1, 0, 0, 1)'], ['(1, 1, 1, 1)']]\n",
      "[['(1, 0, 0, 1)'], ['(1, 1, 1, 1)']]\n",
      "[['(1, 0, 1, 0)'], ['(0, 1, 0, 1)']]\n",
      "[['(1, 0, 1, 0)'], ['(0, 1, 0, 1)']]\n",
      "[['(1, 0, 1, 0)'], ['(0, 1, 0, 1)']]\n",
      "[['(1, 0, 1, 0)'], ['(0, 1, 0, 1)']]\n",
      "[['(1, 0, 1, 0)'], ['(0, 1, 0, 1)']]\n",
      "[['(1, 0, 1, 0)'], ['(0, 1, 1, 1)']]\n",
      "[['(1, 0, 1, 0)'], ['(0, 1, 1, 1)']]\n",
      "[['(1, 0, 1, 0)'], ['(0, 1, 1, 1)']]\n",
      "[['(1, 0, 1, 0)'], ['(0, 1, 1, 1)']]\n",
      "[['(1, 0, 1, 0)'], ['(0, 1, 1, 1)']]\n",
      "[['(1, 0, 1, 0)'], ['(1, 1, 0, 0)']]\n",
      "[['(1, 0, 1, 0)'], ['(1, 1, 0, 0)']]\n",
      "[['(1, 0, 1, 0)'], ['(1, 1, 0, 0)']]\n",
      "[['(1, 0, 1, 0)'], ['(1, 1, 0, 0)']]\n",
      "[['(1, 0, 1, 0)'], ['(1, 1, 0, 1)']]\n",
      "[['(1, 0, 1, 0)'], ['(1, 1, 0, 1)']]\n",
      "[['(1, 0, 1, 0)'], ['(1, 1, 0, 1)']]\n",
      "[['(1, 0, 1, 0)'], ['(1, 1, 0, 1)']]\n",
      "[['(1, 0, 1, 0)'], ['(1, 1, 0, 1)']]\n",
      "[['(1, 0, 1, 0)'], ['(1, 1, 1, 0)']]\n",
      "[['(1, 0, 1, 0)'], ['(1, 1, 1, 0)']]\n",
      "[['(1, 0, 1, 0)'], ['(1, 1, 1, 0)']]\n",
      "[['(1, 0, 1, 0)'], ['(1, 1, 1, 0)']]\n",
      "[['(1, 0, 1, 0)'], ['(1, 1, 1, 1)']]\n",
      "[['(1, 0, 1, 0)'], ['(1, 1, 1, 1)']]\n",
      "[['(1, 0, 1, 0)'], ['(1, 1, 1, 1)']]\n",
      "[['(1, 0, 1, 0)'], ['(1, 1, 1, 1)']]\n",
      "[['(1, 0, 1, 0)'], ['(1, 1, 1, 1)']]\n",
      "[['(1, 0, 1, 1)'], ['(0, 1, 0, 1)']]\n",
      "[['(1, 0, 1, 1)'], ['(0, 1, 0, 1)']]\n",
      "[['(1, 0, 1, 1)'], ['(0, 1, 0, 1)']]\n",
      "[['(1, 0, 1, 1)'], ['(0, 1, 0, 1)']]\n",
      "[['(1, 0, 1, 1)'], ['(0, 1, 0, 1)']]\n",
      "[['(1, 0, 1, 1)'], ['(0, 1, 1, 0)']]\n",
      "[['(1, 0, 1, 1)'], ['(0, 1, 1, 0)']]\n",
      "[['(1, 0, 1, 1)'], ['(0, 1, 1, 0)']]\n",
      "[['(1, 0, 1, 1)'], ['(0, 1, 1, 0)']]\n",
      "[['(1, 0, 1, 1)'], ['(0, 1, 1, 0)']]\n",
      "[['(1, 0, 1, 1)'], ['(1, 1, 0, 0)']]\n",
      "[['(1, 0, 1, 1)'], ['(1, 1, 0, 0)']]\n",
      "[['(1, 0, 1, 1)'], ['(1, 1, 0, 0)']]\n",
      "[['(1, 0, 1, 1)'], ['(1, 1, 0, 0)']]\n",
      "[['(1, 0, 1, 1)'], ['(1, 1, 0, 0)']]\n",
      "[['(1, 0, 1, 1)'], ['(1, 1, 0, 0)']]\n",
      "[['(1, 0, 1, 1)'], ['(1, 1, 0, 1)']]\n",
      "[['(1, 0, 1, 1)'], ['(1, 1, 0, 1)']]\n",
      "[['(1, 0, 1, 1)'], ['(1, 1, 0, 1)']]\n",
      "[['(1, 0, 1, 1)'], ['(1, 1, 0, 1)']]\n",
      "[['(1, 0, 1, 1)'], ['(1, 1, 0, 1)']]\n",
      "[['(1, 0, 1, 1)'], ['(1, 1, 0, 1)']]\n",
      "[['(1, 0, 1, 1)'], ['(1, 1, 1, 0)']]\n",
      "[['(1, 0, 1, 1)'], ['(1, 1, 1, 0)']]\n",
      "[['(1, 0, 1, 1)'], ['(1, 1, 1, 0)']]\n",
      "[['(1, 0, 1, 1)'], ['(1, 1, 1, 0)']]\n",
      "[['(1, 0, 1, 1)'], ['(1, 1, 1, 0)']]\n",
      "[['(1, 0, 1, 1)'], ['(1, 1, 1, 0)']]\n",
      "[['(1, 0, 1, 1)'], ['(1, 1, 1, 1)']]\n",
      "[['(1, 0, 1, 1)'], ['(1, 1, 1, 1)']]\n",
      "[['(1, 0, 1, 1)'], ['(1, 1, 1, 1)']]\n",
      "[['(1, 0, 1, 1)'], ['(1, 1, 1, 1)']]\n",
      "[['(1, 0, 1, 1)'], ['(1, 1, 1, 1)']]\n",
      "[['(1, 0, 1, 1)'], ['(1, 1, 1, 1)']]\n",
      "[['(1, 1, 0, 0)'], ['(0, 1, 0, 1)']]\n",
      "[['(1, 1, 0, 0)'], ['(0, 1, 0, 1)']]\n",
      "[['(1, 1, 0, 0)'], ['(0, 1, 0, 1)']]\n",
      "[['(1, 1, 0, 0)'], ['(0, 1, 0, 1)']]\n",
      "[['(1, 1, 0, 0)'], ['(0, 1, 1, 0)']]\n",
      "[['(1, 1, 0, 0)'], ['(0, 1, 1, 0)']]\n",
      "[['(1, 1, 0, 0)'], ['(0, 1, 1, 0)']]\n",
      "[['(1, 1, 0, 0)'], ['(0, 1, 1, 0)']]\n",
      "[['(1, 1, 0, 0)'], ['(0, 1, 1, 1)']]\n",
      "[['(1, 1, 0, 0)'], ['(0, 1, 1, 1)']]\n",
      "[['(1, 1, 0, 0)'], ['(0, 1, 1, 1)']]\n",
      "[['(1, 1, 0, 0)'], ['(0, 1, 1, 1)']]\n",
      "[['(1, 1, 0, 0)'], ['(0, 1, 1, 1)']]\n",
      "[['(1, 1, 0, 0)'], ['(0, 1, 1, 1)']]\n",
      "[['(1, 1, 0, 0)'], ['(1, 1, 0, 1)']]\n",
      "[['(1, 1, 0, 0)'], ['(1, 1, 0, 1)']]\n",
      "[['(1, 1, 0, 0)'], ['(1, 1, 0, 1)']]\n",
      "[['(1, 1, 0, 0)'], ['(1, 1, 0, 1)']]\n",
      "[['(1, 1, 0, 0)'], ['(1, 1, 1, 0)']]\n",
      "[['(1, 1, 0, 0)'], ['(1, 1, 1, 0)']]\n",
      "[['(1, 1, 0, 0)'], ['(1, 1, 1, 0)']]\n",
      "[['(1, 1, 0, 0)'], ['(1, 1, 1, 0)']]\n",
      "[['(1, 1, 0, 0)'], ['(1, 1, 1, 1)']]\n",
      "[['(1, 1, 0, 0)'], ['(1, 1, 1, 1)']]\n",
      "[['(1, 1, 0, 0)'], ['(1, 1, 1, 1)']]\n",
      "[['(1, 1, 0, 0)'], ['(1, 1, 1, 1)']]\n",
      "[['(1, 1, 0, 0)'], ['(1, 1, 1, 1)']]\n",
      "[['(1, 1, 0, 0)'], ['(1, 1, 1, 1)']]\n",
      "[['(1, 1, 0, 1)'], ['(0, 1, 0, 1)']]\n",
      "[['(1, 1, 0, 1)'], ['(0, 1, 0, 1)']]\n",
      "[['(1, 1, 0, 1)'], ['(0, 1, 0, 1)']]\n",
      "[['(1, 1, 0, 1)'], ['(0, 1, 0, 1)']]\n",
      "[['(1, 1, 0, 1)'], ['(0, 1, 1, 0)']]\n",
      "[['(1, 1, 0, 1)'], ['(0, 1, 1, 0)']]\n",
      "[['(1, 1, 0, 1)'], ['(0, 1, 1, 0)']]\n",
      "[['(1, 1, 0, 1)'], ['(0, 1, 1, 0)']]\n",
      "[['(1, 1, 0, 1)'], ['(0, 1, 1, 0)']]\n",
      "[['(1, 1, 0, 1)'], ['(0, 1, 1, 1)']]\n",
      "[['(1, 1, 0, 1)'], ['(0, 1, 1, 1)']]\n",
      "[['(1, 1, 0, 1)'], ['(0, 1, 1, 1)']]\n",
      "[['(1, 1, 0, 1)'], ['(0, 1, 1, 1)']]\n",
      "[['(1, 1, 0, 1)'], ['(0, 1, 1, 1)']]\n",
      "[['(1, 1, 0, 1)'], ['(0, 1, 1, 1)']]\n",
      "[['(1, 1, 0, 1)'], ['(1, 1, 0, 0)']]\n",
      "[['(1, 1, 0, 1)'], ['(1, 1, 0, 0)']]\n",
      "[['(1, 1, 0, 1)'], ['(1, 1, 0, 0)']]\n",
      "[['(1, 1, 0, 1)'], ['(1, 1, 0, 0)']]\n",
      "[['(1, 1, 0, 1)'], ['(1, 1, 0, 1)']]\n",
      "[['(1, 1, 0, 1)'], ['(1, 1, 0, 1)']]\n",
      "[['(1, 1, 0, 1)'], ['(1, 1, 0, 1)']]\n",
      "[['(1, 1, 0, 1)'], ['(1, 1, 0, 1)']]\n",
      "[['(1, 1, 0, 1)'], ['(1, 1, 1, 0)']]\n",
      "[['(1, 1, 0, 1)'], ['(1, 1, 1, 0)']]\n",
      "[['(1, 1, 0, 1)'], ['(1, 1, 1, 0)']]\n",
      "[['(1, 1, 0, 1)'], ['(1, 1, 1, 0)']]\n",
      "[['(1, 1, 0, 1)'], ['(1, 1, 1, 0)']]\n",
      "[['(1, 1, 0, 1)'], ['(1, 1, 1, 0)']]\n",
      "[['(1, 1, 0, 1)'], ['(1, 1, 1, 1)']]\n",
      "[['(1, 1, 0, 1)'], ['(1, 1, 1, 1)']]\n",
      "[['(1, 1, 0, 1)'], ['(1, 1, 1, 1)']]\n",
      "[['(1, 1, 0, 1)'], ['(1, 1, 1, 1)']]\n",
      "[['(1, 1, 0, 1)'], ['(1, 1, 1, 1)']]\n",
      "[['(1, 1, 1, 0)'], ['(0, 1, 0, 1)']]\n",
      "[['(1, 1, 1, 0)'], ['(0, 1, 0, 1)']]\n",
      "[['(1, 1, 1, 0)'], ['(0, 1, 0, 1)']]\n",
      "[['(1, 1, 1, 0)'], ['(0, 1, 0, 1)']]\n",
      "[['(1, 1, 1, 0)'], ['(0, 1, 0, 1)']]\n",
      "[['(1, 1, 1, 0)'], ['(0, 1, 1, 0)']]\n",
      "[['(1, 1, 1, 0)'], ['(0, 1, 1, 0)']]\n",
      "[['(1, 1, 1, 0)'], ['(0, 1, 1, 0)']]\n",
      "[['(1, 1, 1, 0)'], ['(0, 1, 1, 0)']]\n",
      "[['(1, 1, 1, 0)'], ['(0, 1, 1, 1)']]\n",
      "[['(1, 1, 1, 0)'], ['(0, 1, 1, 1)']]\n",
      "[['(1, 1, 1, 0)'], ['(0, 1, 1, 1)']]\n",
      "[['(1, 1, 1, 0)'], ['(0, 1, 1, 1)']]\n",
      "[['(1, 1, 1, 0)'], ['(0, 1, 1, 1)']]\n",
      "[['(1, 1, 1, 0)'], ['(0, 1, 1, 1)']]\n",
      "[['(1, 1, 1, 0)'], ['(1, 1, 0, 0)']]\n",
      "[['(1, 1, 1, 0)'], ['(1, 1, 0, 0)']]\n",
      "[['(1, 1, 1, 0)'], ['(1, 1, 0, 0)']]\n",
      "[['(1, 1, 1, 0)'], ['(1, 1, 0, 0)']]\n",
      "[['(1, 1, 1, 0)'], ['(1, 1, 0, 1)']]\n",
      "[['(1, 1, 1, 0)'], ['(1, 1, 0, 1)']]\n",
      "[['(1, 1, 1, 0)'], ['(1, 1, 0, 1)']]\n",
      "[['(1, 1, 1, 0)'], ['(1, 1, 0, 1)']]\n",
      "[['(1, 1, 1, 0)'], ['(1, 1, 0, 1)']]\n",
      "[['(1, 1, 1, 0)'], ['(1, 1, 1, 0)']]\n",
      "[['(1, 1, 1, 0)'], ['(1, 1, 1, 0)']]\n",
      "[['(1, 1, 1, 0)'], ['(1, 1, 1, 0)']]\n",
      "[['(1, 1, 1, 0)'], ['(1, 1, 1, 0)']]\n",
      "[['(1, 1, 1, 0)'], ['(1, 1, 1, 1)']]\n",
      "[['(1, 1, 1, 0)'], ['(1, 1, 1, 1)']]\n",
      "[['(1, 1, 1, 0)'], ['(1, 1, 1, 1)']]\n",
      "[['(1, 1, 1, 0)'], ['(1, 1, 1, 1)']]\n",
      "[['(1, 1, 1, 0)'], ['(1, 1, 1, 1)']]\n",
      "[['(1, 1, 1, 0)'], ['(1, 1, 1, 1)']]\n",
      "[['(1, 1, 1, 1)'], ['(0, 1, 0, 1)']]\n",
      "[['(1, 1, 1, 1)'], ['(0, 1, 0, 1)']]\n",
      "[['(1, 1, 1, 1)'], ['(0, 1, 0, 1)']]\n",
      "[['(1, 1, 1, 1)'], ['(0, 1, 0, 1)']]\n",
      "[['(1, 1, 1, 1)'], ['(0, 1, 0, 1)']]\n",
      "[['(1, 1, 1, 1)'], ['(0, 1, 1, 0)']]\n",
      "[['(1, 1, 1, 1)'], ['(0, 1, 1, 0)']]\n",
      "[['(1, 1, 1, 1)'], ['(0, 1, 1, 0)']]\n",
      "[['(1, 1, 1, 1)'], ['(0, 1, 1, 0)']]\n",
      "[['(1, 1, 1, 1)'], ['(0, 1, 1, 0)']]\n",
      "[['(1, 1, 1, 1)'], ['(0, 1, 1, 1)']]\n",
      "[['(1, 1, 1, 1)'], ['(0, 1, 1, 1)']]\n",
      "[['(1, 1, 1, 1)'], ['(0, 1, 1, 1)']]\n",
      "[['(1, 1, 1, 1)'], ['(0, 1, 1, 1)']]\n",
      "[['(1, 1, 1, 1)'], ['(0, 1, 1, 1)']]\n",
      "[['(1, 1, 1, 1)'], ['(0, 1, 1, 1)']]\n",
      "[['(1, 1, 1, 1)'], ['(1, 1, 0, 0)']]\n",
      "[['(1, 1, 1, 1)'], ['(1, 1, 0, 0)']]\n",
      "[['(1, 1, 1, 1)'], ['(1, 1, 0, 0)']]\n",
      "[['(1, 1, 1, 1)'], ['(1, 1, 0, 0)']]\n",
      "[['(1, 1, 1, 1)'], ['(1, 1, 0, 0)']]\n",
      "[['(1, 1, 1, 1)'], ['(1, 1, 0, 0)']]\n",
      "[['(1, 1, 1, 1)'], ['(1, 1, 0, 1)']]\n",
      "[['(1, 1, 1, 1)'], ['(1, 1, 0, 1)']]\n",
      "[['(1, 1, 1, 1)'], ['(1, 1, 0, 1)']]\n",
      "[['(1, 1, 1, 1)'], ['(1, 1, 0, 1)']]\n",
      "[['(1, 1, 1, 1)'], ['(1, 1, 0, 1)']]\n",
      "[['(1, 1, 1, 1)'], ['(1, 1, 0, 1)']]\n",
      "[['(1, 1, 1, 1)'], ['(1, 1, 1, 0)']]\n",
      "[['(1, 1, 1, 1)'], ['(1, 1, 1, 0)']]\n",
      "[['(1, 1, 1, 1)'], ['(1, 1, 1, 0)']]\n",
      "[['(1, 1, 1, 1)'], ['(1, 1, 1, 0)']]\n",
      "[['(1, 1, 1, 1)'], ['(1, 1, 1, 0)']]\n",
      "[['(1, 1, 1, 1)'], ['(1, 1, 1, 1)']]\n",
      "[['(1, 1, 1, 1)'], ['(1, 1, 1, 1)']]\n",
      "[['(1, 1, 1, 1)'], ['(1, 1, 1, 1)']]\n",
      "[['(1, 1, 1, 1)'], ['(1, 1, 1, 1)']]\n",
      "[['(1, 1, 1, 1)'], ['(1, 1, 1, 1)']]\n",
      "[['(1, 1, 1, 1)'], ['(1, 1, 1, 1)']]\n"
     ]
    }
   ],
   "source": [
    "tab = np.zeros((nq^(n-2),n))\n",
    "\n",
    "for i in range(nq^(n-2)):\n",
    "    idx = np.array([ eval(s) for s in seed_neighbors[i][0]]).sum(1)\n",
    "    for j in idx: \n",
    "        tab[i, j-1] += 1\n",
    "    #if all(k == True for k in [1,0,3] == tab[i,:]):\n",
    "        print(seed_neighbors[i])\n",
    "vecs_,  counts = np.unique(tab ,axis=0, return_counts=True)"
   ]
  },
  {
   "cell_type": "code",
   "execution_count": 62,
   "metadata": {},
   "outputs": [
    {
     "data": {
      "text/plain": [
       "(array([[0., 0., 0., 1.],\n",
       "        [0., 0., 1., 0.],\n",
       "        [0., 1., 0., 0.]]),\n",
       " array([ 39, 102,  84]))"
      ]
     },
     "execution_count": 62,
     "metadata": {},
     "output_type": "execute_result"
    }
   ],
   "source": [
    "vecs_,  counts"
   ]
  },
  {
   "cell_type": "code",
   "execution_count": 17,
   "metadata": {},
   "outputs": [
    {
     "data": {
      "text/plain": [
       "q^6 + q^4 + q^3 + q^2 + 1"
      ]
     },
     "execution_count": 17,
     "metadata": {},
     "output_type": "execute_result"
    }
   ],
   "source": [
    "gaussian_binomial(6,3)/(gaussian_binomial(4,1))"
   ]
  },
  {
   "cell_type": "code",
   "execution_count": 18,
   "metadata": {},
   "outputs": [],
   "source": [
    "r1 = matrix(FF,[[1,0,0,0,1],[0,1,0,0,0],[0,0,1,0,0],[0,0,0,1,0],[0,0,0,0,1]])\n",
    "r2 = matrix(FF,[[1,0,0,0,0],[1,1,0,0,0],[0,0,1,0,0],[0,0,0,1,0],[0,0,0,0,1]])\n",
    "r3 = matrix(FF,[[1,0,0,0,0],[0,1,0,0,0],[0,1,1,0,0],[0,0,0,1,0],[0,0,0,0,1]])\n",
    "r4 = matrix(FF,[[1,0,0,0,0],[0,1,0,0,0],[0,0,1,0,0],[0,0,1,1,0],[0,0,0,0,1]])\n",
    "r5 = matrix(FF,[[1,0,0,0,0],[0,1,0,0,0],[0,0,1,0,0],[0,0,0,1,0],[0,0,0,1,1]])"
   ]
  },
  {
   "cell_type": "code",
   "execution_count": 19,
   "metadata": {},
   "outputs": [],
   "source": [
    "r1 = matrix(FF,[[1,0,0,0,0,1],[0,1,0,0,0,0],[0,0,1,0,0,0],[0,0,0,1,0,0],[0,0,0,0,1,0],[0,0,0,0,0,1]])\n",
    "r2 = matrix(FF,[[1,0,0,0,0,0],[1,1,0,0,0,0],[0,0,1,0,0,0],[0,0,0,1,0,0],[0,0,0,0,1,0],[0,0,0,0,0,1]])\n",
    "r3 = matrix(FF,[[1,0,0,0,0,0],[0,1,0,0,0,0],[0,1,1,0,0,0],[0,0,0,1,0,0],[0,0,0,0,1,0],[0,0,0,0,0,1]])\n",
    "r4 = matrix(FF,[[1,0,0,0,0,0],[0,1,0,0,0,0],[0,0,1,0,0,0],[0,0,1,1,0,0],[0,0,0,0,1,0],[0,0,0,0,0,1]])\n",
    "r5 = matrix(FF,[[1,0,0,0,0,0],[0,1,0,0,0,0],[0,0,1,0,0,0],[0,0,0,1,0,0],[0,0,0,1,1,0],[0,0,0,0,0,1]])\n",
    "r6 = matrix(FF,[[1,0,0,0,0,0],[0,1,0,0,0,0],[0,0,1,0,0,0],[0,0,0,1,0,0],[0,0,0,0,1,0],[0,0,0,0,1,1]])\n"
   ]
  },
  {
   "cell_type": "code",
   "execution_count": 20,
   "metadata": {
    "scrolled": true
   },
   "outputs": [
    {
     "ename": "TypeError",
     "evalue": "unsupported operand parent(s) for *: 'Full MatrixSpace of 1 by 4 dense matrices over Finite Field of size 2' and 'Full MatrixSpace of 6 by 6 dense matrices over Finite Field of size 2'",
     "output_type": "error",
     "traceback": [
      "\u001b[0;31m---------------------------------------------------------------------------\u001b[0m",
      "\u001b[0;31mTypeError\u001b[0m                                 Traceback (most recent call last)",
      "Cell \u001b[0;32mIn[20], line 1\u001b[0m\n\u001b[0;32m----> 1\u001b[0m Mlist \u001b[38;5;241m=\u001b[39m \u001b[43mget_adj_matrix\u001b[49m\u001b[43m(\u001b[49m\u001b[43m[\u001b[49m\u001b[43mr1\u001b[49m\u001b[43m,\u001b[49m\u001b[43mr2\u001b[49m\u001b[43m,\u001b[49m\u001b[43mr3\u001b[49m\u001b[43m,\u001b[49m\u001b[43mr4\u001b[49m\u001b[43m,\u001b[49m\u001b[43mr5\u001b[49m\u001b[43m,\u001b[49m\u001b[43mr6\u001b[49m\u001b[43m]\u001b[49m\u001b[43m)\u001b[49m\n\u001b[1;32m      2\u001b[0m \u001b[38;5;66;03m#[M1,M2,M3]=get_adj_matrix(rrr[0])\u001b[39;00m\n\u001b[1;32m      3\u001b[0m Dlist\u001b[38;5;241m=\u001b[39m [DiGraph(adj_m) \u001b[38;5;28;01mfor\u001b[39;00m adj_m \u001b[38;5;129;01min\u001b[39;00m Mlist]\n",
      "Cell \u001b[0;32mIn[12], line 25\u001b[0m, in \u001b[0;36mget_adj_matrix\u001b[0;34m(rrr)\u001b[0m\n\u001b[1;32m     24\u001b[0m \u001b[38;5;28;01mdef\u001b[39;00m \u001b[38;5;21mget_adj_matrix\u001b[39m(rrr):\n\u001b[0;32m---> 25\u001b[0m     edges\u001b[38;5;241m=\u001b[39m\u001b[43mget_edges\u001b[49m\u001b[43m(\u001b[49m\u001b[43mrrr\u001b[49m\u001b[43m)\u001b[49m\n\u001b[1;32m     26\u001b[0m     Mlist\u001b[38;5;241m=\u001b[39m[]\n\u001b[1;32m     27\u001b[0m     \u001b[38;5;28;01mfor\u001b[39;00m i \u001b[38;5;129;01min\u001b[39;00m \u001b[38;5;28mrange\u001b[39m(n):\n",
      "Cell \u001b[0;32mIn[12], line 13\u001b[0m, in \u001b[0;36mget_edges\u001b[0;34m(rrr)\u001b[0m\n\u001b[1;32m     11\u001b[0m edges\u001b[38;5;241m=\u001b[39m[]\n\u001b[1;32m     12\u001b[0m \u001b[38;5;28;01mfor\u001b[39;00m i \u001b[38;5;129;01min\u001b[39;00m \u001b[38;5;28mrange\u001b[39m(n):\n\u001b[0;32m---> 13\u001b[0m     edge\u001b[38;5;241m=\u001b[39m\u001b[43mget_edge\u001b[49m\u001b[43m(\u001b[49m\u001b[43mrrr\u001b[49m\u001b[43m[\u001b[49m\u001b[43mi\u001b[49m\u001b[43m]\u001b[49m\u001b[43m)\u001b[49m\n\u001b[1;32m     14\u001b[0m     edges\u001b[38;5;241m.\u001b[39mappend(edge)\n\u001b[1;32m     15\u001b[0m \u001b[38;5;28;01mreturn\u001b[39;00m edges\n",
      "Cell \u001b[0;32mIn[12], line 4\u001b[0m, in \u001b[0;36mget_edge\u001b[0;34m(r)\u001b[0m\n\u001b[1;32m      2\u001b[0m edge\u001b[38;5;241m=\u001b[39m[]\n\u001b[1;32m      3\u001b[0m \u001b[38;5;28;01mfor\u001b[39;00m v \u001b[38;5;129;01min\u001b[39;00m newvec:\n\u001b[0;32m----> 4\u001b[0m         w \u001b[38;5;241m=\u001b[39m \u001b[43mv\u001b[49m\u001b[38;5;241;43m*\u001b[39;49m\u001b[43mr\u001b[49m\n\u001b[1;32m      5\u001b[0m         \u001b[38;5;28;01mif\u001b[39;00m v\u001b[38;5;241m!=\u001b[39mw:\n\u001b[1;32m      6\u001b[0m             edge\u001b[38;5;241m.\u001b[39mappend([newvec\u001b[38;5;241m.\u001b[39mindex(v),newvec\u001b[38;5;241m.\u001b[39mindex(w)])\n",
      "File \u001b[0;32m/private/var/tmp/sage-10.3-current/local/var/lib/sage/venv-python3.11.8/lib/python3.11/site-packages/sage/structure/parent.pyx:997\u001b[0m, in \u001b[0;36msage.structure.parent.Parent.__mul__ (build/cythonized/sage/structure/parent.c:13194)\u001b[0;34m()\u001b[0m\n\u001b[1;32m    995\u001b[0m     if switch:\n\u001b[1;32m    996\u001b[0m         return _mul_(self, switch_sides=True)\n\u001b[0;32m--> 997\u001b[0m     return _mul_(x)\n\u001b[1;32m    998\u001b[0m \n\u001b[1;32m    999\u001b[0m def __pow__(self, x, mod):\n",
      "File \u001b[0;32m/private/var/tmp/sage-10.3-current/local/var/lib/sage/venv-python3.11.8/lib/python3.11/site-packages/sage/modules/free_module.py:3576\u001b[0m, in \u001b[0;36mFreeModule_generic._mul_\u001b[0;34m(self, other, switch_sides)\u001b[0m\n\u001b[1;32m   3529\u001b[0m \u001b[38;5;250m\u001b[39m\u001b[38;5;124mr\u001b[39m\u001b[38;5;124;03m\"\"\"\u001b[39;00m\n\u001b[1;32m   3530\u001b[0m \u001b[38;5;124;03mMultiplication of the basis by ``other``.\u001b[39;00m\n\u001b[1;32m   3531\u001b[0m \n\u001b[0;32m   (...)\u001b[0m\n\u001b[1;32m   3573\u001b[0m \n\u001b[1;32m   3574\u001b[0m \u001b[38;5;124;03m\"\"\"\u001b[39;00m\n\u001b[1;32m   3575\u001b[0m B \u001b[38;5;241m=\u001b[39m \u001b[38;5;28mself\u001b[39m\u001b[38;5;241m.\u001b[39mbasis_matrix()\n\u001b[0;32m-> 3576\u001b[0m B \u001b[38;5;241m=\u001b[39m other \u001b[38;5;241m*\u001b[39m B \u001b[38;5;28;01mif\u001b[39;00m switch_sides \u001b[38;5;28;01melse\u001b[39;00m \u001b[43mB\u001b[49m\u001b[43m \u001b[49m\u001b[38;5;241;43m*\u001b[39;49m\u001b[43m \u001b[49m\u001b[43mother\u001b[49m\n\u001b[1;32m   3577\u001b[0m \u001b[38;5;28;01mreturn\u001b[39;00m \u001b[38;5;28mself\u001b[39m\u001b[38;5;241m.\u001b[39mspan(B\u001b[38;5;241m.\u001b[39mrows())\n",
      "File \u001b[0;32m/private/var/tmp/sage-10.3-current/local/var/lib/sage/venv-python3.11.8/lib/python3.11/site-packages/sage/structure/element.pyx:4090\u001b[0m, in \u001b[0;36msage.structure.element.Matrix.__mul__ (build/cythonized/sage/structure/element.c:35225)\u001b[0;34m()\u001b[0m\n\u001b[1;32m   4088\u001b[0m \n\u001b[1;32m   4089\u001b[0m         if BOTH_ARE_ELEMENT(cl):\n\u001b[0;32m-> 4090\u001b[0m             return coercion_model.bin_op(left, right, mul)\n\u001b[1;32m   4091\u001b[0m \n\u001b[1;32m   4092\u001b[0m         cdef long value\n",
      "File \u001b[0;32m/private/var/tmp/sage-10.3-current/local/var/lib/sage/venv-python3.11.8/lib/python3.11/site-packages/sage/structure/coerce.pyx:1278\u001b[0m, in \u001b[0;36msage.structure.coerce.CoercionModel.bin_op (build/cythonized/sage/structure/coerce.c:16857)\u001b[0;34m()\u001b[0m\n\u001b[1;32m   1276\u001b[0m     # We should really include the underlying error.\n\u001b[1;32m   1277\u001b[0m     # This causes so much headache.\n\u001b[0;32m-> 1278\u001b[0m     raise bin_op_exception(op, x, y)\n\u001b[1;32m   1279\u001b[0m \n\u001b[1;32m   1280\u001b[0m cpdef canonical_coercion(self, x, y) noexcept:\n",
      "\u001b[0;31mTypeError\u001b[0m: unsupported operand parent(s) for *: 'Full MatrixSpace of 1 by 4 dense matrices over Finite Field of size 2' and 'Full MatrixSpace of 6 by 6 dense matrices over Finite Field of size 2'"
     ]
    }
   ],
   "source": [
    "Mlist = get_adj_matrix([r1,r2,r3,r4,r5,r6])\n",
    "#[M1,M2,M3]=get_adj_matrix(rrr[0])\n",
    "Dlist= [DiGraph(adj_m) for adj_m in Mlist]\n",
    "alledge=[]\n",
    "for i in range(n):\n",
    "    for u,v,l in Dlist[i].edges():\n",
    "        Dlist[i].set_edge_label(u,v,str(i))\n",
    "    alledge = alledge+Dlist[i].edges()\n",
    "D=DiGraph()\n",
    "D.add_edges(alledge)\n",
    "D.relabel(vertex)\n",
    "G=D.to_undirected()\n",
    "G.plot(color_by_label=True,vertex_size=10, vertex_labels=False)\n"
   ]
  },
  {
   "cell_type": "code",
   "execution_count": 35,
   "metadata": {},
   "outputs": [
    {
     "data": {
      "text/plain": [
       "<class 'sage.matrix.matrix_mod2_dense.Matrix_mod2_dense'>"
      ]
     },
     "execution_count": 35,
     "metadata": {},
     "output_type": "execute_result"
    }
   ],
   "source": [
    "type(matrix(FF,prod(facts)))"
   ]
  },
  {
   "cell_type": "code",
   "execution_count": 36,
   "metadata": {},
   "outputs": [
    {
     "data": {
      "text/plain": [
       "<class 'sage.matrix.matrix_mod2_dense.Matrix_mod2_dense'>"
      ]
     },
     "execution_count": 36,
     "metadata": {},
     "output_type": "execute_result"
    }
   ],
   "source": [
    "type(matrix(FF,c))"
   ]
  },
  {
   "cell_type": "code",
   "execution_count": 39,
   "metadata": {},
   "outputs": [
    {
     "data": {
      "text/plain": [
       "[[\n",
       "[1 0 0 1]  [1 0 0 0]  [1 0 0 0]  [1 0 0 0]\n",
       "[0 1 0 0]  [0 1 1 0]  [0 1 0 0]  [0 1 0 0]\n",
       "[0 0 1 0]  [0 0 1 0]  [0 1 1 1]  [0 0 1 0]\n",
       "[0 0 0 1], [0 0 0 1], [0 0 0 1], [1 1 1 1]\n",
       "]]"
      ]
     },
     "execution_count": 39,
     "metadata": {},
     "output_type": "execute_result"
    }
   ],
   "source": [
    "fact_for_fixed_c = []\n",
    "for facts in fact_fixed_conj:\n",
    "    if matrix(FF,prod(facts)) == matrix(FF,prod(fact_fixed_conj[0])):\n",
    "        fact_for_fixed_c.append(facts)\n",
    "\n",
    "fact_for_fixed_c\n",
    "    "
   ]
  },
  {
   "cell_type": "code",
   "execution_count": null,
   "metadata": {},
   "outputs": [],
   "source": [
    "#Play around with the vertex labeling. It can get pretty crazy as n grows.\n",
    "graphs_ = []\n",
    "for i in [51, 192]:\n",
    "    Mlist = get_adj_matrix(fact_fixed_conj[i])\n",
    "    #[M1,M2,M3]=get_adj_matrix(rrr[0])\n",
    "    Dlist= [DiGraph(adj_m) for adj_m in Mlist]\n",
    "    alledge=[]\n",
    "    for i in range(n):\n",
    "        for u,v,l in Dlist[i].edges():\n",
    "            Dlist[i].set_edge_label(u,v,str(i))\n",
    "        alledge = alledge+Dlist[i].edges()\n",
    "    D=DiGraph()\n",
    "    D.add_edges(alledge)\n",
    "    D.relabel(vertex)\n",
    "    G=D.to_undirected()\n",
    "    graphs_.append([G.plot(color_by_label=True,vertex_size=10,layout='spring',vertex_labels=True)])\n",
    "\n",
    "grid = GraphicsArray(graphs_[0:10])\n",
    "grid.show(figsize=9)\n",
    "\n",
    "# seed = [v for v in G if G.degree(v) == n]\n",
    "# for v in seed:\n",
    "# print(G.neighbors(v))\n",
    "    #graphs_.append([G.plot(color_by_label=True,vertex_size=10,layout='spring',vertex_labels=True)])\n",
    "\n",
    "\n"
   ]
  },
  {
   "cell_type": "code",
   "execution_count": null,
   "metadata": {},
   "outputs": [],
   "source": [
    "#Play around with the vertex labeling. It can get pretty crazy as n grows.\n",
    "graphs_ = []\n",
    "for i in [51, 192]:\n",
    "    Mlist = get_adj_matrix(fact_fixed_conj[i])\n",
    "    #[M1,M2,M3]=get_adj_matrix(rrr[0])\n",
    "    Dlist= [DiGraph(adj_m) for adj_m in Mlist]\n",
    "    alledge=[]\n",
    "    for i in range(n):\n",
    "        for u,v,l in Dlist[i].edges():\n",
    "            Dlist[i].set_edge_label(u,v,str(i))\n",
    "        alledge = alledge+Dlist[i].edges()\n",
    "    D=DiGraph()\n",
    "    D.add_edges(alledge)\n",
    "    D.relabel(vertex)\n",
    "    G=D.to_undirected()\n",
    "    graphs_.append([G.plot(color_by_label=True,vertex_size=10,layout='spring',vertex_labels=True)])\n",
    "\n",
    "grid = GraphicsArray(graphs_[0:10])\n",
    "grid.show(figsize=9)\n",
    "\n",
    "# seed = [v for v in G if G.degree(v) == n]\n",
    "# for v in seed:\n",
    "# print(G.neighbors(v))\n",
    "    #graphs_.append([G.plot(color_by_label=True,vertex_size=10,layout='spring',vertex_labels=True)])\n",
    "\n",
    "\n"
   ]
  },
  {
   "cell_type": "code",
   "execution_count": 21,
   "metadata": {
    "scrolled": true
   },
   "outputs": [
    {
     "name": "stdout",
     "output_type": "stream",
     "text": [
      "['(1, 1, 0, 1)', '(0, 0, 0, 1)', '(1, 0, 1, 0)', '(1, 1, 1, 0)']\n",
      "['(1, 0, 0, 1)', '(1, 1, 0, 1)', '(0, 1, 1, 1)', '(1, 1, 1, 0)']\n",
      "['(1, 1, 0, 1)', '(0, 1, 1, 0)', '(0, 0, 1, 1)', '(1, 1, 1, 0)']\n",
      "['(1, 1, 0, 1)', '(0, 1, 0, 1)', '(0, 0, 1, 1)', '(1, 1, 1, 0)']\n",
      "['(1, 1, 0, 1)', '(1, 0, 1, 1)', '(0, 0, 1, 0)', '(1, 1, 1, 0)']\n",
      "['(1, 0, 1, 1)', '(0, 1, 0, 1)', '(1, 1, 0, 0)', '(1, 1, 1, 0)']\n",
      "['(0, 0, 1, 1)', '(1, 1, 0, 0)', '(1, 0, 1, 0)', '(1, 1, 1, 0)']\n",
      "['(0, 1, 1, 1)', '(0, 0, 0, 1)', '(1, 1, 0, 0)', '(1, 1, 1, 0)']\n",
      "['(1, 0, 1, 1)', '(0, 1, 1, 0)', '(1, 1, 0, 0)', '(1, 1, 1, 0)']\n",
      "['(1, 0, 0, 1)', '(0, 0, 1, 0)', '(1, 1, 0, 0)', '(1, 1, 1, 0)']\n",
      "['(1, 1, 0, 1)', '(1, 0, 1, 1)', '(0, 1, 1, 1)', '(1, 1, 1, 0)']\n",
      "['(0, 1, 0, 1)', '(0, 1, 1, 1)', '(1, 0, 1, 0)', '(1, 1, 1, 0)']\n",
      "['(1, 0, 0, 1)', '(0, 1, 1, 1)', '(0, 0, 1, 1)', '(1, 1, 1, 0)']\n",
      "['(0, 1, 1, 1)', '(0, 0, 1, 0)', '(0, 0, 0, 1)', '(1, 1, 1, 0)']\n",
      "['(1, 0, 1, 1)', '(0, 1, 1, 0)', '(0, 0, 0, 1)', '(1, 1, 1, 0)']\n",
      "['(1, 0, 0, 1)', '(0, 1, 1, 0)', '(1, 0, 1, 0)', '(1, 1, 1, 0)']\n",
      "['(1, 1, 0, 1)', '(0, 1, 1, 0)', '(0, 0, 1, 1)', '(1, 1, 1, 0)']\n",
      "['(0, 1, 1, 0)', '(0, 0, 1, 0)', '(1, 1, 1, 0)', '(0, 1, 0, 1)']\n",
      "['(1, 0, 1, 1)', '(0, 1, 0, 1)', '(0, 0, 1, 1)', '(1, 1, 1, 0)']\n",
      "['(1, 1, 0, 1)', '(0, 1, 0, 1)', '(1, 0, 1, 0)', '(1, 1, 1, 0)']\n",
      "['(1, 0, 1, 1)', '(0, 1, 0, 1)', '(0, 1, 1, 1)', '(1, 1, 1, 0)']\n",
      "['(1, 0, 0, 1)', '(0, 1, 1, 0)', '(0, 1, 0, 1)', '(1, 1, 1, 0)']\n",
      "['(0, 1, 0, 1)', '(0, 0, 1, 1)', '(0, 0, 0, 1)', '(1, 1, 1, 0)']\n",
      "['(1, 0, 0, 1)', '(1, 0, 1, 1)', '(0, 1, 0, 0)', '(1, 1, 1, 0)']\n",
      "['(0, 1, 0, 0)', '(0, 1, 1, 1)', '(0, 0, 1, 1)', '(1, 1, 1, 0)']\n",
      "['(0, 1, 0, 0)', '(0, 1, 1, 0)', '(0, 0, 0, 1)', '(1, 1, 1, 0)']\n",
      "['(1, 0, 1, 1)', '(0, 1, 0, 0)', '(0, 0, 1, 1)', '(1, 1, 1, 0)']\n",
      "['(1, 1, 0, 1)', '(0, 1, 0, 0)', '(0, 0, 1, 0)', '(1, 1, 1, 0)']\n",
      "['(1, 0, 1, 1)', '(1, 1, 0, 1)', '(1, 1, 1, 0)', '(0, 1, 0, 1)']\n",
      "['(1, 1, 0, 1)', '(0, 0, 1, 1)', '(1, 0, 1, 0)', '(1, 1, 1, 0)']\n",
      "['(1, 1, 0, 1)', '(0, 1, 1, 0)', '(0, 0, 0, 1)', '(1, 1, 1, 0)']\n",
      "['(1, 0, 0, 1)', '(1, 1, 0, 1)', '(0, 0, 1, 1)', '(1, 1, 1, 0)']\n",
      "['(1, 1, 0, 1)', '(0, 1, 1, 1)', '(0, 0, 1, 0)', '(1, 1, 1, 0)']\n",
      "['(1, 0, 1, 1)', '(1, 1, 0, 1)', '(0, 0, 0, 1)', '(1, 1, 0, 0)']\n",
      "['(1, 1, 0, 1)', '(0, 1, 1, 1)', '(1, 1, 0, 0)', '(1, 0, 1, 0)']\n",
      "['(1, 0, 0, 1)', '(1, 1, 0, 1)', '(0, 1, 1, 0)', '(1, 1, 0, 0)']\n",
      "['(1, 1, 0, 1)', '(0, 1, 0, 1)', '(0, 0, 1, 1)', '(1, 1, 0, 0)']\n",
      "['(1, 0, 1, 1)', '(1, 1, 0, 1)', '(0, 0, 1, 0)', '(1, 1, 0, 0)']\n",
      "['(1, 1, 0, 1)', '(0, 1, 1, 1)', '(0, 0, 0, 1)', '(1, 1, 1, 0)']\n",
      "['(1, 0, 1, 1)', '(1, 1, 0, 1)', '(0, 1, 1, 1)', '(1, 0, 1, 0)']\n",
      "['(1, 1, 0, 1)', '(0, 1, 1, 0)', '(0, 1, 1, 1)', '(0, 0, 1, 1)']\n",
      "['(1, 0, 0, 1)', '(1, 1, 0, 1)', '(0, 1, 1, 1)', '(0, 0, 1, 0)']\n",
      "['(1, 1, 0, 1)', '(0, 1, 1, 0)', '(0, 0, 1, 1)', '(1, 1, 1, 0)']\n",
      "['(1, 0, 1, 1)', '(1, 1, 0, 1)', '(0, 1, 1, 0)', '(0, 1, 1, 1)']\n",
      "['(1, 1, 0, 1)', '(0, 1, 1, 0)', '(1, 0, 1, 0)', '(0, 1, 0, 1)']\n",
      "['(1, 0, 1, 1)', '(1, 1, 0, 1)', '(0, 1, 1, 0)', '(0, 0, 1, 1)']\n",
      "['(1, 1, 0, 1)', '(0, 1, 1, 0)', '(0, 0, 1, 0)', '(0, 0, 0, 1)']\n",
      "['(1, 0, 0, 1)', '(1, 1, 0, 1)', '(0, 1, 0, 1)', '(1, 1, 1, 0)']\n",
      "['(1, 1, 0, 1)', '(0, 1, 0, 1)', '(0, 0, 0, 1)', '(1, 0, 1, 0)']\n",
      "['(1, 0, 1, 1)', '(1, 1, 0, 1)', '(0, 1, 1, 0)', '(0, 1, 0, 1)']\n",
      "['(1, 1, 0, 1)', '(0, 1, 0, 1)', '(0, 0, 1, 0)', '(0, 0, 1, 1)']\n",
      "['(1, 0, 1, 1)', '(1, 1, 0, 1)', '(0, 1, 0, 0)', '(1, 1, 1, 0)']\n",
      "['(1, 0, 1, 1)', '(1, 1, 0, 1)', '(0, 1, 0, 0)', '(0, 0, 1, 1)']\n",
      "['(1, 0, 0, 1)', '(1, 1, 0, 1)', '(0, 1, 0, 0)', '(1, 0, 1, 0)']\n",
      "['(1, 1, 0, 1)', '(0, 1, 0, 0)', '(0, 1, 1, 1)', '(0, 0, 1, 1)']\n",
      "['(1, 1, 0, 1)', '(0, 1, 0, 0)', '(0, 1, 0, 1)', '(0, 0, 1, 0)']\n",
      "['(1, 0, 1, 1)', '(0, 0, 0, 1)', '(1, 1, 0, 0)', '(1, 1, 1, 0)']\n",
      "['(0, 1, 1, 1)', '(1, 1, 0, 0)', '(1, 0, 1, 0)', '(1, 1, 1, 0)']\n",
      "['(1, 0, 0, 1)', '(0, 1, 1, 1)', '(1, 1, 0, 0)', '(1, 1, 1, 0)']\n",
      "['(0, 1, 1, 0)', '(0, 0, 1, 1)', '(1, 1, 0, 0)', '(1, 1, 1, 0)']\n",
      "['(0, 0, 1, 0)', '(1, 1, 0, 0)', '(1, 1, 1, 0)', '(0, 1, 0, 1)']\n",
      "['(1, 1, 0, 1)', '(0, 1, 0, 1)', '(1, 1, 0, 0)', '(1, 0, 1, 0)']\n",
      "['(1, 1, 0, 1)', '(0, 1, 1, 1)', '(0, 0, 0, 1)', '(1, 1, 0, 0)']\n",
      "['(1, 0, 1, 1)', '(1, 1, 0, 1)', '(0, 1, 1, 0)', '(1, 1, 0, 0)']\n",
      "['(1, 0, 0, 1)', '(1, 1, 0, 1)', '(0, 0, 1, 1)', '(1, 1, 0, 0)']\n",
      "['(1, 1, 0, 1)', '(0, 1, 1, 1)', '(0, 0, 1, 0)', '(1, 1, 0, 0)']\n",
      "['(1, 0, 1, 1)', '(0, 1, 1, 1)', '(1, 1, 0, 0)', '(1, 1, 1, 0)']\n",
      "['(1, 0, 1, 1)', '(1, 0, 0, 1)', '(0, 1, 1, 1)', '(1, 1, 0, 0)']\n",
      "['(0, 1, 1, 1)', '(0, 0, 1, 1)', '(1, 1, 0, 0)', '(1, 0, 1, 0)']\n",
      "['(0, 1, 1, 0)', '(0, 1, 1, 1)', '(0, 0, 0, 1)', '(1, 1, 0, 0)']\n",
      "['(0, 1, 0, 1)', '(0, 1, 1, 1)', '(0, 0, 1, 1)', '(1, 1, 0, 0)']\n",
      "['(1, 1, 0, 1)', '(0, 1, 1, 1)', '(0, 0, 1, 0)', '(1, 1, 0, 0)']\n",
      "['(1, 0, 0, 1)', '(0, 1, 1, 0)', '(1, 1, 0, 0)', '(1, 1, 1, 0)']\n",
      "['(1, 0, 1, 1)', '(1, 1, 0, 1)', '(0, 1, 1, 0)', '(1, 1, 0, 0)']\n",
      "['(0, 1, 1, 0)', '(0, 0, 0, 1)', '(1, 1, 0, 0)', '(1, 0, 1, 0)']\n",
      "['(1, 0, 1, 1)', '(0, 1, 1, 0)', '(0, 1, 1, 1)', '(1, 1, 0, 0)']\n",
      "['(0, 1, 1, 0)', '(0, 1, 1, 1)', '(0, 0, 1, 1)', '(1, 1, 0, 0)']\n",
      "['(0, 1, 1, 0)', '(0, 0, 1, 0)', '(0, 0, 1, 1)', '(1, 1, 0, 0)']\n",
      "['(0, 1, 0, 1)', '(0, 0, 0, 1)', '(1, 1, 0, 0)', '(1, 1, 1, 0)']\n",
      "['(1, 0, 1, 1)', '(0, 1, 0, 1)', '(0, 1, 1, 1)', '(1, 1, 0, 0)']\n",
      "['(1, 0, 1, 1)', '(0, 1, 0, 1)', '(1, 1, 0, 0)', '(1, 0, 1, 0)']\n",
      "['(0, 1, 0, 1)', '(0, 1, 1, 1)', '(0, 0, 1, 1)', '(1, 1, 0, 0)']\n",
      "['(1, 1, 0, 1)', '(0, 1, 0, 1)', '(0, 0, 1, 1)', '(1, 1, 0, 0)']\n",
      "['(1, 0, 0, 1)', '(0, 1, 0, 1)', '(0, 0, 1, 0)', '(1, 1, 0, 0)']\n",
      "['(0, 1, 0, 0)', '(0, 0, 1, 1)', '(1, 1, 0, 0)', '(1, 1, 1, 0)']\n",
      "['(1, 0, 1, 1)', '(0, 1, 0, 0)', '(0, 1, 0, 1)', '(1, 1, 0, 0)']\n",
      "['(1, 1, 0, 1)', '(0, 1, 0, 0)', '(1, 1, 0, 0)', '(1, 0, 1, 0)']\n",
      "['(1, 0, 0, 1)', '(0, 1, 0, 0)', '(0, 1, 1, 0)', '(1, 1, 0, 0)']\n",
      "['(0, 1, 0, 0)', '(0, 0, 1, 1)', '(0, 0, 0, 1)', '(1, 1, 0, 0)']\n",
      "['(1, 0, 1, 1)', '(0, 1, 0, 0)', '(0, 0, 1, 0)', '(1, 1, 0, 0)']\n",
      "['(1, 0, 1, 1)', '(0, 1, 1, 1)', '(0, 0, 0, 1)', '(1, 1, 1, 0)']\n",
      "['(1, 0, 1, 1)', '(0, 1, 1, 0)', '(1, 1, 1, 0)', '(0, 1, 0, 1)']\n",
      "['(1, 1, 0, 1)', '(1, 0, 1, 1)', '(0, 0, 1, 1)', '(1, 1, 1, 0)']\n",
      "['(1, 0, 0, 1)', '(1, 0, 1, 1)', '(0, 0, 1, 0)', '(1, 1, 1, 0)']\n",
      "['(1, 1, 0, 1)', '(1, 0, 1, 1)', '(0, 1, 0, 1)', '(1, 1, 1, 0)']\n",
      "['(1, 1, 0, 1)', '(1, 0, 1, 1)', '(0, 1, 1, 1)', '(1, 0, 1, 0)']\n",
      "['(1, 1, 0, 1)', '(1, 0, 1, 1)', '(0, 1, 1, 0)', '(0, 0, 0, 1)']\n",
      "['(1, 1, 0, 1)', '(1, 0, 1, 1)', '(0, 0, 1, 0)', '(0, 0, 1, 1)']\n",
      "['(1, 0, 1, 1)', '(0, 0, 1, 1)', '(1, 1, 0, 0)', '(1, 1, 1, 0)']\n",
      "['(1, 0, 1, 1)', '(0, 1, 0, 1)', '(1, 1, 0, 0)', '(1, 0, 1, 0)']\n",
      "['(1, 0, 0, 1)', '(1, 0, 1, 1)', '(0, 1, 1, 1)', '(1, 1, 0, 0)']\n",
      "['(1, 1, 0, 1)', '(1, 0, 1, 1)', '(0, 1, 1, 0)', '(1, 1, 0, 0)']\n",
      "['(1, 0, 1, 1)', '(0, 0, 1, 1)', '(0, 0, 0, 1)', '(1, 1, 0, 0)']\n",
      "['(1, 0, 1, 1)', '(0, 1, 1, 1)', '(0, 0, 1, 0)', '(1, 1, 0, 0)']\n",
      "['(1, 0, 1, 1)', '(0, 1, 1, 0)', '(0, 0, 0, 1)', '(1, 1, 1, 0)']\n",
      "['(1, 1, 0, 1)', '(1, 0, 1, 1)', '(0, 1, 1, 0)', '(1, 0, 1, 0)']\n",
      "['(1, 0, 1, 1)', '(0, 1, 1, 0)', '(0, 1, 1, 1)', '(0, 1, 0, 1)']\n",
      "['(1, 0, 0, 1)', '(1, 0, 1, 1)', '(0, 1, 1, 0)', '(0, 0, 1, 1)']\n",
      "['(1, 0, 1, 1)', '(0, 1, 0, 1)', '(0, 1, 1, 1)', '(1, 1, 1, 0)']\n",
      "['(1, 0, 0, 1)', '(1, 0, 1, 1)', '(0, 1, 0, 1)', '(1, 0, 1, 0)']\n",
      "['(1, 0, 1, 1)', '(0, 1, 1, 0)', '(0, 1, 0, 1)', '(0, 0, 1, 1)']\n",
      "['(1, 1, 0, 1)', '(1, 0, 1, 1)', '(0, 1, 0, 1)', '(0, 0, 1, 0)']\n",
      "['(1, 0, 0, 1)', '(1, 0, 1, 1)', '(0, 1, 0, 0)', '(1, 1, 1, 0)']\n",
      "['(1, 0, 1, 1)', '(0, 1, 0, 0)', '(0, 0, 1, 1)', '(1, 0, 1, 0)']\n",
      "['(1, 1, 0, 1)', '(1, 0, 1, 1)', '(0, 1, 0, 0)', '(0, 1, 1, 1)']\n",
      "['(1, 0, 1, 1)', '(0, 1, 0, 0)', '(0, 1, 1, 1)', '(0, 1, 1, 0)']\n",
      "['(1, 0, 1, 1)', '(0, 1, 0, 0)', '(0, 1, 0, 1)', '(0, 0, 1, 1)']\n",
      "['(1, 0, 1, 1)', '(0, 1, 0, 0)', '(0, 0, 1, 0)', '(0, 0, 0, 1)']\n",
      "['(1, 1, 0, 1)', '(0, 1, 1, 1)', '(1, 0, 1, 0)', '(1, 1, 1, 0)']\n",
      "['(1, 0, 0, 1)', '(0, 1, 1, 0)', '(1, 0, 1, 0)', '(1, 1, 1, 0)']\n",
      "['(0, 0, 1, 1)', '(1, 0, 1, 0)', '(1, 1, 1, 0)', '(0, 1, 0, 1)']\n",
      "['(0, 0, 1, 0)', '(0, 0, 0, 1)', '(1, 0, 1, 0)', '(1, 1, 1, 0)']\n",
      "['(1, 1, 0, 1)', '(0, 1, 1, 1)', '(1, 0, 1, 0)', '(1, 1, 1, 0)']\n",
      "['(1, 1, 0, 1)', '(0, 1, 1, 1)', '(0, 0, 1, 1)', '(1, 0, 1, 0)']\n",
      "['(1, 1, 0, 1)', '(0, 1, 1, 0)', '(0, 1, 0, 1)', '(1, 0, 1, 0)']\n",
      "['(1, 1, 0, 1)', '(1, 0, 1, 1)', '(0, 0, 1, 1)', '(1, 0, 1, 0)']\n",
      "['(1, 1, 0, 1)', '(1, 0, 0, 1)', '(0, 0, 1, 0)', '(1, 0, 1, 0)']\n",
      "['(0, 0, 0, 1)', '(1, 1, 0, 0)', '(1, 0, 1, 0)', '(1, 1, 1, 0)']\n",
      "['(1, 0, 1, 1)', '(0, 0, 1, 1)', '(1, 1, 0, 0)', '(1, 0, 1, 0)']\n",
      "['(1, 0, 1, 1)', '(0, 1, 1, 1)', '(1, 1, 0, 0)', '(1, 0, 1, 0)']\n",
      "['(0, 1, 1, 1)', '(0, 1, 1, 0)', '(1, 1, 0, 0)', '(1, 0, 1, 0)']\n",
      "['(1, 1, 0, 1)', '(0, 0, 1, 1)', '(1, 1, 0, 0)', '(1, 0, 1, 0)']\n",
      "['(0, 1, 0, 1)', '(0, 0, 1, 0)', '(1, 1, 0, 0)', '(1, 0, 1, 0)']\n",
      "['(1, 0, 0, 1)', '(0, 1, 1, 1)', '(1, 0, 1, 0)', '(1, 1, 1, 0)']\n",
      "['(1, 0, 1, 1)', '(0, 1, 0, 1)', '(0, 1, 1, 1)', '(1, 0, 1, 0)']\n",
      "['(1, 1, 0, 1)', '(0, 1, 1, 0)', '(0, 1, 1, 1)', '(1, 0, 1, 0)']\n",
      "['(0, 1, 1, 1)', '(0, 0, 1, 1)', '(0, 0, 0, 1)', '(1, 0, 1, 0)']\n",
      "['(0, 1, 1, 0)', '(1, 0, 1, 0)', '(1, 1, 1, 0)', '(0, 1, 0, 1)']\n",
      "['(1, 0, 0, 1)', '(1, 0, 1, 1)', '(0, 1, 1, 0)', '(1, 0, 1, 0)']\n",
      "['(0, 1, 1, 0)', '(0, 1, 1, 1)', '(0, 0, 0, 1)', '(1, 0, 1, 0)']\n",
      "['(1, 1, 0, 1)', '(0, 1, 1, 0)', '(0, 0, 1, 0)', '(1, 0, 1, 0)']\n",
      "['(0, 1, 0, 1)', '(0, 0, 1, 1)', '(1, 0, 1, 0)', '(1, 1, 1, 0)']\n",
      "['(1, 1, 0, 1)', '(1, 0, 1, 1)', '(0, 1, 0, 1)', '(1, 0, 1, 0)']\n",
      "['(1, 0, 0, 1)', '(0, 1, 0, 1)', '(0, 1, 1, 1)', '(1, 0, 1, 0)']\n",
      "['(0, 1, 1, 0)', '(0, 1, 0, 1)', '(0, 0, 0, 1)', '(1, 0, 1, 0)']\n",
      "['(0, 1, 0, 1)', '(0, 1, 1, 1)', '(0, 0, 1, 1)', '(1, 0, 1, 0)']\n",
      "['(1, 0, 1, 1)', '(0, 1, 0, 1)', '(0, 0, 1, 0)', '(1, 0, 1, 0)']\n",
      "['(1, 0, 1, 1)', '(0, 1, 0, 0)', '(0, 1, 1, 1)', '(1, 0, 1, 0)']\n",
      "['(0, 1, 0, 0)', '(0, 1, 1, 1)', '(0, 1, 0, 1)', '(1, 0, 1, 0)']\n",
      "['(1, 0, 1, 1)', '(0, 1, 0, 0)', '(0, 1, 1, 0)', '(1, 0, 1, 0)']\n",
      "['(1, 0, 0, 1)', '(0, 1, 0, 0)', '(0, 0, 1, 1)', '(1, 0, 1, 0)']\n",
      "['(0, 1, 0, 0)', '(0, 0, 1, 0)', '(0, 0, 1, 1)', '(1, 0, 1, 0)']\n",
      "['(1, 0, 0, 1)', '(1, 0, 1, 1)', '(0, 0, 1, 1)', '(1, 1, 1, 0)']\n",
      "['(1, 0, 0, 1)', '(0, 0, 0, 1)', '(1, 0, 1, 0)', '(1, 1, 1, 0)']\n",
      "['(1, 0, 0, 1)', '(0, 1, 1, 1)', '(1, 1, 1, 0)', '(0, 1, 0, 1)']\n",
      "['(1, 0, 0, 1)', '(0, 1, 1, 1)', '(0, 0, 1, 1)', '(1, 1, 1, 0)']\n",
      "['(1, 0, 0, 1)', '(1, 1, 0, 1)', '(0, 0, 1, 0)', '(1, 1, 1, 0)']\n",
      "['(1, 0, 0, 1)', '(1, 1, 0, 1)', '(0, 0, 0, 1)', '(1, 1, 1, 0)']\n",
      "['(1, 0, 0, 1)', '(1, 1, 0, 1)', '(0, 0, 1, 1)', '(1, 0, 1, 0)']\n",
      "['(1, 0, 0, 1)', '(1, 1, 0, 1)', '(0, 1, 1, 0)', '(0, 1, 1, 1)']\n",
      "['(1, 0, 0, 1)', '(1, 1, 0, 1)', '(0, 1, 0, 1)', '(0, 0, 1, 0)']\n",
      "['(1, 0, 0, 1)', '(0, 1, 0, 1)', '(1, 1, 0, 0)', '(1, 1, 1, 0)']\n",
      "['(1, 0, 0, 1)', '(1, 0, 1, 1)', '(0, 1, 1, 1)', '(1, 1, 0, 0)']\n",
      "['(1, 0, 0, 1)', '(1, 1, 0, 1)', '(0, 1, 1, 1)', '(1, 1, 0, 0)']\n",
      "['(1, 0, 0, 1)', '(0, 1, 1, 0)', '(0, 0, 0, 1)', '(1, 1, 0, 0)']\n",
      "['(1, 0, 0, 1)', '(1, 0, 1, 1)', '(0, 0, 1, 1)', '(1, 1, 0, 0)']\n",
      "['(1, 0, 0, 1)', '(0, 0, 1, 0)', '(0, 0, 1, 1)', '(1, 1, 0, 0)']\n",
      "['(1, 0, 0, 1)', '(0, 1, 1, 1)', '(0, 0, 1, 1)', '(1, 1, 1, 0)']\n",
      "['(1, 0, 0, 1)', '(1, 1, 0, 1)', '(0, 1, 1, 1)', '(1, 0, 1, 0)']\n",
      "['(1, 0, 0, 1)', '(0, 1, 1, 0)', '(0, 1, 0, 1)', '(0, 1, 1, 1)']\n",
      "['(1, 0, 0, 1)', '(1, 0, 1, 1)', '(0, 1, 1, 1)', '(0, 0, 1, 0)']\n",
      "['(1, 0, 0, 1)', '(1, 0, 1, 1)', '(0, 1, 1, 0)', '(0, 1, 0, 1)']\n",
      "['(1, 0, 0, 1)', '(1, 0, 1, 1)', '(0, 1, 1, 0)', '(1, 0, 1, 0)']\n",
      "['(1, 0, 0, 1)', '(0, 1, 1, 0)', '(0, 1, 1, 1)', '(0, 0, 1, 1)']\n",
      "['(1, 0, 0, 1)', '(0, 1, 1, 0)', '(0, 0, 1, 1)', '(0, 0, 0, 1)']\n",
      "['(1, 0, 0, 1)', '(0, 1, 1, 0)', '(0, 1, 1, 1)', '(0, 0, 1, 0)']\n",
      "['(1, 0, 0, 1)', '(1, 0, 1, 1)', '(0, 1, 0, 1)', '(1, 1, 1, 0)']\n",
      "['(1, 0, 0, 1)', '(0, 1, 0, 1)', '(0, 1, 1, 1)', '(1, 0, 1, 0)']\n",
      "['(1, 0, 0, 1)', '(1, 1, 0, 1)', '(0, 1, 1, 0)', '(0, 1, 0, 1)']\n",
      "['(1, 0, 0, 1)', '(0, 1, 0, 1)', '(0, 0, 1, 0)', '(0, 0, 0, 1)']\n",
      "['(1, 0, 0, 1)', '(0, 1, 0, 0)', '(0, 1, 1, 1)', '(1, 1, 1, 0)']\n",
      "['(1, 0, 0, 1)', '(1, 0, 1, 1)', '(0, 1, 0, 0)', '(0, 0, 0, 1)']\n",
      "['(1, 0, 0, 1)', '(0, 1, 0, 0)', '(0, 1, 0, 1)', '(1, 0, 1, 0)']\n",
      "['(1, 0, 0, 1)', '(1, 0, 1, 1)', '(0, 1, 0, 0)', '(0, 1, 1, 1)']\n",
      "['(1, 0, 0, 1)', '(0, 1, 0, 0)', '(0, 1, 1, 0)', '(0, 0, 1, 1)']\n",
      "['(1, 0, 0, 1)', '(1, 1, 0, 1)', '(0, 1, 0, 0)', '(0, 0, 1, 1)']\n",
      "['(1, 0, 1, 1)', '(0, 1, 1, 1)', '(1, 0, 0, 0)', '(1, 1, 1, 0)']\n",
      "['(1, 0, 0, 0)', '(1, 0, 1, 0)', '(1, 1, 1, 0)', '(0, 1, 0, 1)']\n",
      "['(0, 1, 1, 1)', '(0, 0, 1, 1)', '(1, 0, 0, 0)', '(1, 1, 1, 0)']\n",
      "['(1, 1, 0, 1)', '(0, 1, 1, 0)', '(1, 0, 0, 0)', '(1, 1, 1, 0)']\n",
      "['(0, 0, 1, 1)', '(0, 0, 0, 1)', '(1, 0, 0, 0)', '(1, 1, 1, 0)']\n",
      "['(1, 1, 0, 1)', '(0, 0, 1, 1)', '(1, 0, 0, 0)', '(1, 1, 1, 0)']\n",
      "['(1, 0, 1, 1)', '(1, 1, 0, 1)', '(0, 1, 1, 1)', '(1, 0, 0, 0)']\n",
      "['(1, 1, 0, 1)', '(1, 0, 0, 1)', '(0, 1, 1, 0)', '(1, 0, 0, 0)']\n",
      "['(1, 1, 0, 1)', '(0, 1, 1, 1)', '(0, 0, 1, 1)', '(1, 0, 0, 0)']\n",
      "['(1, 1, 0, 1)', '(0, 0, 1, 0)', '(0, 0, 0, 1)', '(1, 0, 0, 0)']\n",
      "['(0, 1, 1, 1)', '(1, 0, 0, 0)', '(1, 1, 0, 0)', '(1, 1, 1, 0)']\n",
      "['(0, 0, 0, 1)', '(1, 0, 0, 0)', '(1, 1, 0, 0)', '(1, 0, 1, 0)']\n",
      "['(0, 1, 1, 1)', '(0, 1, 0, 1)', '(1, 0, 0, 0)', '(1, 1, 0, 0)']\n",
      "['(0, 1, 1, 0)', '(0, 0, 1, 1)', '(1, 0, 0, 0)', '(1, 1, 0, 0)']\n",
      "['(1, 0, 0, 1)', '(0, 0, 1, 1)', '(1, 0, 0, 0)', '(1, 1, 0, 0)']\n",
      "['(1, 1, 0, 1)', '(0, 0, 1, 0)', '(1, 0, 0, 0)', '(1, 1, 0, 0)']\n",
      "['(0, 1, 0, 1)', '(0, 1, 1, 1)', '(1, 0, 0, 0)', '(1, 1, 1, 0)']\n",
      "['(1, 0, 1, 1)', '(0, 1, 1, 1)', '(0, 0, 0, 1)', '(1, 0, 0, 0)']\n",
      "['(1, 0, 0, 1)', '(0, 1, 1, 1)', '(1, 0, 0, 0)', '(1, 0, 1, 0)']\n",
      "['(1, 0, 1, 1)', '(0, 1, 1, 0)', '(0, 1, 1, 1)', '(1, 0, 0, 0)']\n",
      "['(1, 1, 0, 1)', '(0, 1, 1, 1)', '(0, 0, 1, 1)', '(1, 0, 0, 0)']\n",
      "['(0, 1, 1, 1)', '(0, 0, 1, 0)', '(0, 0, 1, 1)', '(1, 0, 0, 0)']\n",
      "['(1, 0, 1, 1)', '(0, 1, 1, 0)', '(1, 0, 0, 0)', '(1, 1, 1, 0)']\n",
      "['(1, 0, 1, 1)', '(0, 1, 1, 0)', '(0, 0, 1, 1)', '(1, 0, 0, 0)']\n",
      "['(0, 1, 1, 0)', '(0, 1, 1, 1)', '(1, 0, 0, 0)', '(1, 0, 1, 0)']\n",
      "['(1, 1, 0, 1)', '(0, 1, 1, 0)', '(0, 1, 1, 1)', '(1, 0, 0, 0)']\n",
      "['(0, 1, 1, 0)', '(0, 0, 1, 1)', '(1, 0, 0, 0)', '(0, 1, 0, 1)']\n",
      "['(1, 0, 0, 1)', '(0, 1, 1, 0)', '(0, 0, 1, 0)', '(1, 0, 0, 0)']\n",
      "['(1, 0, 1, 1)', '(1, 0, 0, 1)', '(0, 1, 0, 1)', '(1, 0, 0, 0)']\n",
      "['(0, 1, 0, 1)', '(0, 0, 1, 1)', '(1, 0, 0, 0)', '(1, 0, 1, 0)']\n",
      "['(0, 1, 0, 1)', '(0, 1, 1, 1)', '(0, 0, 0, 1)', '(1, 0, 0, 0)']\n",
      "['(0, 1, 1, 0)', '(0, 1, 0, 1)', '(0, 1, 1, 1)', '(1, 0, 0, 0)']\n",
      "['(1, 0, 1, 1)', '(0, 1, 0, 1)', '(0, 0, 1, 1)', '(1, 0, 0, 0)']\n",
      "['(0, 1, 0, 0)', '(0, 0, 0, 1)', '(1, 0, 0, 0)', '(1, 1, 1, 0)']\n",
      "['(1, 0, 1, 1)', '(1, 1, 0, 1)', '(0, 1, 0, 0)', '(1, 0, 0, 0)']\n",
      "['(1, 0, 1, 1)', '(0, 1, 0, 0)', '(1, 0, 0, 0)', '(1, 0, 1, 0)']\n",
      "['(1, 0, 0, 1)', '(0, 1, 0, 0)', '(0, 1, 1, 1)', '(1, 0, 0, 0)']\n",
      "['(0, 1, 0, 0)', '(0, 1, 1, 0)', '(0, 1, 0, 1)', '(1, 0, 0, 0)']\n",
      "['(0, 1, 0, 0)', '(0, 1, 1, 1)', '(0, 0, 1, 0)', '(1, 0, 0, 0)']\n"
     ]
    }
   ],
   "source": [
    "#Play around with the vertex labeling. It can get pretty crazy as n grows.\n",
    "graphs_ = []\n",
    "for j,r_s in enumerate(fact_fixed_conj):\n",
    "    Mlist = get_adj_matrix(r_s)\n",
    "    #[M1,M2,M3]=get_adj_matrix(rrr[0])\n",
    "    Dlist= [DiGraph(adj_m) for adj_m in Mlist]\n",
    "    alledge=[]\n",
    "    for i in range(n):\n",
    "        for u,v,l in Dlist[i].edges():\n",
    "            Dlist[i].set_edge_label(u,v,str(i))\n",
    "        alledge = alledge+Dlist[i].edges()\n",
    "    D=DiGraph()\n",
    "    D.add_edges(alledge)\n",
    "    D.relabel(vertex)\n",
    "    G=D.to_undirected()\n",
    "\n",
    "    seed = [v for v in G if G.degree(v) == n]\n",
    "    for v in seed:\n",
    "        print(G.neighbors(v))\n",
    "    #graphs_.append([G.plot(color_by_label=True,vertex_size=10,layout='spring',vertex_labels=True)])\n",
    "\n",
    "\n",
    "\n",
    "#grid = GraphicsArray(graphs_[0:10])\n",
    "#grid.show(figsize=10)\n",
    "#grid.save('tree_2_2.png',figsize=50)\n",
    "\n"
   ]
  },
  {
   "cell_type": "code",
   "execution_count": null,
   "metadata": {},
   "outputs": [],
   "source": [
    "fact_fixed_conj"
   ]
  },
  {
   "cell_type": "code",
   "execution_count": null,
   "metadata": {},
   "outputs": [],
   "source": [
    "def t(n,q):\n",
    "    return (gaussian_binomial(n,1,q=q))^(n-2)\n",
    "    "
   ]
  },
  {
   "cell_type": "code",
   "execution_count": null,
   "metadata": {},
   "outputs": [],
   "source": [
    "t(n,q)"
   ]
  },
  {
   "cell_type": "code",
   "execution_count": null,
   "metadata": {},
   "outputs": [],
   "source": []
  },
  {
   "cell_type": "code",
   "execution_count": null,
   "metadata": {},
   "outputs": [],
   "source": [
    "n=4\n",
    "q=2\n",
    "nq *sum(gaussian_binomial(n-2,k,q=q)*t(k+1,2)*t(n-k-1,2) for k in range(n-2))"
   ]
  },
  {
   "cell_type": "code",
   "execution_count": null,
   "metadata": {},
   "outputs": [],
   "source": [
    "from sage.combinat.q_analogues import q_catalan_number\n",
    "q_catalan_number(Integer(2))"
   ]
  },
  {
   "cell_type": "code",
   "execution_count": null,
   "metadata": {},
   "outputs": [],
   "source": [
    "from sage.plot.graphics import GraphicsArray\n"
   ]
  },
  {
   "cell_type": "code",
   "execution_count": null,
   "metadata": {
    "jupyter": {
     "source_hidden": true
    }
   },
   "outputs": [],
   "source": [
    "#fact = factorization, c = singer\n",
    "#returns the cyclic orbit\n",
    "def cyclic_orbit(fact, c):\n",
    "    cyclic=[]\n",
    "    while 1:\n",
    "        f = fact[-1]\n",
    "        fact.remove(f)\n",
    "        fact.insert(0,c*f*c^(-1))\n",
    "        if fact not in cyclic:\n",
    "            cyclic.append(copy(fact))\n",
    "        else:\n",
    "            break\n",
    "    return cyclic"
   ]
  },
  {
   "cell_type": "code",
   "execution_count": null,
   "metadata": {},
   "outputs": [],
   "source": [
    "for f in fact_g:\n",
    "    cyc = cyclic_orbit(f,prod(f))\n",
    "    if len(cyc) == 13:\n",
    "        thef = f"
   ]
  },
  {
   "cell_type": "code",
   "execution_count": null,
   "metadata": {},
   "outputs": [],
   "source": []
  },
  {
   "cell_type": "code",
   "execution_count": null,
   "metadata": {},
   "outputs": [],
   "source": [
    "for new in newlist:\n",
    "    for rrr in new:    \n",
    "        symm=[]\n",
    "        Mlist =get_adj_matrix(rrr)\n",
    "        for m in Mlist:\n",
    "            D= DiGraph(m)\n",
    "            G=D.to_directed()\n",
    "            #G.show()\n",
    "            cycle = G.all_simple_cycles()\n",
    "            #print(edge)\n",
    "            tup=[]\n",
    "            for c in cycle:\n",
    "                newc=[x+1 for x in c[1:]]\n",
    "                tup.append(tuple(newc))\n",
    "            #print(tup)\n",
    "            refl = GG(tup)\n",
    "            symm.append(refl)\n",
    "        print(symm,prod(symm))\n",
    "    print('skip')"
   ]
  },
  {
   "cell_type": "code",
   "execution_count": null,
   "metadata": {},
   "outputs": [],
   "source": [
    "alledge"
   ]
  },
  {
   "cell_type": "code",
   "execution_count": null,
   "metadata": {},
   "outputs": [],
   "source": [
    "for rrr in fact_g:\n",
    "    [M1,M2,M3]=get_adj_matrix(rrr)\n",
    "    Dlist=DiGraph(M1),DiGraph(M2),DiGraph(M3)\n",
    "    alledge=[]\n",
    "    for i in range(n):\n",
    "        for u,v,l in Dlist[i].edges():\n",
    "            Dlist[i].set_edge_label(u,v,str(i))\n",
    "        alledge = alledge+Dlist[i].edges()\n",
    "    D=DiGraph()\n",
    "    D.add_edges(alledge)\n",
    "    D.relabel(vertex)\n",
    "    G=D.to_undirected()\n",
    "    #G.delete_vertices([vertex[0],vertex[1],vertex[4]])\n",
    "    G.graphplot(color_by_label=True,vertex_size=0,layout='spring').show()\n",
    "print('skip')"
   ]
  },
  {
   "cell_type": "code",
   "execution_count": null,
   "metadata": {},
   "outputs": [],
   "source": [
    "for rrr in fact_g:    \n",
    "    symm=[]\n",
    "    Mlist =get_adj_matrix(rrr)\n",
    "    for m in Mlist:\n",
    "        D= DiGraph(m)\n",
    "        G=D.to_directed()\n",
    "        #G.show()\n",
    "        cycle = G.all_simple_cycles()\n",
    "        #print(edge)\n",
    "        tup=[]\n",
    "        for c in cycle:\n",
    "            newc=[x+1 for x in c[1:]]\n",
    "            tup.append(tuple(newc))\n",
    "        #print(tup)\n",
    "        refl = GG(tup)\n",
    "        symm.append(refl)\n",
    "    print(symm,prod(symm))"
   ]
  },
  {
   "cell_type": "code",
   "execution_count": null,
   "metadata": {},
   "outputs": [],
   "source": [
    "str(5)"
   ]
  },
  {
   "cell_type": "code",
   "execution_count": null,
   "metadata": {},
   "outputs": [],
   "source": [
    "\n",
    "for new in newlist:\n",
    "    for rrr in new:    \n",
    "        symm=[]\n",
    "        Mlist =get_adj_matrix(rrr)\n",
    "        for m in Mlist:\n",
    "            D= DiGraph(m)\n",
    "            G=D.to_directed()\n",
    "            #G.show()\n",
    "            cycle = G.all_simple_cycles()\n",
    "            #print(edge)\n",
    "            tup=[]\n",
    "            for c in cycle:\n",
    "                newc=[x+1 for x in c[1:]]\n",
    "                tup.append(tuple(newc))\n",
    "            #print(tup)\n",
    "            refl = GG(tup)\n",
    "            symm.append(refl)\n",
    "        print(symm,prod(symm))\n",
    "    print('skip')"
   ]
  },
  {
   "cell_type": "code",
   "execution_count": null,
   "metadata": {},
   "outputs": [],
   "source": [
    "for new in newlist: \n",
    "    for rrr in new:\n",
    "        [M1,M2,M3]=get_adj_matrix(rrr)\n",
    "        Dlist=DiGraph(M1),DiGraph(M2),DiGraph(M3)\n",
    "        alledge=[]\n",
    "        for i in range(n):\n",
    "            for u,v,l in Dlist[i].edges():\n",
    "                Dlist[i].set_edge_label(u,v,str(i))\n",
    "            alledge = alledge+Dlist[i].edges()\n",
    "        D=DiGraph()\n",
    "        D.add_edges(alledge)\n",
    "        D.relabel(vertex)\n",
    "        G=D.to_undirected()\n",
    "        #G.delete_vertices([vertex[0],vertex[1],vertex[4]])\n",
    "        G.graphplot(color_by_label=True,vertex_size=0,layout='spring').show()\n",
    "    print('skip')"
   ]
  },
  {
   "cell_type": "code",
   "execution_count": null,
   "metadata": {},
   "outputs": [],
   "source": []
  },
  {
   "cell_type": "code",
   "execution_count": null,
   "metadata": {
    "collapsed": false,
    "jupyter": {
     "outputs_hidden": false
    }
   },
   "outputs": [],
   "source": [
    "def labeled_tree2fact(ep):\n",
    "    return [(e[0]+1,e[1]+1) for e in ep]\n",
    "\n",
    "GG=SymmetricGroup(nq)"
   ]
  },
  {
   "cell_type": "code",
   "execution_count": null,
   "metadata": {},
   "outputs": [],
   "source": [
    "def is_reflection(g):\n",
    "    n = G.degree()\n",
    "    M = g.matrix() - (G[0]^0).matrix()\n",
    "    KM = M.kernel()\n",
    "    return KM.dimension() == n-1\n",
    "\n",
    "def is_transvection(g):\n",
    "    return is_reflection(g) and M(g).determinant() == 1\n",
    "\n",
    "\n",
    "def get_transvections(): #find all transvection in a list\n",
    "    R = []\n",
    "    for g in G:\n",
    "        if is_transvection(g):\n",
    "            R.append(g)\n",
    "    return R\n",
    "\n",
    "def get_refls(): #find all reflections in a list\n",
    "    R = []\n",
    "    for g in G:\n",
    "        if is_reflection(g):\n",
    "            R.append(g)\n",
    "    return R\n",
    "def get_fact(R,c):#given a list of reflections and a singer cycle returns the list of factorization in reflections\n",
    "    F = []\n",
    "    for i in product(range(len(R)),repeat = G.degree()):\n",
    "        if mul([R[i[k]] for k in range(G.degree())]) == c:\n",
    "            F.append([R[i[k]] for k in range(G.degree())])\n",
    "    return F"
   ]
  },
  {
   "cell_type": "code",
   "execution_count": null,
   "metadata": {},
   "outputs": [],
   "source": [
    "R=get_refls()\n",
    "fact1=get_fact(R,sing[0])"
   ]
  },
  {
   "cell_type": "code",
   "execution_count": null,
   "metadata": {},
   "outputs": [],
   "source": [
    "len(fact1)"
   ]
  },
  {
   "cell_type": "code",
   "execution_count": null,
   "metadata": {},
   "outputs": [],
   "source": [
    "#for new in fact_g:\n",
    "    #print('space')\n",
    "for rrr in fact1:  \n",
    "    symm=[]\n",
    "    Mlist =get_adj_matrix(rrr)\n",
    "    for m in Mlist:\n",
    "        D= DiGraph(m)\n",
    "        G=D.to_undirected()\n",
    "        edge = labeled_tree2fact(G.edges())\n",
    "        refl = GG(edge)\n",
    "        symm.append(refl)\n",
    "    print(symm,prod(symm))"
   ]
  },
  {
   "cell_type": "code",
   "execution_count": null,
   "metadata": {},
   "outputs": [],
   "source": [
    "vertex"
   ]
  },
  {
   "cell_type": "code",
   "execution_count": null,
   "metadata": {
    "collapsed": false,
    "jupyter": {
     "outputs_hidden": false
    }
   },
   "outputs": [],
   "source": [
    "#for new in fact_g:\n",
    "    #print('space')\n",
    "for rrr in fact_g:  \n",
    "    symm=[]\n",
    "    Mlist =get_adj_matrix(rrr)\n",
    "    for m in Mlist:\n",
    "        D= DiGraph(m)\n",
    "        G=D.to_undirected()\n",
    "        edge = labeled_tree2fact(G.edges())\n",
    "        refl = GG(edge[1:4])\n",
    "        symm.append(refl)\n",
    "    print(symm,prod(symm))"
   ]
  },
  {
   "cell_type": "code",
   "execution_count": null,
   "metadata": {},
   "outputs": [],
   "source": [
    "fact_g[1],prod(fact_g[1])"
   ]
  },
  {
   "cell_type": "code",
   "execution_count": null,
   "metadata": {},
   "outputs": [],
   "source": [
    "#for new in fact_g:\n",
    "    #print('space')\n",
    "for rrr in fact_g:  \n",
    "    symm=[]\n",
    "    Mlist =get_adj_matrix(rrr)\n",
    "    for m in Mlist:\n",
    "        D= DiGraph(m)\n",
    "        G=D.to_undirected()\n",
    "        edge = labeled_tree2fact(G.edges())\n",
    "        refl = GG(edge)\n",
    "        symm.append(refl)\n",
    "    print(symm,prod(symm))"
   ]
  }
 ],
 "metadata": {
  "kernelspec": {
   "display_name": "SageMath 10.3",
   "language": "sage",
   "name": "sagemath-10.3"
  },
  "language_info": {
   "codemirror_mode": {
    "name": "ipython",
    "version": 3
   },
   "file_extension": ".py",
   "mimetype": "text/x-python",
   "name": "python",
   "nbconvert_exporter": "python",
   "pygments_lexer": "ipython3",
   "version": "3.11.8"
  }
 },
 "nbformat": 4,
 "nbformat_minor": 4
}
